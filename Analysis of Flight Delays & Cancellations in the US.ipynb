{
 "cells": [
  {
   "cell_type": "markdown",
   "metadata": {},
   "source": [
    "###                     ANALYSIS : PATTERNS IN FLIGHT DELAYS & CANCELLATIONS IN THE UNITED STATES"
   ]
  },
  {
   "cell_type": "markdown",
   "metadata": {},
   "source": [
    "### Introduction"
   ]
  },
  {
   "cell_type": "markdown",
   "metadata": {},
   "source": [
    "The primary goal of the project is to analyze and recognize the factors that lead to delays and cancellations of flights in the United States. The factors that have been analysed are Seasons, months, day of the week, holidays, origin airports, reasons for cancellations/delays, regions and Airlines."
   ]
  },
  {
   "cell_type": "markdown",
   "metadata": {},
   "source": [
    "Travel websites (Skyscanner, kayak etc.) traditionally provide only the price information to their customers. Our analysis coupled with their price information can help customers make a much more informed decision while planning their travel.\n",
    "\n",
    "This analysis can also be useful to the different Airlines & Airport Authorities to recognize the patterns and factors that lead to delays and cancellations of flights. Thereby, they can come up with solutions and thus provide better Airline performance and customer satisfaction."
   ]
  },
  {
   "cell_type": "markdown",
   "metadata": {},
   "source": [
    "### Data Sources"
   ]
  },
  {
   "cell_type": "markdown",
   "metadata": {},
   "source": [
    "• Airline On Time Performance data: The data for all carriers provided by U.S. Department of Transportation's (DOT) Bureau of Transportation is available for download in csv format at the website. It contains information like Airline Carrier, Origin Airport, Destination Airport, Day, month, Actual departure time, Departure Delay, Arrival Time, Arrival Delay, Distance between airports, flight time and various other factors. Also, info on some of the variables in this dataset will be merged with their look up tables (such as Carrier, Arrival/Destination airport etc.) \n",
    "\n",
    "LINK : https://www.transtats.bts.gov/DL_SelectFields.asp?Table_ID=236\n",
    "\n",
    "\n",
    "• US holiday data: Information on US holidays scraped from online sources. The data contains date and holiday corresponding to it.\n",
    "\n",
    "LINK : https://www.calendar-365.com/holidays.html\n",
    "\n",
    "\n",
    "• Season Information data: Information regarding start and end of a season scraped from online sources. Data contains season, season start date, season end date etc.\n",
    "\n",
    "LINK : https://www.calendardate.com/year2018.php\n"
   ]
  },
  {
   "cell_type": "markdown",
   "metadata": {},
   "source": [
    "### Data Scraping, Merging and Manipulation"
   ]
  },
  {
   "cell_type": "code",
   "execution_count": 1,
   "metadata": {},
   "outputs": [],
   "source": [
    "import numpy as np\n",
    "import pandas as pd\n",
    "import os\n",
    "from datetime import *"
   ]
  },
  {
   "cell_type": "markdown",
   "metadata": {},
   "source": [
    "We have downloaded the data (as a csv file) for each month in 2018 from the DOT website. We created a list of those 12 csv file paths so that it becomes easy to combine them later."
   ]
  },
  {
   "cell_type": "code",
   "execution_count": 3,
   "metadata": {},
   "outputs": [],
   "source": [
    "root = './data/month_data/'\n",
    "allFiles = []\n",
    "for path,subdir,files in os.walk(root):\n",
    "    for name in files:\n",
    "        allFiles.append(os.path.join(path, name))"
   ]
  },
  {
   "cell_type": "code",
   "execution_count": 4,
   "metadata": {},
   "outputs": [
    {
     "data": {
      "text/plain": [
       "['./data/month_data/308097970_T_ONTIME_REPORTING_1\\\\308097970_T_ONTIME_REPORTING.csv',\n",
       " './data/month_data/308097970_T_ONTIME_REPORTING_2\\\\308097970_T_ONTIME_REPORTING.csv',\n",
       " './data/month_data/308099073_T_ONTIME_REPORTING_3\\\\308099073_T_ONTIME_REPORTING.csv',\n",
       " './data/month_data/308099073_T_ONTIME_REPORTING_4\\\\308099073_T_ONTIME_REPORTING.csv',\n",
       " './data/month_data/308099073_T_ONTIME_REPORTING_5\\\\308099073_T_ONTIME_REPORTING.csv',\n",
       " './data/month_data/308099073_T_ONTIME_REPORTING_6\\\\308099073_T_ONTIME_REPORTING.csv',\n",
       " './data/month_data/308100292_T_ONTIME_REPORTING_10\\\\308100292_T_ONTIME_REPORTING.csv',\n",
       " './data/month_data/308100292_T_ONTIME_REPORTING_11\\\\308100292_T_ONTIME_REPORTING.csv',\n",
       " './data/month_data/308100292_T_ONTIME_REPORTING_12\\\\308100292_T_ONTIME_REPORTING.csv',\n",
       " './data/month_data/308100292_T_ONTIME_REPORTING_7\\\\308100292_T_ONTIME_REPORTING.csv',\n",
       " './data/month_data/308100292_T_ONTIME_REPORTING_8\\\\308100292_T_ONTIME_REPORTING.csv',\n",
       " './data/month_data/308100292_T_ONTIME_REPORTING_9\\\\308100292_T_ONTIME_REPORTING.csv']"
      ]
     },
     "execution_count": 4,
     "metadata": {},
     "output_type": "execute_result"
    }
   ],
   "source": [
    "allFiles"
   ]
  },
  {
   "cell_type": "markdown",
   "metadata": {},
   "source": [
    "Creating Variables to store the required columns and their data types."
   ]
  },
  {
   "cell_type": "code",
   "execution_count": 5,
   "metadata": {},
   "outputs": [],
   "source": [
    "Cols = ['YEAR','MONTH','DAY_OF_MONTH','DAY_OF_WEEK','OP_CARRIER_AIRLINE_ID','OP_CARRIER','ORIGIN_AIRPORT_ID','ORIGIN','ORIGIN_CITY_NAME','ORIGIN_STATE_NM','DEST_AIRPORT_ID','DEST','DEST_CITY_NAME','DEST_STATE_NM','DEP_TIME','DEP_DELAY','DEP_TIME_BLK','ARR_TIME','ARR_DELAY','ARR_TIME_BLK','CANCELLED','CANCELLATION_CODE','DIVERTED','FLIGHTS','AIR_TIME','DISTANCE','CARRIER_DELAY', 'WEATHER_DELAY', 'NAS_DELAY', 'SECURITY_DELAY', 'LATE_AIRCRAFT_DELAY' ]\n",
    "dtypes = {\n",
    "'YEAR' : 'int16',\n",
    "'MONTH' : 'int8',\n",
    "'DAY_OF_MONTH' : 'int8',\n",
    "'DAY_OF_WEEK' : 'int8',\n",
    "'OP_CARRIER_AIRLINE_ID' : 'int16',\n",
    "'OP_CARRIER' : 'str',\n",
    "'ORIGIN_AIRPORT_ID' : 'int16',\n",
    "'ORIGIN' : 'str', \n",
    "'ORIGIN_CITY_NAME' : 'str',\n",
    "'ORIGIN_STATE_NM' : 'str',\n",
    "'DEST_AIRPORT_ID' : 'int16',\n",
    "'DEST' : 'str',\n",
    "'DEST_CITY_NAME' : 'str',\n",
    "'DEST_STATE_NM' : 'str',\n",
    "'DEP_TIME' : 'float32',\n",
    "'DEP_DELAY' : 'float32',\n",
    "'DEP_TIME_BLK' : 'str',\n",
    "'ARR_TIME' : 'float32',\n",
    "'ARR_DELAY' : 'float32',\n",
    "'ARR_TIME_BLK' : 'str',\n",
    "'CANCELLED' : 'float32',\n",
    "'CANCELLATION_CODE': 'str',\n",
    "'DIVERTED' : 'float32',\n",
    "'FLIGHTS' : 'int64',\n",
    "'AIR_TIME' : 'float32',\n",
    "'DISTANCE' : 'float32',\n",
    "'CARRIER_DELAY' : 'float32',\n",
    "'WEATHER_DELAY' : 'float32',\n",
    "'NAS_DELAY' : 'float32',\n",
    "'SECURITY_DELAY' : 'float32',\n",
    "'LATE_AIRCRAFT_DELAY' : 'float32'\n",
    "}"
   ]
  },
  {
   "cell_type": "markdown",
   "metadata": {},
   "source": [
    "### Concatinating the 12 months data to a single data frame"
   ]
  },
  {
   "cell_type": "code",
   "execution_count": 6,
   "metadata": {},
   "outputs": [
    {
     "data": {
      "text/html": [
       "<div>\n",
       "<style scoped>\n",
       "    .dataframe tbody tr th:only-of-type {\n",
       "        vertical-align: middle;\n",
       "    }\n",
       "\n",
       "    .dataframe tbody tr th {\n",
       "        vertical-align: top;\n",
       "    }\n",
       "\n",
       "    .dataframe thead th {\n",
       "        text-align: right;\n",
       "    }\n",
       "</style>\n",
       "<table border=\"1\" class=\"dataframe\">\n",
       "  <thead>\n",
       "    <tr style=\"text-align: right;\">\n",
       "      <th></th>\n",
       "      <th>YEAR</th>\n",
       "      <th>MONTH</th>\n",
       "      <th>DAY_OF_MONTH</th>\n",
       "      <th>DAY_OF_WEEK</th>\n",
       "      <th>OP_CARRIER_AIRLINE_ID</th>\n",
       "      <th>OP_CARRIER</th>\n",
       "      <th>ORIGIN_AIRPORT_ID</th>\n",
       "      <th>ORIGIN</th>\n",
       "      <th>ORIGIN_CITY_NAME</th>\n",
       "      <th>ORIGIN_STATE_NM</th>\n",
       "      <th>...</th>\n",
       "      <th>CANCELLATION_CODE</th>\n",
       "      <th>DIVERTED</th>\n",
       "      <th>AIR_TIME</th>\n",
       "      <th>FLIGHTS</th>\n",
       "      <th>DISTANCE</th>\n",
       "      <th>CARRIER_DELAY</th>\n",
       "      <th>WEATHER_DELAY</th>\n",
       "      <th>NAS_DELAY</th>\n",
       "      <th>SECURITY_DELAY</th>\n",
       "      <th>LATE_AIRCRAFT_DELAY</th>\n",
       "    </tr>\n",
       "  </thead>\n",
       "  <tbody>\n",
       "    <tr>\n",
       "      <th>0</th>\n",
       "      <td>2018</td>\n",
       "      <td>1</td>\n",
       "      <td>27</td>\n",
       "      <td>6</td>\n",
       "      <td>19977</td>\n",
       "      <td>UA</td>\n",
       "      <td>11697</td>\n",
       "      <td>FLL</td>\n",
       "      <td>Fort Lauderdale, FL</td>\n",
       "      <td>Florida</td>\n",
       "      <td>...</td>\n",
       "      <td>NaN</td>\n",
       "      <td>0.0</td>\n",
       "      <td>148.0</td>\n",
       "      <td>1</td>\n",
       "      <td>966.0</td>\n",
       "      <td>NaN</td>\n",
       "      <td>NaN</td>\n",
       "      <td>NaN</td>\n",
       "      <td>NaN</td>\n",
       "      <td>NaN</td>\n",
       "    </tr>\n",
       "    <tr>\n",
       "      <th>1</th>\n",
       "      <td>2018</td>\n",
       "      <td>1</td>\n",
       "      <td>27</td>\n",
       "      <td>6</td>\n",
       "      <td>19977</td>\n",
       "      <td>UA</td>\n",
       "      <td>14747</td>\n",
       "      <td>SEA</td>\n",
       "      <td>Seattle, WA</td>\n",
       "      <td>Washington</td>\n",
       "      <td>...</td>\n",
       "      <td>NaN</td>\n",
       "      <td>0.0</td>\n",
       "      <td>98.0</td>\n",
       "      <td>1</td>\n",
       "      <td>679.0</td>\n",
       "      <td>NaN</td>\n",
       "      <td>NaN</td>\n",
       "      <td>NaN</td>\n",
       "      <td>NaN</td>\n",
       "      <td>NaN</td>\n",
       "    </tr>\n",
       "    <tr>\n",
       "      <th>2</th>\n",
       "      <td>2018</td>\n",
       "      <td>1</td>\n",
       "      <td>27</td>\n",
       "      <td>6</td>\n",
       "      <td>19977</td>\n",
       "      <td>UA</td>\n",
       "      <td>11278</td>\n",
       "      <td>DCA</td>\n",
       "      <td>Washington, DC</td>\n",
       "      <td>Virginia</td>\n",
       "      <td>...</td>\n",
       "      <td>NaN</td>\n",
       "      <td>0.0</td>\n",
       "      <td>190.0</td>\n",
       "      <td>1</td>\n",
       "      <td>1208.0</td>\n",
       "      <td>NaN</td>\n",
       "      <td>NaN</td>\n",
       "      <td>NaN</td>\n",
       "      <td>NaN</td>\n",
       "      <td>NaN</td>\n",
       "    </tr>\n",
       "    <tr>\n",
       "      <th>3</th>\n",
       "      <td>2018</td>\n",
       "      <td>1</td>\n",
       "      <td>27</td>\n",
       "      <td>6</td>\n",
       "      <td>19977</td>\n",
       "      <td>UA</td>\n",
       "      <td>12892</td>\n",
       "      <td>LAX</td>\n",
       "      <td>Los Angeles, CA</td>\n",
       "      <td>California</td>\n",
       "      <td>...</td>\n",
       "      <td>NaN</td>\n",
       "      <td>0.0</td>\n",
       "      <td>212.0</td>\n",
       "      <td>1</td>\n",
       "      <td>1744.0</td>\n",
       "      <td>NaN</td>\n",
       "      <td>NaN</td>\n",
       "      <td>NaN</td>\n",
       "      <td>NaN</td>\n",
       "      <td>NaN</td>\n",
       "    </tr>\n",
       "    <tr>\n",
       "      <th>4</th>\n",
       "      <td>2018</td>\n",
       "      <td>1</td>\n",
       "      <td>27</td>\n",
       "      <td>6</td>\n",
       "      <td>19977</td>\n",
       "      <td>UA</td>\n",
       "      <td>12451</td>\n",
       "      <td>JAX</td>\n",
       "      <td>Jacksonville, FL</td>\n",
       "      <td>Florida</td>\n",
       "      <td>...</td>\n",
       "      <td>NaN</td>\n",
       "      <td>0.0</td>\n",
       "      <td>112.0</td>\n",
       "      <td>1</td>\n",
       "      <td>820.0</td>\n",
       "      <td>NaN</td>\n",
       "      <td>NaN</td>\n",
       "      <td>NaN</td>\n",
       "      <td>NaN</td>\n",
       "      <td>NaN</td>\n",
       "    </tr>\n",
       "  </tbody>\n",
       "</table>\n",
       "<p>5 rows × 31 columns</p>\n",
       "</div>"
      ],
      "text/plain": [
       "   YEAR  MONTH  DAY_OF_MONTH  DAY_OF_WEEK  OP_CARRIER_AIRLINE_ID OP_CARRIER  \\\n",
       "0  2018      1            27            6                  19977         UA   \n",
       "1  2018      1            27            6                  19977         UA   \n",
       "2  2018      1            27            6                  19977         UA   \n",
       "3  2018      1            27            6                  19977         UA   \n",
       "4  2018      1            27            6                  19977         UA   \n",
       "\n",
       "   ORIGIN_AIRPORT_ID ORIGIN     ORIGIN_CITY_NAME ORIGIN_STATE_NM  ...  \\\n",
       "0              11697    FLL  Fort Lauderdale, FL         Florida  ...   \n",
       "1              14747    SEA          Seattle, WA      Washington  ...   \n",
       "2              11278    DCA       Washington, DC        Virginia  ...   \n",
       "3              12892    LAX      Los Angeles, CA      California  ...   \n",
       "4              12451    JAX     Jacksonville, FL         Florida  ...   \n",
       "\n",
       "   CANCELLATION_CODE DIVERTED AIR_TIME FLIGHTS  DISTANCE  CARRIER_DELAY  \\\n",
       "0                NaN      0.0    148.0       1     966.0            NaN   \n",
       "1                NaN      0.0     98.0       1     679.0            NaN   \n",
       "2                NaN      0.0    190.0       1    1208.0            NaN   \n",
       "3                NaN      0.0    212.0       1    1744.0            NaN   \n",
       "4                NaN      0.0    112.0       1     820.0            NaN   \n",
       "\n",
       "  WEATHER_DELAY  NAS_DELAY  SECURITY_DELAY LATE_AIRCRAFT_DELAY  \n",
       "0           NaN        NaN             NaN                 NaN  \n",
       "1           NaN        NaN             NaN                 NaN  \n",
       "2           NaN        NaN             NaN                 NaN  \n",
       "3           NaN        NaN             NaN                 NaN  \n",
       "4           NaN        NaN             NaN                 NaN  \n",
       "\n",
       "[5 rows x 31 columns]"
      ]
     },
     "execution_count": 6,
     "metadata": {},
     "output_type": "execute_result"
    }
   ],
   "source": [
    "df1 = pd.concat([pd.read_csv(file, dtype=dtypes, usecols=Cols) for file in allFiles])\n",
    "df1.head()"
   ]
  },
  {
   "cell_type": "markdown",
   "metadata": {},
   "source": [
    "### Merging airlineDT lookup table with our dataframe using merge\n"
   ]
  },
  {
   "cell_type": "code",
   "execution_count": 7,
   "metadata": {},
   "outputs": [
    {
     "data": {
      "text/html": [
       "<div>\n",
       "<style scoped>\n",
       "    .dataframe tbody tr th:only-of-type {\n",
       "        vertical-align: middle;\n",
       "    }\n",
       "\n",
       "    .dataframe tbody tr th {\n",
       "        vertical-align: top;\n",
       "    }\n",
       "\n",
       "    .dataframe thead th {\n",
       "        text-align: right;\n",
       "    }\n",
       "</style>\n",
       "<table border=\"1\" class=\"dataframe\">\n",
       "  <thead>\n",
       "    <tr style=\"text-align: right;\">\n",
       "      <th></th>\n",
       "      <th>OP_CARRIER_AIRLINE_ID</th>\n",
       "      <th>Description</th>\n",
       "    </tr>\n",
       "  </thead>\n",
       "  <tbody>\n",
       "    <tr>\n",
       "      <th>0</th>\n",
       "      <td>19031</td>\n",
       "      <td>Mackey International Inc.: MAC</td>\n",
       "    </tr>\n",
       "    <tr>\n",
       "      <th>1</th>\n",
       "      <td>19032</td>\n",
       "      <td>Munz Northern Airlines Inc.: XY</td>\n",
       "    </tr>\n",
       "    <tr>\n",
       "      <th>2</th>\n",
       "      <td>19033</td>\n",
       "      <td>Cochise Airlines Inc.: COC</td>\n",
       "    </tr>\n",
       "    <tr>\n",
       "      <th>3</th>\n",
       "      <td>19034</td>\n",
       "      <td>Golden Gate Airlines Inc.: GSA</td>\n",
       "    </tr>\n",
       "    <tr>\n",
       "      <th>4</th>\n",
       "      <td>19035</td>\n",
       "      <td>Aeromech Inc.: RZZ</td>\n",
       "    </tr>\n",
       "  </tbody>\n",
       "</table>\n",
       "</div>"
      ],
      "text/plain": [
       "   OP_CARRIER_AIRLINE_ID                      Description\n",
       "0                  19031   Mackey International Inc.: MAC\n",
       "1                  19032  Munz Northern Airlines Inc.: XY\n",
       "2                  19033       Cochise Airlines Inc.: COC\n",
       "3                  19034   Golden Gate Airlines Inc.: GSA\n",
       "4                  19035               Aeromech Inc.: RZZ"
      ]
     },
     "execution_count": 7,
     "metadata": {},
     "output_type": "execute_result"
    }
   ],
   "source": [
    "airLineDT = pd.read_csv('./data/lookup_tables/L_AIRLINE_ID.csv',names = ['OP_CARRIER_AIRLINE_ID','Description'],dtype={'OP_CARRIER_AIRLINE_ID':'int16','Description':'str'},header=0)\n",
    "airLineDT.head()"
   ]
  },
  {
   "cell_type": "code",
   "execution_count": 8,
   "metadata": {},
   "outputs": [
    {
     "data": {
      "text/html": [
       "<div>\n",
       "<style scoped>\n",
       "    .dataframe tbody tr th:only-of-type {\n",
       "        vertical-align: middle;\n",
       "    }\n",
       "\n",
       "    .dataframe tbody tr th {\n",
       "        vertical-align: top;\n",
       "    }\n",
       "\n",
       "    .dataframe thead th {\n",
       "        text-align: right;\n",
       "    }\n",
       "</style>\n",
       "<table border=\"1\" class=\"dataframe\">\n",
       "  <thead>\n",
       "    <tr style=\"text-align: right;\">\n",
       "      <th></th>\n",
       "      <th>OP_CARRIER_AIRLINE_ID</th>\n",
       "      <th>Airlines</th>\n",
       "    </tr>\n",
       "  </thead>\n",
       "  <tbody>\n",
       "    <tr>\n",
       "      <th>0</th>\n",
       "      <td>19031</td>\n",
       "      <td>Mackey International Inc.</td>\n",
       "    </tr>\n",
       "    <tr>\n",
       "      <th>1</th>\n",
       "      <td>19032</td>\n",
       "      <td>Munz Northern Airlines Inc.</td>\n",
       "    </tr>\n",
       "    <tr>\n",
       "      <th>2</th>\n",
       "      <td>19033</td>\n",
       "      <td>Cochise Airlines Inc.</td>\n",
       "    </tr>\n",
       "    <tr>\n",
       "      <th>3</th>\n",
       "      <td>19034</td>\n",
       "      <td>Golden Gate Airlines Inc.</td>\n",
       "    </tr>\n",
       "    <tr>\n",
       "      <th>4</th>\n",
       "      <td>19035</td>\n",
       "      <td>Aeromech Inc.</td>\n",
       "    </tr>\n",
       "  </tbody>\n",
       "</table>\n",
       "</div>"
      ],
      "text/plain": [
       "   OP_CARRIER_AIRLINE_ID                     Airlines\n",
       "0                  19031    Mackey International Inc.\n",
       "1                  19032  Munz Northern Airlines Inc.\n",
       "2                  19033        Cochise Airlines Inc.\n",
       "3                  19034    Golden Gate Airlines Inc.\n",
       "4                  19035                Aeromech Inc."
      ]
     },
     "execution_count": 8,
     "metadata": {},
     "output_type": "execute_result"
    }
   ],
   "source": [
    "airLineDT['Airlines'] = airLineDT['Description'].str.split(':').str[0]\n",
    "airLineDT.drop(labels=['Description'],axis=1,inplace=True)\n",
    "airLineDT.head()"
   ]
  },
  {
   "cell_type": "code",
   "execution_count": 9,
   "metadata": {},
   "outputs": [
    {
     "data": {
      "text/html": [
       "<div>\n",
       "<style scoped>\n",
       "    .dataframe tbody tr th:only-of-type {\n",
       "        vertical-align: middle;\n",
       "    }\n",
       "\n",
       "    .dataframe tbody tr th {\n",
       "        vertical-align: top;\n",
       "    }\n",
       "\n",
       "    .dataframe thead th {\n",
       "        text-align: right;\n",
       "    }\n",
       "</style>\n",
       "<table border=\"1\" class=\"dataframe\">\n",
       "  <thead>\n",
       "    <tr style=\"text-align: right;\">\n",
       "      <th></th>\n",
       "      <th>YEAR</th>\n",
       "      <th>MONTH</th>\n",
       "      <th>DAY_OF_MONTH</th>\n",
       "      <th>DAY_OF_WEEK</th>\n",
       "      <th>OP_CARRIER_AIRLINE_ID</th>\n",
       "      <th>OP_CARRIER</th>\n",
       "      <th>ORIGIN_AIRPORT_ID</th>\n",
       "      <th>ORIGIN</th>\n",
       "      <th>ORIGIN_CITY_NAME</th>\n",
       "      <th>ORIGIN_STATE_NM</th>\n",
       "      <th>...</th>\n",
       "      <th>DIVERTED</th>\n",
       "      <th>AIR_TIME</th>\n",
       "      <th>FLIGHTS</th>\n",
       "      <th>DISTANCE</th>\n",
       "      <th>CARRIER_DELAY</th>\n",
       "      <th>WEATHER_DELAY</th>\n",
       "      <th>NAS_DELAY</th>\n",
       "      <th>SECURITY_DELAY</th>\n",
       "      <th>LATE_AIRCRAFT_DELAY</th>\n",
       "      <th>Airlines</th>\n",
       "    </tr>\n",
       "  </thead>\n",
       "  <tbody>\n",
       "    <tr>\n",
       "      <th>0</th>\n",
       "      <td>2018</td>\n",
       "      <td>1</td>\n",
       "      <td>27</td>\n",
       "      <td>6</td>\n",
       "      <td>19977</td>\n",
       "      <td>UA</td>\n",
       "      <td>11697</td>\n",
       "      <td>FLL</td>\n",
       "      <td>Fort Lauderdale, FL</td>\n",
       "      <td>Florida</td>\n",
       "      <td>...</td>\n",
       "      <td>0.0</td>\n",
       "      <td>148.0</td>\n",
       "      <td>1</td>\n",
       "      <td>966.0</td>\n",
       "      <td>NaN</td>\n",
       "      <td>NaN</td>\n",
       "      <td>NaN</td>\n",
       "      <td>NaN</td>\n",
       "      <td>NaN</td>\n",
       "      <td>United Air Lines Inc.</td>\n",
       "    </tr>\n",
       "    <tr>\n",
       "      <th>1</th>\n",
       "      <td>2018</td>\n",
       "      <td>1</td>\n",
       "      <td>27</td>\n",
       "      <td>6</td>\n",
       "      <td>19977</td>\n",
       "      <td>UA</td>\n",
       "      <td>14747</td>\n",
       "      <td>SEA</td>\n",
       "      <td>Seattle, WA</td>\n",
       "      <td>Washington</td>\n",
       "      <td>...</td>\n",
       "      <td>0.0</td>\n",
       "      <td>98.0</td>\n",
       "      <td>1</td>\n",
       "      <td>679.0</td>\n",
       "      <td>NaN</td>\n",
       "      <td>NaN</td>\n",
       "      <td>NaN</td>\n",
       "      <td>NaN</td>\n",
       "      <td>NaN</td>\n",
       "      <td>United Air Lines Inc.</td>\n",
       "    </tr>\n",
       "    <tr>\n",
       "      <th>2</th>\n",
       "      <td>2018</td>\n",
       "      <td>1</td>\n",
       "      <td>27</td>\n",
       "      <td>6</td>\n",
       "      <td>19977</td>\n",
       "      <td>UA</td>\n",
       "      <td>11278</td>\n",
       "      <td>DCA</td>\n",
       "      <td>Washington, DC</td>\n",
       "      <td>Virginia</td>\n",
       "      <td>...</td>\n",
       "      <td>0.0</td>\n",
       "      <td>190.0</td>\n",
       "      <td>1</td>\n",
       "      <td>1208.0</td>\n",
       "      <td>NaN</td>\n",
       "      <td>NaN</td>\n",
       "      <td>NaN</td>\n",
       "      <td>NaN</td>\n",
       "      <td>NaN</td>\n",
       "      <td>United Air Lines Inc.</td>\n",
       "    </tr>\n",
       "    <tr>\n",
       "      <th>3</th>\n",
       "      <td>2018</td>\n",
       "      <td>1</td>\n",
       "      <td>27</td>\n",
       "      <td>6</td>\n",
       "      <td>19977</td>\n",
       "      <td>UA</td>\n",
       "      <td>12892</td>\n",
       "      <td>LAX</td>\n",
       "      <td>Los Angeles, CA</td>\n",
       "      <td>California</td>\n",
       "      <td>...</td>\n",
       "      <td>0.0</td>\n",
       "      <td>212.0</td>\n",
       "      <td>1</td>\n",
       "      <td>1744.0</td>\n",
       "      <td>NaN</td>\n",
       "      <td>NaN</td>\n",
       "      <td>NaN</td>\n",
       "      <td>NaN</td>\n",
       "      <td>NaN</td>\n",
       "      <td>United Air Lines Inc.</td>\n",
       "    </tr>\n",
       "    <tr>\n",
       "      <th>4</th>\n",
       "      <td>2018</td>\n",
       "      <td>1</td>\n",
       "      <td>27</td>\n",
       "      <td>6</td>\n",
       "      <td>19977</td>\n",
       "      <td>UA</td>\n",
       "      <td>12451</td>\n",
       "      <td>JAX</td>\n",
       "      <td>Jacksonville, FL</td>\n",
       "      <td>Florida</td>\n",
       "      <td>...</td>\n",
       "      <td>0.0</td>\n",
       "      <td>112.0</td>\n",
       "      <td>1</td>\n",
       "      <td>820.0</td>\n",
       "      <td>NaN</td>\n",
       "      <td>NaN</td>\n",
       "      <td>NaN</td>\n",
       "      <td>NaN</td>\n",
       "      <td>NaN</td>\n",
       "      <td>United Air Lines Inc.</td>\n",
       "    </tr>\n",
       "  </tbody>\n",
       "</table>\n",
       "<p>5 rows × 32 columns</p>\n",
       "</div>"
      ],
      "text/plain": [
       "   YEAR  MONTH  DAY_OF_MONTH  DAY_OF_WEEK  OP_CARRIER_AIRLINE_ID OP_CARRIER  \\\n",
       "0  2018      1            27            6                  19977         UA   \n",
       "1  2018      1            27            6                  19977         UA   \n",
       "2  2018      1            27            6                  19977         UA   \n",
       "3  2018      1            27            6                  19977         UA   \n",
       "4  2018      1            27            6                  19977         UA   \n",
       "\n",
       "   ORIGIN_AIRPORT_ID ORIGIN     ORIGIN_CITY_NAME ORIGIN_STATE_NM  ...  \\\n",
       "0              11697    FLL  Fort Lauderdale, FL         Florida  ...   \n",
       "1              14747    SEA          Seattle, WA      Washington  ...   \n",
       "2              11278    DCA       Washington, DC        Virginia  ...   \n",
       "3              12892    LAX      Los Angeles, CA      California  ...   \n",
       "4              12451    JAX     Jacksonville, FL         Florida  ...   \n",
       "\n",
       "   DIVERTED AIR_TIME FLIGHTS DISTANCE  CARRIER_DELAY  WEATHER_DELAY NAS_DELAY  \\\n",
       "0       0.0    148.0       1    966.0            NaN            NaN       NaN   \n",
       "1       0.0     98.0       1    679.0            NaN            NaN       NaN   \n",
       "2       0.0    190.0       1   1208.0            NaN            NaN       NaN   \n",
       "3       0.0    212.0       1   1744.0            NaN            NaN       NaN   \n",
       "4       0.0    112.0       1    820.0            NaN            NaN       NaN   \n",
       "\n",
       "   SECURITY_DELAY  LATE_AIRCRAFT_DELAY               Airlines  \n",
       "0             NaN                  NaN  United Air Lines Inc.  \n",
       "1             NaN                  NaN  United Air Lines Inc.  \n",
       "2             NaN                  NaN  United Air Lines Inc.  \n",
       "3             NaN                  NaN  United Air Lines Inc.  \n",
       "4             NaN                  NaN  United Air Lines Inc.  \n",
       "\n",
       "[5 rows x 32 columns]"
      ]
     },
     "execution_count": 9,
     "metadata": {},
     "output_type": "execute_result"
    }
   ],
   "source": [
    "df1 = df1.merge(airLineDT, on='OP_CARRIER_AIRLINE_ID', how='left')\n",
    "df1.head()"
   ]
  },
  {
   "cell_type": "markdown",
   "metadata": {},
   "source": [
    "### Merging CancelStatus lookup table with our dataframe using merge"
   ]
  },
  {
   "cell_type": "code",
   "execution_count": 10,
   "metadata": {},
   "outputs": [
    {
     "data": {
      "text/html": [
       "<div>\n",
       "<style scoped>\n",
       "    .dataframe tbody tr th:only-of-type {\n",
       "        vertical-align: middle;\n",
       "    }\n",
       "\n",
       "    .dataframe tbody tr th {\n",
       "        vertical-align: top;\n",
       "    }\n",
       "\n",
       "    .dataframe thead th {\n",
       "        text-align: right;\n",
       "    }\n",
       "</style>\n",
       "<table border=\"1\" class=\"dataframe\">\n",
       "  <thead>\n",
       "    <tr style=\"text-align: right;\">\n",
       "      <th></th>\n",
       "      <th>CANCELLATION_CODE</th>\n",
       "      <th>CANCEL_STATUS</th>\n",
       "    </tr>\n",
       "  </thead>\n",
       "  <tbody>\n",
       "    <tr>\n",
       "      <th>0</th>\n",
       "      <td>A</td>\n",
       "      <td>Carrier</td>\n",
       "    </tr>\n",
       "    <tr>\n",
       "      <th>1</th>\n",
       "      <td>B</td>\n",
       "      <td>Weather</td>\n",
       "    </tr>\n",
       "    <tr>\n",
       "      <th>2</th>\n",
       "      <td>C</td>\n",
       "      <td>National Air System</td>\n",
       "    </tr>\n",
       "    <tr>\n",
       "      <th>3</th>\n",
       "      <td>D</td>\n",
       "      <td>Security</td>\n",
       "    </tr>\n",
       "  </tbody>\n",
       "</table>\n",
       "</div>"
      ],
      "text/plain": [
       "  CANCELLATION_CODE        CANCEL_STATUS\n",
       "0                 A              Carrier\n",
       "1                 B              Weather\n",
       "2                 C  National Air System\n",
       "3                 D             Security"
      ]
     },
     "execution_count": 10,
     "metadata": {},
     "output_type": "execute_result"
    }
   ],
   "source": [
    "cancelStatusDT = pd.read_csv('./data/lookup_tables/L_CANCELLATION.csv',names = ['CANCELLATION_CODE','CANCEL_STATUS'],header=0)\n",
    "cancelStatusDT.head()"
   ]
  },
  {
   "cell_type": "code",
   "execution_count": 11,
   "metadata": {},
   "outputs": [],
   "source": [
    "df1 = df1.merge(cancelStatusDT,on = 'CANCELLATION_CODE',how='left')"
   ]
  },
  {
   "cell_type": "code",
   "execution_count": 12,
   "metadata": {},
   "outputs": [
    {
     "data": {
      "text/html": [
       "<div>\n",
       "<style scoped>\n",
       "    .dataframe tbody tr th:only-of-type {\n",
       "        vertical-align: middle;\n",
       "    }\n",
       "\n",
       "    .dataframe tbody tr th {\n",
       "        vertical-align: top;\n",
       "    }\n",
       "\n",
       "    .dataframe thead th {\n",
       "        text-align: right;\n",
       "    }\n",
       "</style>\n",
       "<table border=\"1\" class=\"dataframe\">\n",
       "  <thead>\n",
       "    <tr style=\"text-align: right;\">\n",
       "      <th></th>\n",
       "      <th>YEAR</th>\n",
       "      <th>MONTH</th>\n",
       "      <th>DAY_OF_MONTH</th>\n",
       "      <th>DAY_OF_WEEK</th>\n",
       "      <th>OP_CARRIER_AIRLINE_ID</th>\n",
       "      <th>OP_CARRIER</th>\n",
       "      <th>ORIGIN_AIRPORT_ID</th>\n",
       "      <th>ORIGIN</th>\n",
       "      <th>ORIGIN_CITY_NAME</th>\n",
       "      <th>ORIGIN_STATE_NM</th>\n",
       "      <th>...</th>\n",
       "      <th>AIR_TIME</th>\n",
       "      <th>FLIGHTS</th>\n",
       "      <th>DISTANCE</th>\n",
       "      <th>CARRIER_DELAY</th>\n",
       "      <th>WEATHER_DELAY</th>\n",
       "      <th>NAS_DELAY</th>\n",
       "      <th>SECURITY_DELAY</th>\n",
       "      <th>LATE_AIRCRAFT_DELAY</th>\n",
       "      <th>Airlines</th>\n",
       "      <th>CANCEL_STATUS</th>\n",
       "    </tr>\n",
       "  </thead>\n",
       "  <tbody>\n",
       "    <tr>\n",
       "      <th>0</th>\n",
       "      <td>2018</td>\n",
       "      <td>1</td>\n",
       "      <td>27</td>\n",
       "      <td>6</td>\n",
       "      <td>19977</td>\n",
       "      <td>UA</td>\n",
       "      <td>11697</td>\n",
       "      <td>FLL</td>\n",
       "      <td>Fort Lauderdale, FL</td>\n",
       "      <td>Florida</td>\n",
       "      <td>...</td>\n",
       "      <td>148.0</td>\n",
       "      <td>1</td>\n",
       "      <td>966.0</td>\n",
       "      <td>NaN</td>\n",
       "      <td>NaN</td>\n",
       "      <td>NaN</td>\n",
       "      <td>NaN</td>\n",
       "      <td>NaN</td>\n",
       "      <td>United Air Lines Inc.</td>\n",
       "      <td>NaN</td>\n",
       "    </tr>\n",
       "    <tr>\n",
       "      <th>1</th>\n",
       "      <td>2018</td>\n",
       "      <td>1</td>\n",
       "      <td>27</td>\n",
       "      <td>6</td>\n",
       "      <td>19977</td>\n",
       "      <td>UA</td>\n",
       "      <td>14747</td>\n",
       "      <td>SEA</td>\n",
       "      <td>Seattle, WA</td>\n",
       "      <td>Washington</td>\n",
       "      <td>...</td>\n",
       "      <td>98.0</td>\n",
       "      <td>1</td>\n",
       "      <td>679.0</td>\n",
       "      <td>NaN</td>\n",
       "      <td>NaN</td>\n",
       "      <td>NaN</td>\n",
       "      <td>NaN</td>\n",
       "      <td>NaN</td>\n",
       "      <td>United Air Lines Inc.</td>\n",
       "      <td>NaN</td>\n",
       "    </tr>\n",
       "    <tr>\n",
       "      <th>2</th>\n",
       "      <td>2018</td>\n",
       "      <td>1</td>\n",
       "      <td>27</td>\n",
       "      <td>6</td>\n",
       "      <td>19977</td>\n",
       "      <td>UA</td>\n",
       "      <td>11278</td>\n",
       "      <td>DCA</td>\n",
       "      <td>Washington, DC</td>\n",
       "      <td>Virginia</td>\n",
       "      <td>...</td>\n",
       "      <td>190.0</td>\n",
       "      <td>1</td>\n",
       "      <td>1208.0</td>\n",
       "      <td>NaN</td>\n",
       "      <td>NaN</td>\n",
       "      <td>NaN</td>\n",
       "      <td>NaN</td>\n",
       "      <td>NaN</td>\n",
       "      <td>United Air Lines Inc.</td>\n",
       "      <td>NaN</td>\n",
       "    </tr>\n",
       "    <tr>\n",
       "      <th>3</th>\n",
       "      <td>2018</td>\n",
       "      <td>1</td>\n",
       "      <td>27</td>\n",
       "      <td>6</td>\n",
       "      <td>19977</td>\n",
       "      <td>UA</td>\n",
       "      <td>12892</td>\n",
       "      <td>LAX</td>\n",
       "      <td>Los Angeles, CA</td>\n",
       "      <td>California</td>\n",
       "      <td>...</td>\n",
       "      <td>212.0</td>\n",
       "      <td>1</td>\n",
       "      <td>1744.0</td>\n",
       "      <td>NaN</td>\n",
       "      <td>NaN</td>\n",
       "      <td>NaN</td>\n",
       "      <td>NaN</td>\n",
       "      <td>NaN</td>\n",
       "      <td>United Air Lines Inc.</td>\n",
       "      <td>NaN</td>\n",
       "    </tr>\n",
       "    <tr>\n",
       "      <th>4</th>\n",
       "      <td>2018</td>\n",
       "      <td>1</td>\n",
       "      <td>27</td>\n",
       "      <td>6</td>\n",
       "      <td>19977</td>\n",
       "      <td>UA</td>\n",
       "      <td>12451</td>\n",
       "      <td>JAX</td>\n",
       "      <td>Jacksonville, FL</td>\n",
       "      <td>Florida</td>\n",
       "      <td>...</td>\n",
       "      <td>112.0</td>\n",
       "      <td>1</td>\n",
       "      <td>820.0</td>\n",
       "      <td>NaN</td>\n",
       "      <td>NaN</td>\n",
       "      <td>NaN</td>\n",
       "      <td>NaN</td>\n",
       "      <td>NaN</td>\n",
       "      <td>United Air Lines Inc.</td>\n",
       "      <td>NaN</td>\n",
       "    </tr>\n",
       "  </tbody>\n",
       "</table>\n",
       "<p>5 rows × 33 columns</p>\n",
       "</div>"
      ],
      "text/plain": [
       "   YEAR  MONTH  DAY_OF_MONTH  DAY_OF_WEEK  OP_CARRIER_AIRLINE_ID OP_CARRIER  \\\n",
       "0  2018      1            27            6                  19977         UA   \n",
       "1  2018      1            27            6                  19977         UA   \n",
       "2  2018      1            27            6                  19977         UA   \n",
       "3  2018      1            27            6                  19977         UA   \n",
       "4  2018      1            27            6                  19977         UA   \n",
       "\n",
       "   ORIGIN_AIRPORT_ID ORIGIN     ORIGIN_CITY_NAME ORIGIN_STATE_NM  ...  \\\n",
       "0              11697    FLL  Fort Lauderdale, FL         Florida  ...   \n",
       "1              14747    SEA          Seattle, WA      Washington  ...   \n",
       "2              11278    DCA       Washington, DC        Virginia  ...   \n",
       "3              12892    LAX      Los Angeles, CA      California  ...   \n",
       "4              12451    JAX     Jacksonville, FL         Florida  ...   \n",
       "\n",
       "   AIR_TIME FLIGHTS DISTANCE CARRIER_DELAY  WEATHER_DELAY  NAS_DELAY  \\\n",
       "0     148.0       1    966.0           NaN            NaN        NaN   \n",
       "1      98.0       1    679.0           NaN            NaN        NaN   \n",
       "2     190.0       1   1208.0           NaN            NaN        NaN   \n",
       "3     212.0       1   1744.0           NaN            NaN        NaN   \n",
       "4     112.0       1    820.0           NaN            NaN        NaN   \n",
       "\n",
       "  SECURITY_DELAY  LATE_AIRCRAFT_DELAY               Airlines CANCEL_STATUS  \n",
       "0            NaN                  NaN  United Air Lines Inc.           NaN  \n",
       "1            NaN                  NaN  United Air Lines Inc.           NaN  \n",
       "2            NaN                  NaN  United Air Lines Inc.           NaN  \n",
       "3            NaN                  NaN  United Air Lines Inc.           NaN  \n",
       "4            NaN                  NaN  United Air Lines Inc.           NaN  \n",
       "\n",
       "[5 rows x 33 columns]"
      ]
     },
     "execution_count": 12,
     "metadata": {},
     "output_type": "execute_result"
    }
   ],
   "source": [
    "df1.head()"
   ]
  },
  {
   "cell_type": "markdown",
   "metadata": {},
   "source": [
    "### Scrapping HolidayData from website"
   ]
  },
  {
   "cell_type": "code",
   "execution_count": 13,
   "metadata": {},
   "outputs": [
    {
     "data": {
      "text/html": [
       "<div>\n",
       "<style scoped>\n",
       "    .dataframe tbody tr th:only-of-type {\n",
       "        vertical-align: middle;\n",
       "    }\n",
       "\n",
       "    .dataframe tbody tr th {\n",
       "        vertical-align: top;\n",
       "    }\n",
       "\n",
       "    .dataframe thead th {\n",
       "        text-align: right;\n",
       "    }\n",
       "</style>\n",
       "<table border=\"1\" class=\"dataframe\">\n",
       "  <thead>\n",
       "    <tr style=\"text-align: right;\">\n",
       "      <th></th>\n",
       "      <th>Date</th>\n",
       "      <th>Holiday</th>\n",
       "      <th>Day</th>\n",
       "      <th>Days to go</th>\n",
       "    </tr>\n",
       "  </thead>\n",
       "  <tbody>\n",
       "    <tr>\n",
       "      <th>0</th>\n",
       "      <td>January 1</td>\n",
       "      <td>New Year's Day 2018</td>\n",
       "      <td>Monday</td>\n",
       "      <td>-</td>\n",
       "    </tr>\n",
       "    <tr>\n",
       "      <th>1</th>\n",
       "      <td>January 15</td>\n",
       "      <td>Martin Luther King Day 2018</td>\n",
       "      <td>Monday</td>\n",
       "      <td>-</td>\n",
       "    </tr>\n",
       "    <tr>\n",
       "      <th>2</th>\n",
       "      <td>January 24</td>\n",
       "      <td>Belly Laugh Day 2018</td>\n",
       "      <td>Wednesday</td>\n",
       "      <td>-</td>\n",
       "    </tr>\n",
       "    <tr>\n",
       "      <th>3</th>\n",
       "      <td>February 2</td>\n",
       "      <td>Groundhog Day 2018</td>\n",
       "      <td>Friday</td>\n",
       "      <td>-</td>\n",
       "    </tr>\n",
       "    <tr>\n",
       "      <th>4</th>\n",
       "      <td>February 12</td>\n",
       "      <td>Lincoln's Birthday 2018</td>\n",
       "      <td>Monday</td>\n",
       "      <td>-</td>\n",
       "    </tr>\n",
       "  </tbody>\n",
       "</table>\n",
       "</div>"
      ],
      "text/plain": [
       "          Date                      Holiday        Day Days to go\n",
       "0    January 1          New Year's Day 2018     Monday          -\n",
       "1   January 15  Martin Luther King Day 2018     Monday          -\n",
       "2   January 24         Belly Laugh Day 2018  Wednesday          -\n",
       "3   February 2           Groundhog Day 2018     Friday          -\n",
       "4  February 12      Lincoln's Birthday 2018     Monday          -"
      ]
     },
     "execution_count": 13,
     "metadata": {},
     "output_type": "execute_result"
    }
   ],
   "source": [
    "url = 'https://www.calendar-365.com/holidays/2018.html'\n",
    "holidayDT = pd.read_html(url)[0]\n",
    "holidayDT.head()"
   ]
  },
  {
   "cell_type": "markdown",
   "metadata": {},
   "source": [
    "### Date Transformations on holiday data\n"
   ]
  },
  {
   "cell_type": "code",
   "execution_count": 14,
   "metadata": {},
   "outputs": [
    {
     "data": {
      "text/html": [
       "<div>\n",
       "<style scoped>\n",
       "    .dataframe tbody tr th:only-of-type {\n",
       "        vertical-align: middle;\n",
       "    }\n",
       "\n",
       "    .dataframe tbody tr th {\n",
       "        vertical-align: top;\n",
       "    }\n",
       "\n",
       "    .dataframe thead th {\n",
       "        text-align: right;\n",
       "    }\n",
       "</style>\n",
       "<table border=\"1\" class=\"dataframe\">\n",
       "  <thead>\n",
       "    <tr style=\"text-align: right;\">\n",
       "      <th></th>\n",
       "      <th>Date</th>\n",
       "      <th>Holiday</th>\n",
       "      <th>Day</th>\n",
       "      <th>Days to go</th>\n",
       "    </tr>\n",
       "  </thead>\n",
       "  <tbody>\n",
       "    <tr>\n",
       "      <th>0</th>\n",
       "      <td>January 1 2018</td>\n",
       "      <td>New Year's Day 2018</td>\n",
       "      <td>Monday</td>\n",
       "      <td>-</td>\n",
       "    </tr>\n",
       "    <tr>\n",
       "      <th>1</th>\n",
       "      <td>January 15 2018</td>\n",
       "      <td>Martin Luther King Day 2018</td>\n",
       "      <td>Monday</td>\n",
       "      <td>-</td>\n",
       "    </tr>\n",
       "    <tr>\n",
       "      <th>2</th>\n",
       "      <td>January 24 2018</td>\n",
       "      <td>Belly Laugh Day 2018</td>\n",
       "      <td>Wednesday</td>\n",
       "      <td>-</td>\n",
       "    </tr>\n",
       "    <tr>\n",
       "      <th>3</th>\n",
       "      <td>February 2 2018</td>\n",
       "      <td>Groundhog Day 2018</td>\n",
       "      <td>Friday</td>\n",
       "      <td>-</td>\n",
       "    </tr>\n",
       "    <tr>\n",
       "      <th>4</th>\n",
       "      <td>February 12 2018</td>\n",
       "      <td>Lincoln's Birthday 2018</td>\n",
       "      <td>Monday</td>\n",
       "      <td>-</td>\n",
       "    </tr>\n",
       "  </tbody>\n",
       "</table>\n",
       "</div>"
      ],
      "text/plain": [
       "               Date                      Holiday        Day Days to go\n",
       "0    January 1 2018          New Year's Day 2018     Monday          -\n",
       "1   January 15 2018  Martin Luther King Day 2018     Monday          -\n",
       "2   January 24 2018         Belly Laugh Day 2018  Wednesday          -\n",
       "3   February 2 2018           Groundhog Day 2018     Friday          -\n",
       "4  February 12 2018      Lincoln's Birthday 2018     Monday          -"
      ]
     },
     "execution_count": 14,
     "metadata": {},
     "output_type": "execute_result"
    }
   ],
   "source": [
    "holidayDT['Date'] = holidayDT['Date'] + ' 2018'\n",
    "holidayDT.head()"
   ]
  },
  {
   "cell_type": "code",
   "execution_count": 15,
   "metadata": {},
   "outputs": [
    {
     "data": {
      "text/html": [
       "<div>\n",
       "<style scoped>\n",
       "    .dataframe tbody tr th:only-of-type {\n",
       "        vertical-align: middle;\n",
       "    }\n",
       "\n",
       "    .dataframe tbody tr th {\n",
       "        vertical-align: top;\n",
       "    }\n",
       "\n",
       "    .dataframe thead th {\n",
       "        text-align: right;\n",
       "    }\n",
       "</style>\n",
       "<table border=\"1\" class=\"dataframe\">\n",
       "  <thead>\n",
       "    <tr style=\"text-align: right;\">\n",
       "      <th></th>\n",
       "      <th>Date</th>\n",
       "      <th>Holiday</th>\n",
       "      <th>Day</th>\n",
       "      <th>Days to go</th>\n",
       "    </tr>\n",
       "  </thead>\n",
       "  <tbody>\n",
       "    <tr>\n",
       "      <th>0</th>\n",
       "      <td>2018-01-01</td>\n",
       "      <td>New Year's Day 2018</td>\n",
       "      <td>Monday</td>\n",
       "      <td>-</td>\n",
       "    </tr>\n",
       "    <tr>\n",
       "      <th>1</th>\n",
       "      <td>2018-01-15</td>\n",
       "      <td>Martin Luther King Day 2018</td>\n",
       "      <td>Monday</td>\n",
       "      <td>-</td>\n",
       "    </tr>\n",
       "    <tr>\n",
       "      <th>2</th>\n",
       "      <td>2018-01-24</td>\n",
       "      <td>Belly Laugh Day 2018</td>\n",
       "      <td>Wednesday</td>\n",
       "      <td>-</td>\n",
       "    </tr>\n",
       "    <tr>\n",
       "      <th>3</th>\n",
       "      <td>2018-02-02</td>\n",
       "      <td>Groundhog Day 2018</td>\n",
       "      <td>Friday</td>\n",
       "      <td>-</td>\n",
       "    </tr>\n",
       "    <tr>\n",
       "      <th>4</th>\n",
       "      <td>2018-02-12</td>\n",
       "      <td>Lincoln's Birthday 2018</td>\n",
       "      <td>Monday</td>\n",
       "      <td>-</td>\n",
       "    </tr>\n",
       "  </tbody>\n",
       "</table>\n",
       "</div>"
      ],
      "text/plain": [
       "        Date                      Holiday        Day Days to go\n",
       "0 2018-01-01          New Year's Day 2018     Monday          -\n",
       "1 2018-01-15  Martin Luther King Day 2018     Monday          -\n",
       "2 2018-01-24         Belly Laugh Day 2018  Wednesday          -\n",
       "3 2018-02-02           Groundhog Day 2018     Friday          -\n",
       "4 2018-02-12      Lincoln's Birthday 2018     Monday          -"
      ]
     },
     "execution_count": 15,
     "metadata": {},
     "output_type": "execute_result"
    }
   ],
   "source": [
    "holidayDT['Date'] = pd.to_datetime(holidayDT['Date'])\n",
    "holidayDT.head()"
   ]
  },
  {
   "cell_type": "code",
   "execution_count": 16,
   "metadata": {},
   "outputs": [
    {
     "data": {
      "text/html": [
       "<div>\n",
       "<style scoped>\n",
       "    .dataframe tbody tr th:only-of-type {\n",
       "        vertical-align: middle;\n",
       "    }\n",
       "\n",
       "    .dataframe tbody tr th {\n",
       "        vertical-align: top;\n",
       "    }\n",
       "\n",
       "    .dataframe thead th {\n",
       "        text-align: right;\n",
       "    }\n",
       "</style>\n",
       "<table border=\"1\" class=\"dataframe\">\n",
       "  <thead>\n",
       "    <tr style=\"text-align: right;\">\n",
       "      <th></th>\n",
       "      <th>Date</th>\n",
       "      <th>Holiday</th>\n",
       "      <th>Day</th>\n",
       "      <th>Days to go</th>\n",
       "      <th>HolidayStat</th>\n",
       "    </tr>\n",
       "  </thead>\n",
       "  <tbody>\n",
       "    <tr>\n",
       "      <th>0</th>\n",
       "      <td>2018-01-01</td>\n",
       "      <td>New Year's Day 2018</td>\n",
       "      <td>Monday</td>\n",
       "      <td>-</td>\n",
       "      <td>1</td>\n",
       "    </tr>\n",
       "    <tr>\n",
       "      <th>1</th>\n",
       "      <td>2018-01-15</td>\n",
       "      <td>Martin Luther King Day 2018</td>\n",
       "      <td>Monday</td>\n",
       "      <td>-</td>\n",
       "      <td>1</td>\n",
       "    </tr>\n",
       "    <tr>\n",
       "      <th>2</th>\n",
       "      <td>2018-01-24</td>\n",
       "      <td>Belly Laugh Day 2018</td>\n",
       "      <td>Wednesday</td>\n",
       "      <td>-</td>\n",
       "      <td>1</td>\n",
       "    </tr>\n",
       "    <tr>\n",
       "      <th>3</th>\n",
       "      <td>2018-02-02</td>\n",
       "      <td>Groundhog Day 2018</td>\n",
       "      <td>Friday</td>\n",
       "      <td>-</td>\n",
       "      <td>1</td>\n",
       "    </tr>\n",
       "    <tr>\n",
       "      <th>4</th>\n",
       "      <td>2018-02-12</td>\n",
       "      <td>Lincoln's Birthday 2018</td>\n",
       "      <td>Monday</td>\n",
       "      <td>-</td>\n",
       "      <td>1</td>\n",
       "    </tr>\n",
       "  </tbody>\n",
       "</table>\n",
       "</div>"
      ],
      "text/plain": [
       "        Date                      Holiday        Day Days to go  HolidayStat\n",
       "0 2018-01-01          New Year's Day 2018     Monday          -            1\n",
       "1 2018-01-15  Martin Luther King Day 2018     Monday          -            1\n",
       "2 2018-01-24         Belly Laugh Day 2018  Wednesday          -            1\n",
       "3 2018-02-02           Groundhog Day 2018     Friday          -            1\n",
       "4 2018-02-12      Lincoln's Birthday 2018     Monday          -            1"
      ]
     },
     "execution_count": 16,
     "metadata": {},
     "output_type": "execute_result"
    }
   ],
   "source": [
    "holidayDT['HolidayStat'] = 1\n",
    "holidayDT.head()"
   ]
  },
  {
   "cell_type": "code",
   "execution_count": 17,
   "metadata": {},
   "outputs": [
    {
     "data": {
      "text/html": [
       "<div>\n",
       "<style scoped>\n",
       "    .dataframe tbody tr th:only-of-type {\n",
       "        vertical-align: middle;\n",
       "    }\n",
       "\n",
       "    .dataframe tbody tr th {\n",
       "        vertical-align: top;\n",
       "    }\n",
       "\n",
       "    .dataframe thead th {\n",
       "        text-align: right;\n",
       "    }\n",
       "</style>\n",
       "<table border=\"1\" class=\"dataframe\">\n",
       "  <thead>\n",
       "    <tr style=\"text-align: right;\">\n",
       "      <th></th>\n",
       "      <th>Date</th>\n",
       "      <th>HolidayStat</th>\n",
       "    </tr>\n",
       "  </thead>\n",
       "  <tbody>\n",
       "    <tr>\n",
       "      <th>0</th>\n",
       "      <td>2018-01-01</td>\n",
       "      <td>1</td>\n",
       "    </tr>\n",
       "    <tr>\n",
       "      <th>1</th>\n",
       "      <td>2018-01-15</td>\n",
       "      <td>1</td>\n",
       "    </tr>\n",
       "    <tr>\n",
       "      <th>2</th>\n",
       "      <td>2018-01-24</td>\n",
       "      <td>1</td>\n",
       "    </tr>\n",
       "    <tr>\n",
       "      <th>3</th>\n",
       "      <td>2018-02-02</td>\n",
       "      <td>1</td>\n",
       "    </tr>\n",
       "    <tr>\n",
       "      <th>4</th>\n",
       "      <td>2018-02-12</td>\n",
       "      <td>1</td>\n",
       "    </tr>\n",
       "  </tbody>\n",
       "</table>\n",
       "</div>"
      ],
      "text/plain": [
       "        Date  HolidayStat\n",
       "0 2018-01-01            1\n",
       "1 2018-01-15            1\n",
       "2 2018-01-24            1\n",
       "3 2018-02-02            1\n",
       "4 2018-02-12            1"
      ]
     },
     "execution_count": 17,
     "metadata": {},
     "output_type": "execute_result"
    }
   ],
   "source": [
    "holidayDT = holidayDT[['Date','HolidayStat']]\n",
    "holidayDT.head()"
   ]
  },
  {
   "cell_type": "code",
   "execution_count": 18,
   "metadata": {},
   "outputs": [
    {
     "data": {
      "text/html": [
       "<div>\n",
       "<style scoped>\n",
       "    .dataframe tbody tr th:only-of-type {\n",
       "        vertical-align: middle;\n",
       "    }\n",
       "\n",
       "    .dataframe tbody tr th {\n",
       "        vertical-align: top;\n",
       "    }\n",
       "\n",
       "    .dataframe thead th {\n",
       "        text-align: right;\n",
       "    }\n",
       "</style>\n",
       "<table border=\"1\" class=\"dataframe\">\n",
       "  <thead>\n",
       "    <tr style=\"text-align: right;\">\n",
       "      <th></th>\n",
       "      <th>Date</th>\n",
       "      <th>HolidayStat</th>\n",
       "    </tr>\n",
       "  </thead>\n",
       "  <tbody>\n",
       "    <tr>\n",
       "      <th>0</th>\n",
       "      <td>01-01-2018</td>\n",
       "      <td>1</td>\n",
       "    </tr>\n",
       "    <tr>\n",
       "      <th>1</th>\n",
       "      <td>01-15-2018</td>\n",
       "      <td>1</td>\n",
       "    </tr>\n",
       "    <tr>\n",
       "      <th>2</th>\n",
       "      <td>01-24-2018</td>\n",
       "      <td>1</td>\n",
       "    </tr>\n",
       "    <tr>\n",
       "      <th>3</th>\n",
       "      <td>02-02-2018</td>\n",
       "      <td>1</td>\n",
       "    </tr>\n",
       "    <tr>\n",
       "      <th>4</th>\n",
       "      <td>02-12-2018</td>\n",
       "      <td>1</td>\n",
       "    </tr>\n",
       "  </tbody>\n",
       "</table>\n",
       "</div>"
      ],
      "text/plain": [
       "         Date  HolidayStat\n",
       "0  01-01-2018            1\n",
       "1  01-15-2018            1\n",
       "2  01-24-2018            1\n",
       "3  02-02-2018            1\n",
       "4  02-12-2018            1"
      ]
     },
     "execution_count": 18,
     "metadata": {},
     "output_type": "execute_result"
    }
   ],
   "source": [
    "holidayDT['Date'] = holidayDT['Date'].dt.strftime('%m-%d-%Y')\n",
    "holidayDT.head()"
   ]
  },
  {
   "cell_type": "markdown",
   "metadata": {},
   "source": [
    "### Saving the holiday data as csv file"
   ]
  },
  {
   "cell_type": "code",
   "execution_count": 19,
   "metadata": {},
   "outputs": [],
   "source": [
    "holidayDT.to_csv('./data/lookup_tables/holidayInfo.csv',index=False)"
   ]
  },
  {
   "cell_type": "markdown",
   "metadata": {},
   "source": [
    "### Creating a new column DATE by combining YEAR, MONTH and DAY"
   ]
  },
  {
   "cell_type": "code",
   "execution_count": 20,
   "metadata": {},
   "outputs": [
    {
     "data": {
      "text/html": [
       "<div>\n",
       "<style scoped>\n",
       "    .dataframe tbody tr th:only-of-type {\n",
       "        vertical-align: middle;\n",
       "    }\n",
       "\n",
       "    .dataframe tbody tr th {\n",
       "        vertical-align: top;\n",
       "    }\n",
       "\n",
       "    .dataframe thead th {\n",
       "        text-align: right;\n",
       "    }\n",
       "</style>\n",
       "<table border=\"1\" class=\"dataframe\">\n",
       "  <thead>\n",
       "    <tr style=\"text-align: right;\">\n",
       "      <th></th>\n",
       "      <th>YEAR</th>\n",
       "      <th>MONTH</th>\n",
       "      <th>DAY_OF_MONTH</th>\n",
       "      <th>DAY_OF_WEEK</th>\n",
       "      <th>OP_CARRIER_AIRLINE_ID</th>\n",
       "      <th>OP_CARRIER</th>\n",
       "      <th>ORIGIN_AIRPORT_ID</th>\n",
       "      <th>ORIGIN</th>\n",
       "      <th>ORIGIN_CITY_NAME</th>\n",
       "      <th>ORIGIN_STATE_NM</th>\n",
       "      <th>...</th>\n",
       "      <th>FLIGHTS</th>\n",
       "      <th>DISTANCE</th>\n",
       "      <th>CARRIER_DELAY</th>\n",
       "      <th>WEATHER_DELAY</th>\n",
       "      <th>NAS_DELAY</th>\n",
       "      <th>SECURITY_DELAY</th>\n",
       "      <th>LATE_AIRCRAFT_DELAY</th>\n",
       "      <th>Airlines</th>\n",
       "      <th>CANCEL_STATUS</th>\n",
       "      <th>Date</th>\n",
       "    </tr>\n",
       "  </thead>\n",
       "  <tbody>\n",
       "    <tr>\n",
       "      <th>0</th>\n",
       "      <td>2018</td>\n",
       "      <td>1</td>\n",
       "      <td>27</td>\n",
       "      <td>6</td>\n",
       "      <td>19977</td>\n",
       "      <td>UA</td>\n",
       "      <td>11697</td>\n",
       "      <td>FLL</td>\n",
       "      <td>Fort Lauderdale, FL</td>\n",
       "      <td>Florida</td>\n",
       "      <td>...</td>\n",
       "      <td>1</td>\n",
       "      <td>966.0</td>\n",
       "      <td>NaN</td>\n",
       "      <td>NaN</td>\n",
       "      <td>NaN</td>\n",
       "      <td>NaN</td>\n",
       "      <td>NaN</td>\n",
       "      <td>United Air Lines Inc.</td>\n",
       "      <td>NaN</td>\n",
       "      <td>2018-01-27</td>\n",
       "    </tr>\n",
       "    <tr>\n",
       "      <th>1</th>\n",
       "      <td>2018</td>\n",
       "      <td>1</td>\n",
       "      <td>27</td>\n",
       "      <td>6</td>\n",
       "      <td>19977</td>\n",
       "      <td>UA</td>\n",
       "      <td>14747</td>\n",
       "      <td>SEA</td>\n",
       "      <td>Seattle, WA</td>\n",
       "      <td>Washington</td>\n",
       "      <td>...</td>\n",
       "      <td>1</td>\n",
       "      <td>679.0</td>\n",
       "      <td>NaN</td>\n",
       "      <td>NaN</td>\n",
       "      <td>NaN</td>\n",
       "      <td>NaN</td>\n",
       "      <td>NaN</td>\n",
       "      <td>United Air Lines Inc.</td>\n",
       "      <td>NaN</td>\n",
       "      <td>2018-01-27</td>\n",
       "    </tr>\n",
       "  </tbody>\n",
       "</table>\n",
       "<p>2 rows × 34 columns</p>\n",
       "</div>"
      ],
      "text/plain": [
       "   YEAR  MONTH  DAY_OF_MONTH  DAY_OF_WEEK  OP_CARRIER_AIRLINE_ID OP_CARRIER  \\\n",
       "0  2018      1            27            6                  19977         UA   \n",
       "1  2018      1            27            6                  19977         UA   \n",
       "\n",
       "   ORIGIN_AIRPORT_ID ORIGIN     ORIGIN_CITY_NAME ORIGIN_STATE_NM  ...  \\\n",
       "0              11697    FLL  Fort Lauderdale, FL         Florida  ...   \n",
       "1              14747    SEA          Seattle, WA      Washington  ...   \n",
       "\n",
       "   FLIGHTS DISTANCE CARRIER_DELAY WEATHER_DELAY  NAS_DELAY  SECURITY_DELAY  \\\n",
       "0        1    966.0           NaN           NaN        NaN             NaN   \n",
       "1        1    679.0           NaN           NaN        NaN             NaN   \n",
       "\n",
       "  LATE_AIRCRAFT_DELAY               Airlines  CANCEL_STATUS       Date  \n",
       "0                 NaN  United Air Lines Inc.            NaN 2018-01-27  \n",
       "1                 NaN  United Air Lines Inc.            NaN 2018-01-27  \n",
       "\n",
       "[2 rows x 34 columns]"
      ]
     },
     "execution_count": 20,
     "metadata": {},
     "output_type": "execute_result"
    }
   ],
   "source": [
    "df1['Date'] = pd.to_datetime(dict(year=df1.YEAR, month=df1.MONTH, day=df1.DAY_OF_MONTH))\n",
    "df1.head(2)"
   ]
  },
  {
   "cell_type": "code",
   "execution_count": 21,
   "metadata": {},
   "outputs": [
    {
     "data": {
      "text/html": [
       "<div>\n",
       "<style scoped>\n",
       "    .dataframe tbody tr th:only-of-type {\n",
       "        vertical-align: middle;\n",
       "    }\n",
       "\n",
       "    .dataframe tbody tr th {\n",
       "        vertical-align: top;\n",
       "    }\n",
       "\n",
       "    .dataframe thead th {\n",
       "        text-align: right;\n",
       "    }\n",
       "</style>\n",
       "<table border=\"1\" class=\"dataframe\">\n",
       "  <thead>\n",
       "    <tr style=\"text-align: right;\">\n",
       "      <th></th>\n",
       "      <th>YEAR</th>\n",
       "      <th>MONTH</th>\n",
       "      <th>DAY_OF_MONTH</th>\n",
       "      <th>DAY_OF_WEEK</th>\n",
       "      <th>OP_CARRIER_AIRLINE_ID</th>\n",
       "      <th>OP_CARRIER</th>\n",
       "      <th>ORIGIN_AIRPORT_ID</th>\n",
       "      <th>ORIGIN</th>\n",
       "      <th>ORIGIN_CITY_NAME</th>\n",
       "      <th>ORIGIN_STATE_NM</th>\n",
       "      <th>...</th>\n",
       "      <th>FLIGHTS</th>\n",
       "      <th>DISTANCE</th>\n",
       "      <th>CARRIER_DELAY</th>\n",
       "      <th>WEATHER_DELAY</th>\n",
       "      <th>NAS_DELAY</th>\n",
       "      <th>SECURITY_DELAY</th>\n",
       "      <th>LATE_AIRCRAFT_DELAY</th>\n",
       "      <th>Airlines</th>\n",
       "      <th>CANCEL_STATUS</th>\n",
       "      <th>Date</th>\n",
       "    </tr>\n",
       "  </thead>\n",
       "  <tbody>\n",
       "    <tr>\n",
       "      <th>0</th>\n",
       "      <td>2018</td>\n",
       "      <td>1</td>\n",
       "      <td>27</td>\n",
       "      <td>6</td>\n",
       "      <td>19977</td>\n",
       "      <td>UA</td>\n",
       "      <td>11697</td>\n",
       "      <td>FLL</td>\n",
       "      <td>Fort Lauderdale, FL</td>\n",
       "      <td>Florida</td>\n",
       "      <td>...</td>\n",
       "      <td>1</td>\n",
       "      <td>966.0</td>\n",
       "      <td>NaN</td>\n",
       "      <td>NaN</td>\n",
       "      <td>NaN</td>\n",
       "      <td>NaN</td>\n",
       "      <td>NaN</td>\n",
       "      <td>United Air Lines Inc.</td>\n",
       "      <td>NaN</td>\n",
       "      <td>01-27-2018</td>\n",
       "    </tr>\n",
       "    <tr>\n",
       "      <th>1</th>\n",
       "      <td>2018</td>\n",
       "      <td>1</td>\n",
       "      <td>27</td>\n",
       "      <td>6</td>\n",
       "      <td>19977</td>\n",
       "      <td>UA</td>\n",
       "      <td>14747</td>\n",
       "      <td>SEA</td>\n",
       "      <td>Seattle, WA</td>\n",
       "      <td>Washington</td>\n",
       "      <td>...</td>\n",
       "      <td>1</td>\n",
       "      <td>679.0</td>\n",
       "      <td>NaN</td>\n",
       "      <td>NaN</td>\n",
       "      <td>NaN</td>\n",
       "      <td>NaN</td>\n",
       "      <td>NaN</td>\n",
       "      <td>United Air Lines Inc.</td>\n",
       "      <td>NaN</td>\n",
       "      <td>01-27-2018</td>\n",
       "    </tr>\n",
       "    <tr>\n",
       "      <th>2</th>\n",
       "      <td>2018</td>\n",
       "      <td>1</td>\n",
       "      <td>27</td>\n",
       "      <td>6</td>\n",
       "      <td>19977</td>\n",
       "      <td>UA</td>\n",
       "      <td>11278</td>\n",
       "      <td>DCA</td>\n",
       "      <td>Washington, DC</td>\n",
       "      <td>Virginia</td>\n",
       "      <td>...</td>\n",
       "      <td>1</td>\n",
       "      <td>1208.0</td>\n",
       "      <td>NaN</td>\n",
       "      <td>NaN</td>\n",
       "      <td>NaN</td>\n",
       "      <td>NaN</td>\n",
       "      <td>NaN</td>\n",
       "      <td>United Air Lines Inc.</td>\n",
       "      <td>NaN</td>\n",
       "      <td>01-27-2018</td>\n",
       "    </tr>\n",
       "    <tr>\n",
       "      <th>3</th>\n",
       "      <td>2018</td>\n",
       "      <td>1</td>\n",
       "      <td>27</td>\n",
       "      <td>6</td>\n",
       "      <td>19977</td>\n",
       "      <td>UA</td>\n",
       "      <td>12892</td>\n",
       "      <td>LAX</td>\n",
       "      <td>Los Angeles, CA</td>\n",
       "      <td>California</td>\n",
       "      <td>...</td>\n",
       "      <td>1</td>\n",
       "      <td>1744.0</td>\n",
       "      <td>NaN</td>\n",
       "      <td>NaN</td>\n",
       "      <td>NaN</td>\n",
       "      <td>NaN</td>\n",
       "      <td>NaN</td>\n",
       "      <td>United Air Lines Inc.</td>\n",
       "      <td>NaN</td>\n",
       "      <td>01-27-2018</td>\n",
       "    </tr>\n",
       "    <tr>\n",
       "      <th>4</th>\n",
       "      <td>2018</td>\n",
       "      <td>1</td>\n",
       "      <td>27</td>\n",
       "      <td>6</td>\n",
       "      <td>19977</td>\n",
       "      <td>UA</td>\n",
       "      <td>12451</td>\n",
       "      <td>JAX</td>\n",
       "      <td>Jacksonville, FL</td>\n",
       "      <td>Florida</td>\n",
       "      <td>...</td>\n",
       "      <td>1</td>\n",
       "      <td>820.0</td>\n",
       "      <td>NaN</td>\n",
       "      <td>NaN</td>\n",
       "      <td>NaN</td>\n",
       "      <td>NaN</td>\n",
       "      <td>NaN</td>\n",
       "      <td>United Air Lines Inc.</td>\n",
       "      <td>NaN</td>\n",
       "      <td>01-27-2018</td>\n",
       "    </tr>\n",
       "  </tbody>\n",
       "</table>\n",
       "<p>5 rows × 34 columns</p>\n",
       "</div>"
      ],
      "text/plain": [
       "   YEAR  MONTH  DAY_OF_MONTH  DAY_OF_WEEK  OP_CARRIER_AIRLINE_ID OP_CARRIER  \\\n",
       "0  2018      1            27            6                  19977         UA   \n",
       "1  2018      1            27            6                  19977         UA   \n",
       "2  2018      1            27            6                  19977         UA   \n",
       "3  2018      1            27            6                  19977         UA   \n",
       "4  2018      1            27            6                  19977         UA   \n",
       "\n",
       "   ORIGIN_AIRPORT_ID ORIGIN     ORIGIN_CITY_NAME ORIGIN_STATE_NM  ...  \\\n",
       "0              11697    FLL  Fort Lauderdale, FL         Florida  ...   \n",
       "1              14747    SEA          Seattle, WA      Washington  ...   \n",
       "2              11278    DCA       Washington, DC        Virginia  ...   \n",
       "3              12892    LAX      Los Angeles, CA      California  ...   \n",
       "4              12451    JAX     Jacksonville, FL         Florida  ...   \n",
       "\n",
       "   FLIGHTS DISTANCE CARRIER_DELAY WEATHER_DELAY  NAS_DELAY  SECURITY_DELAY  \\\n",
       "0        1    966.0           NaN           NaN        NaN             NaN   \n",
       "1        1    679.0           NaN           NaN        NaN             NaN   \n",
       "2        1   1208.0           NaN           NaN        NaN             NaN   \n",
       "3        1   1744.0           NaN           NaN        NaN             NaN   \n",
       "4        1    820.0           NaN           NaN        NaN             NaN   \n",
       "\n",
       "  LATE_AIRCRAFT_DELAY               Airlines  CANCEL_STATUS        Date  \n",
       "0                 NaN  United Air Lines Inc.            NaN  01-27-2018  \n",
       "1                 NaN  United Air Lines Inc.            NaN  01-27-2018  \n",
       "2                 NaN  United Air Lines Inc.            NaN  01-27-2018  \n",
       "3                 NaN  United Air Lines Inc.            NaN  01-27-2018  \n",
       "4                 NaN  United Air Lines Inc.            NaN  01-27-2018  \n",
       "\n",
       "[5 rows x 34 columns]"
      ]
     },
     "execution_count": 21,
     "metadata": {},
     "output_type": "execute_result"
    }
   ],
   "source": [
    "df1['Date'] = df1['Date'].dt.strftime('%m-%d-%Y')\n",
    "df1.head()"
   ]
  },
  {
   "cell_type": "markdown",
   "metadata": {},
   "source": [
    "### Mapping the holiday data to our DataFrame by using merge"
   ]
  },
  {
   "cell_type": "code",
   "execution_count": 22,
   "metadata": {},
   "outputs": [
    {
     "data": {
      "text/html": [
       "<div>\n",
       "<style scoped>\n",
       "    .dataframe tbody tr th:only-of-type {\n",
       "        vertical-align: middle;\n",
       "    }\n",
       "\n",
       "    .dataframe tbody tr th {\n",
       "        vertical-align: top;\n",
       "    }\n",
       "\n",
       "    .dataframe thead th {\n",
       "        text-align: right;\n",
       "    }\n",
       "</style>\n",
       "<table border=\"1\" class=\"dataframe\">\n",
       "  <thead>\n",
       "    <tr style=\"text-align: right;\">\n",
       "      <th></th>\n",
       "      <th>YEAR</th>\n",
       "      <th>MONTH</th>\n",
       "      <th>DAY_OF_MONTH</th>\n",
       "      <th>DAY_OF_WEEK</th>\n",
       "      <th>OP_CARRIER_AIRLINE_ID</th>\n",
       "      <th>OP_CARRIER</th>\n",
       "      <th>ORIGIN_AIRPORT_ID</th>\n",
       "      <th>ORIGIN</th>\n",
       "      <th>ORIGIN_CITY_NAME</th>\n",
       "      <th>ORIGIN_STATE_NM</th>\n",
       "      <th>...</th>\n",
       "      <th>DISTANCE</th>\n",
       "      <th>CARRIER_DELAY</th>\n",
       "      <th>WEATHER_DELAY</th>\n",
       "      <th>NAS_DELAY</th>\n",
       "      <th>SECURITY_DELAY</th>\n",
       "      <th>LATE_AIRCRAFT_DELAY</th>\n",
       "      <th>Airlines</th>\n",
       "      <th>CANCEL_STATUS</th>\n",
       "      <th>Date</th>\n",
       "      <th>HolidayStat</th>\n",
       "    </tr>\n",
       "  </thead>\n",
       "  <tbody>\n",
       "    <tr>\n",
       "      <th>0</th>\n",
       "      <td>2018</td>\n",
       "      <td>1</td>\n",
       "      <td>27</td>\n",
       "      <td>6</td>\n",
       "      <td>19977</td>\n",
       "      <td>UA</td>\n",
       "      <td>11697</td>\n",
       "      <td>FLL</td>\n",
       "      <td>Fort Lauderdale, FL</td>\n",
       "      <td>Florida</td>\n",
       "      <td>...</td>\n",
       "      <td>966.0</td>\n",
       "      <td>NaN</td>\n",
       "      <td>NaN</td>\n",
       "      <td>NaN</td>\n",
       "      <td>NaN</td>\n",
       "      <td>NaN</td>\n",
       "      <td>United Air Lines Inc.</td>\n",
       "      <td>NaN</td>\n",
       "      <td>01-27-2018</td>\n",
       "      <td>NaN</td>\n",
       "    </tr>\n",
       "    <tr>\n",
       "      <th>1</th>\n",
       "      <td>2018</td>\n",
       "      <td>1</td>\n",
       "      <td>27</td>\n",
       "      <td>6</td>\n",
       "      <td>19977</td>\n",
       "      <td>UA</td>\n",
       "      <td>14747</td>\n",
       "      <td>SEA</td>\n",
       "      <td>Seattle, WA</td>\n",
       "      <td>Washington</td>\n",
       "      <td>...</td>\n",
       "      <td>679.0</td>\n",
       "      <td>NaN</td>\n",
       "      <td>NaN</td>\n",
       "      <td>NaN</td>\n",
       "      <td>NaN</td>\n",
       "      <td>NaN</td>\n",
       "      <td>United Air Lines Inc.</td>\n",
       "      <td>NaN</td>\n",
       "      <td>01-27-2018</td>\n",
       "      <td>NaN</td>\n",
       "    </tr>\n",
       "    <tr>\n",
       "      <th>2</th>\n",
       "      <td>2018</td>\n",
       "      <td>1</td>\n",
       "      <td>27</td>\n",
       "      <td>6</td>\n",
       "      <td>19977</td>\n",
       "      <td>UA</td>\n",
       "      <td>11278</td>\n",
       "      <td>DCA</td>\n",
       "      <td>Washington, DC</td>\n",
       "      <td>Virginia</td>\n",
       "      <td>...</td>\n",
       "      <td>1208.0</td>\n",
       "      <td>NaN</td>\n",
       "      <td>NaN</td>\n",
       "      <td>NaN</td>\n",
       "      <td>NaN</td>\n",
       "      <td>NaN</td>\n",
       "      <td>United Air Lines Inc.</td>\n",
       "      <td>NaN</td>\n",
       "      <td>01-27-2018</td>\n",
       "      <td>NaN</td>\n",
       "    </tr>\n",
       "  </tbody>\n",
       "</table>\n",
       "<p>3 rows × 35 columns</p>\n",
       "</div>"
      ],
      "text/plain": [
       "   YEAR  MONTH  DAY_OF_MONTH  DAY_OF_WEEK  OP_CARRIER_AIRLINE_ID OP_CARRIER  \\\n",
       "0  2018      1            27            6                  19977         UA   \n",
       "1  2018      1            27            6                  19977         UA   \n",
       "2  2018      1            27            6                  19977         UA   \n",
       "\n",
       "   ORIGIN_AIRPORT_ID ORIGIN     ORIGIN_CITY_NAME ORIGIN_STATE_NM  ...  \\\n",
       "0              11697    FLL  Fort Lauderdale, FL         Florida  ...   \n",
       "1              14747    SEA          Seattle, WA      Washington  ...   \n",
       "2              11278    DCA       Washington, DC        Virginia  ...   \n",
       "\n",
       "   DISTANCE CARRIER_DELAY WEATHER_DELAY NAS_DELAY  SECURITY_DELAY  \\\n",
       "0     966.0           NaN           NaN       NaN             NaN   \n",
       "1     679.0           NaN           NaN       NaN             NaN   \n",
       "2    1208.0           NaN           NaN       NaN             NaN   \n",
       "\n",
       "   LATE_AIRCRAFT_DELAY               Airlines  CANCEL_STATUS        Date  \\\n",
       "0                  NaN  United Air Lines Inc.            NaN  01-27-2018   \n",
       "1                  NaN  United Air Lines Inc.            NaN  01-27-2018   \n",
       "2                  NaN  United Air Lines Inc.            NaN  01-27-2018   \n",
       "\n",
       "  HolidayStat  \n",
       "0         NaN  \n",
       "1         NaN  \n",
       "2         NaN  \n",
       "\n",
       "[3 rows x 35 columns]"
      ]
     },
     "execution_count": 22,
     "metadata": {},
     "output_type": "execute_result"
    }
   ],
   "source": [
    "df1 = df1.merge(holidayDT, on='Date', how='left')\n",
    "df1.head(3)"
   ]
  },
  {
   "cell_type": "markdown",
   "metadata": {},
   "source": [
    "### Defining a function to create a 'SEASON' column in our DataFrame"
   ]
  },
  {
   "cell_type": "code",
   "execution_count": 23,
   "metadata": {},
   "outputs": [],
   "source": [
    "def Season(Date):\n",
    "    if datetime.strptime(Date,'%m-%d-%Y') >= datetime.strptime('12-21-2017','%m-%d-%Y') and datetime.strptime(Date,'%m-%d-%Y') < datetime.strptime('03-20-2018','%m-%d-%Y'):\n",
    "        return('Winter')\n",
    "    elif datetime.strptime(Date,'%m-%d-%Y') >= datetime.strptime('03-20-2018','%m-%d-%Y') and datetime.strptime(Date,'%m-%d-%Y') < datetime.strptime('06-20-2018','%m-%d-%Y'):\n",
    "        return('Spring')\n",
    "    elif datetime.strptime(Date,'%m-%d-%Y') >= datetime.strptime('06-20-2018','%m-%d-%Y') and datetime.strptime(Date,'%m-%d-%Y') < datetime.strptime('09-22-2018','%m-%d-%Y'):\n",
    "        return('Summer')\n",
    "    elif datetime.strptime(Date,'%m-%d-%Y') >= datetime.strptime('09-22-2018','%m-%d-%Y') and datetime.strptime(Date,'%m-%d-%Y') < datetime.strptime('12-21-2018','%m-%d-%Y'):\n",
    "        return('Fall')\n",
    "    else:\n",
    "        return('Winter')"
   ]
  },
  {
   "cell_type": "code",
   "execution_count": 24,
   "metadata": {},
   "outputs": [
    {
     "data": {
      "text/html": [
       "<div>\n",
       "<style scoped>\n",
       "    .dataframe tbody tr th:only-of-type {\n",
       "        vertical-align: middle;\n",
       "    }\n",
       "\n",
       "    .dataframe tbody tr th {\n",
       "        vertical-align: top;\n",
       "    }\n",
       "\n",
       "    .dataframe thead th {\n",
       "        text-align: right;\n",
       "    }\n",
       "</style>\n",
       "<table border=\"1\" class=\"dataframe\">\n",
       "  <thead>\n",
       "    <tr style=\"text-align: right;\">\n",
       "      <th></th>\n",
       "      <th>YEAR</th>\n",
       "      <th>MONTH</th>\n",
       "      <th>DAY_OF_MONTH</th>\n",
       "      <th>DAY_OF_WEEK</th>\n",
       "      <th>OP_CARRIER_AIRLINE_ID</th>\n",
       "      <th>OP_CARRIER</th>\n",
       "      <th>ORIGIN_AIRPORT_ID</th>\n",
       "      <th>ORIGIN</th>\n",
       "      <th>ORIGIN_CITY_NAME</th>\n",
       "      <th>ORIGIN_STATE_NM</th>\n",
       "      <th>...</th>\n",
       "      <th>CARRIER_DELAY</th>\n",
       "      <th>WEATHER_DELAY</th>\n",
       "      <th>NAS_DELAY</th>\n",
       "      <th>SECURITY_DELAY</th>\n",
       "      <th>LATE_AIRCRAFT_DELAY</th>\n",
       "      <th>Airlines</th>\n",
       "      <th>CANCEL_STATUS</th>\n",
       "      <th>Date</th>\n",
       "      <th>HolidayStat</th>\n",
       "      <th>Season</th>\n",
       "    </tr>\n",
       "  </thead>\n",
       "  <tbody>\n",
       "    <tr>\n",
       "      <th>0</th>\n",
       "      <td>2018</td>\n",
       "      <td>1</td>\n",
       "      <td>27</td>\n",
       "      <td>6</td>\n",
       "      <td>19977</td>\n",
       "      <td>UA</td>\n",
       "      <td>11697</td>\n",
       "      <td>FLL</td>\n",
       "      <td>Fort Lauderdale, FL</td>\n",
       "      <td>Florida</td>\n",
       "      <td>...</td>\n",
       "      <td>NaN</td>\n",
       "      <td>NaN</td>\n",
       "      <td>NaN</td>\n",
       "      <td>NaN</td>\n",
       "      <td>NaN</td>\n",
       "      <td>United Air Lines Inc.</td>\n",
       "      <td>NaN</td>\n",
       "      <td>01-27-2018</td>\n",
       "      <td>NaN</td>\n",
       "      <td></td>\n",
       "    </tr>\n",
       "    <tr>\n",
       "      <th>1</th>\n",
       "      <td>2018</td>\n",
       "      <td>1</td>\n",
       "      <td>27</td>\n",
       "      <td>6</td>\n",
       "      <td>19977</td>\n",
       "      <td>UA</td>\n",
       "      <td>14747</td>\n",
       "      <td>SEA</td>\n",
       "      <td>Seattle, WA</td>\n",
       "      <td>Washington</td>\n",
       "      <td>...</td>\n",
       "      <td>NaN</td>\n",
       "      <td>NaN</td>\n",
       "      <td>NaN</td>\n",
       "      <td>NaN</td>\n",
       "      <td>NaN</td>\n",
       "      <td>United Air Lines Inc.</td>\n",
       "      <td>NaN</td>\n",
       "      <td>01-27-2018</td>\n",
       "      <td>NaN</td>\n",
       "      <td></td>\n",
       "    </tr>\n",
       "    <tr>\n",
       "      <th>2</th>\n",
       "      <td>2018</td>\n",
       "      <td>1</td>\n",
       "      <td>27</td>\n",
       "      <td>6</td>\n",
       "      <td>19977</td>\n",
       "      <td>UA</td>\n",
       "      <td>11278</td>\n",
       "      <td>DCA</td>\n",
       "      <td>Washington, DC</td>\n",
       "      <td>Virginia</td>\n",
       "      <td>...</td>\n",
       "      <td>NaN</td>\n",
       "      <td>NaN</td>\n",
       "      <td>NaN</td>\n",
       "      <td>NaN</td>\n",
       "      <td>NaN</td>\n",
       "      <td>United Air Lines Inc.</td>\n",
       "      <td>NaN</td>\n",
       "      <td>01-27-2018</td>\n",
       "      <td>NaN</td>\n",
       "      <td></td>\n",
       "    </tr>\n",
       "  </tbody>\n",
       "</table>\n",
       "<p>3 rows × 36 columns</p>\n",
       "</div>"
      ],
      "text/plain": [
       "   YEAR  MONTH  DAY_OF_MONTH  DAY_OF_WEEK  OP_CARRIER_AIRLINE_ID OP_CARRIER  \\\n",
       "0  2018      1            27            6                  19977         UA   \n",
       "1  2018      1            27            6                  19977         UA   \n",
       "2  2018      1            27            6                  19977         UA   \n",
       "\n",
       "   ORIGIN_AIRPORT_ID ORIGIN     ORIGIN_CITY_NAME ORIGIN_STATE_NM  ...  \\\n",
       "0              11697    FLL  Fort Lauderdale, FL         Florida  ...   \n",
       "1              14747    SEA          Seattle, WA      Washington  ...   \n",
       "2              11278    DCA       Washington, DC        Virginia  ...   \n",
       "\n",
       "   CARRIER_DELAY WEATHER_DELAY NAS_DELAY SECURITY_DELAY  LATE_AIRCRAFT_DELAY  \\\n",
       "0            NaN           NaN       NaN            NaN                  NaN   \n",
       "1            NaN           NaN       NaN            NaN                  NaN   \n",
       "2            NaN           NaN       NaN            NaN                  NaN   \n",
       "\n",
       "                Airlines CANCEL_STATUS        Date  HolidayStat Season  \n",
       "0  United Air Lines Inc.           NaN  01-27-2018          NaN         \n",
       "1  United Air Lines Inc.           NaN  01-27-2018          NaN         \n",
       "2  United Air Lines Inc.           NaN  01-27-2018          NaN         \n",
       "\n",
       "[3 rows x 36 columns]"
      ]
     },
     "execution_count": 24,
     "metadata": {},
     "output_type": "execute_result"
    }
   ],
   "source": [
    "df1['Season'] = ''\n",
    "df1.head(3)"
   ]
  },
  {
   "cell_type": "code",
   "execution_count": 25,
   "metadata": {},
   "outputs": [
    {
     "data": {
      "text/html": [
       "<div>\n",
       "<style scoped>\n",
       "    .dataframe tbody tr th:only-of-type {\n",
       "        vertical-align: middle;\n",
       "    }\n",
       "\n",
       "    .dataframe tbody tr th {\n",
       "        vertical-align: top;\n",
       "    }\n",
       "\n",
       "    .dataframe thead th {\n",
       "        text-align: right;\n",
       "    }\n",
       "</style>\n",
       "<table border=\"1\" class=\"dataframe\">\n",
       "  <thead>\n",
       "    <tr style=\"text-align: right;\">\n",
       "      <th></th>\n",
       "      <th>YEAR</th>\n",
       "      <th>MONTH</th>\n",
       "      <th>DAY_OF_MONTH</th>\n",
       "      <th>DAY_OF_WEEK</th>\n",
       "      <th>OP_CARRIER_AIRLINE_ID</th>\n",
       "      <th>OP_CARRIER</th>\n",
       "      <th>ORIGIN_AIRPORT_ID</th>\n",
       "      <th>ORIGIN</th>\n",
       "      <th>ORIGIN_CITY_NAME</th>\n",
       "      <th>ORIGIN_STATE_NM</th>\n",
       "      <th>...</th>\n",
       "      <th>CARRIER_DELAY</th>\n",
       "      <th>WEATHER_DELAY</th>\n",
       "      <th>NAS_DELAY</th>\n",
       "      <th>SECURITY_DELAY</th>\n",
       "      <th>LATE_AIRCRAFT_DELAY</th>\n",
       "      <th>Airlines</th>\n",
       "      <th>CANCEL_STATUS</th>\n",
       "      <th>Date</th>\n",
       "      <th>HolidayStat</th>\n",
       "      <th>Season</th>\n",
       "    </tr>\n",
       "  </thead>\n",
       "  <tbody>\n",
       "    <tr>\n",
       "      <th>0</th>\n",
       "      <td>2018</td>\n",
       "      <td>1</td>\n",
       "      <td>27</td>\n",
       "      <td>6</td>\n",
       "      <td>19977</td>\n",
       "      <td>UA</td>\n",
       "      <td>11697</td>\n",
       "      <td>FLL</td>\n",
       "      <td>Fort Lauderdale, FL</td>\n",
       "      <td>Florida</td>\n",
       "      <td>...</td>\n",
       "      <td>NaN</td>\n",
       "      <td>NaN</td>\n",
       "      <td>NaN</td>\n",
       "      <td>NaN</td>\n",
       "      <td>NaN</td>\n",
       "      <td>United Air Lines Inc.</td>\n",
       "      <td>NaN</td>\n",
       "      <td>01-27-2018</td>\n",
       "      <td>NaN</td>\n",
       "      <td>Winter</td>\n",
       "    </tr>\n",
       "    <tr>\n",
       "      <th>1</th>\n",
       "      <td>2018</td>\n",
       "      <td>1</td>\n",
       "      <td>27</td>\n",
       "      <td>6</td>\n",
       "      <td>19977</td>\n",
       "      <td>UA</td>\n",
       "      <td>14747</td>\n",
       "      <td>SEA</td>\n",
       "      <td>Seattle, WA</td>\n",
       "      <td>Washington</td>\n",
       "      <td>...</td>\n",
       "      <td>NaN</td>\n",
       "      <td>NaN</td>\n",
       "      <td>NaN</td>\n",
       "      <td>NaN</td>\n",
       "      <td>NaN</td>\n",
       "      <td>United Air Lines Inc.</td>\n",
       "      <td>NaN</td>\n",
       "      <td>01-27-2018</td>\n",
       "      <td>NaN</td>\n",
       "      <td>Winter</td>\n",
       "    </tr>\n",
       "    <tr>\n",
       "      <th>2</th>\n",
       "      <td>2018</td>\n",
       "      <td>1</td>\n",
       "      <td>27</td>\n",
       "      <td>6</td>\n",
       "      <td>19977</td>\n",
       "      <td>UA</td>\n",
       "      <td>11278</td>\n",
       "      <td>DCA</td>\n",
       "      <td>Washington, DC</td>\n",
       "      <td>Virginia</td>\n",
       "      <td>...</td>\n",
       "      <td>NaN</td>\n",
       "      <td>NaN</td>\n",
       "      <td>NaN</td>\n",
       "      <td>NaN</td>\n",
       "      <td>NaN</td>\n",
       "      <td>United Air Lines Inc.</td>\n",
       "      <td>NaN</td>\n",
       "      <td>01-27-2018</td>\n",
       "      <td>NaN</td>\n",
       "      <td>Winter</td>\n",
       "    </tr>\n",
       "    <tr>\n",
       "      <th>3</th>\n",
       "      <td>2018</td>\n",
       "      <td>1</td>\n",
       "      <td>27</td>\n",
       "      <td>6</td>\n",
       "      <td>19977</td>\n",
       "      <td>UA</td>\n",
       "      <td>12892</td>\n",
       "      <td>LAX</td>\n",
       "      <td>Los Angeles, CA</td>\n",
       "      <td>California</td>\n",
       "      <td>...</td>\n",
       "      <td>NaN</td>\n",
       "      <td>NaN</td>\n",
       "      <td>NaN</td>\n",
       "      <td>NaN</td>\n",
       "      <td>NaN</td>\n",
       "      <td>United Air Lines Inc.</td>\n",
       "      <td>NaN</td>\n",
       "      <td>01-27-2018</td>\n",
       "      <td>NaN</td>\n",
       "      <td>Winter</td>\n",
       "    </tr>\n",
       "    <tr>\n",
       "      <th>4</th>\n",
       "      <td>2018</td>\n",
       "      <td>1</td>\n",
       "      <td>27</td>\n",
       "      <td>6</td>\n",
       "      <td>19977</td>\n",
       "      <td>UA</td>\n",
       "      <td>12451</td>\n",
       "      <td>JAX</td>\n",
       "      <td>Jacksonville, FL</td>\n",
       "      <td>Florida</td>\n",
       "      <td>...</td>\n",
       "      <td>NaN</td>\n",
       "      <td>NaN</td>\n",
       "      <td>NaN</td>\n",
       "      <td>NaN</td>\n",
       "      <td>NaN</td>\n",
       "      <td>United Air Lines Inc.</td>\n",
       "      <td>NaN</td>\n",
       "      <td>01-27-2018</td>\n",
       "      <td>NaN</td>\n",
       "      <td>Winter</td>\n",
       "    </tr>\n",
       "  </tbody>\n",
       "</table>\n",
       "<p>5 rows × 36 columns</p>\n",
       "</div>"
      ],
      "text/plain": [
       "   YEAR  MONTH  DAY_OF_MONTH  DAY_OF_WEEK  OP_CARRIER_AIRLINE_ID OP_CARRIER  \\\n",
       "0  2018      1            27            6                  19977         UA   \n",
       "1  2018      1            27            6                  19977         UA   \n",
       "2  2018      1            27            6                  19977         UA   \n",
       "3  2018      1            27            6                  19977         UA   \n",
       "4  2018      1            27            6                  19977         UA   \n",
       "\n",
       "   ORIGIN_AIRPORT_ID ORIGIN     ORIGIN_CITY_NAME ORIGIN_STATE_NM  ...  \\\n",
       "0              11697    FLL  Fort Lauderdale, FL         Florida  ...   \n",
       "1              14747    SEA          Seattle, WA      Washington  ...   \n",
       "2              11278    DCA       Washington, DC        Virginia  ...   \n",
       "3              12892    LAX      Los Angeles, CA      California  ...   \n",
       "4              12451    JAX     Jacksonville, FL         Florida  ...   \n",
       "\n",
       "   CARRIER_DELAY WEATHER_DELAY NAS_DELAY SECURITY_DELAY  LATE_AIRCRAFT_DELAY  \\\n",
       "0            NaN           NaN       NaN            NaN                  NaN   \n",
       "1            NaN           NaN       NaN            NaN                  NaN   \n",
       "2            NaN           NaN       NaN            NaN                  NaN   \n",
       "3            NaN           NaN       NaN            NaN                  NaN   \n",
       "4            NaN           NaN       NaN            NaN                  NaN   \n",
       "\n",
       "                Airlines CANCEL_STATUS        Date  HolidayStat  Season  \n",
       "0  United Air Lines Inc.           NaN  01-27-2018          NaN  Winter  \n",
       "1  United Air Lines Inc.           NaN  01-27-2018          NaN  Winter  \n",
       "2  United Air Lines Inc.           NaN  01-27-2018          NaN  Winter  \n",
       "3  United Air Lines Inc.           NaN  01-27-2018          NaN  Winter  \n",
       "4  United Air Lines Inc.           NaN  01-27-2018          NaN  Winter  \n",
       "\n",
       "[5 rows x 36 columns]"
      ]
     },
     "execution_count": 25,
     "metadata": {},
     "output_type": "execute_result"
    }
   ],
   "source": [
    "df1['Season'] = df1['Date'].map(lambda x: Season(x))\n",
    "df1.head()"
   ]
  },
  {
   "cell_type": "markdown",
   "metadata": {},
   "source": [
    "### Creating a derived Column 'DELAYED' which specifies if a flight is delayed or not"
   ]
  },
  {
   "cell_type": "code",
   "execution_count": 26,
   "metadata": {},
   "outputs": [],
   "source": [
    "df1['DELAYED'] = df1.ARR_DELAY>0\n",
    "df1['DELAYED'] = df1.DELAYED.astype('int8')"
   ]
  },
  {
   "cell_type": "code",
   "execution_count": 27,
   "metadata": {},
   "outputs": [
    {
     "data": {
      "text/html": [
       "<div>\n",
       "<style scoped>\n",
       "    .dataframe tbody tr th:only-of-type {\n",
       "        vertical-align: middle;\n",
       "    }\n",
       "\n",
       "    .dataframe tbody tr th {\n",
       "        vertical-align: top;\n",
       "    }\n",
       "\n",
       "    .dataframe thead th {\n",
       "        text-align: right;\n",
       "    }\n",
       "</style>\n",
       "<table border=\"1\" class=\"dataframe\">\n",
       "  <thead>\n",
       "    <tr style=\"text-align: right;\">\n",
       "      <th></th>\n",
       "      <th>YEAR</th>\n",
       "      <th>MONTH</th>\n",
       "      <th>DAY_OF_MONTH</th>\n",
       "      <th>DAY_OF_WEEK</th>\n",
       "      <th>OP_CARRIER_AIRLINE_ID</th>\n",
       "      <th>OP_CARRIER</th>\n",
       "      <th>ORIGIN_AIRPORT_ID</th>\n",
       "      <th>ORIGIN</th>\n",
       "      <th>ORIGIN_CITY_NAME</th>\n",
       "      <th>ORIGIN_STATE_NM</th>\n",
       "      <th>...</th>\n",
       "      <th>WEATHER_DELAY</th>\n",
       "      <th>NAS_DELAY</th>\n",
       "      <th>SECURITY_DELAY</th>\n",
       "      <th>LATE_AIRCRAFT_DELAY</th>\n",
       "      <th>Airlines</th>\n",
       "      <th>CANCEL_STATUS</th>\n",
       "      <th>Date</th>\n",
       "      <th>HolidayStat</th>\n",
       "      <th>Season</th>\n",
       "      <th>DELAYED</th>\n",
       "    </tr>\n",
       "  </thead>\n",
       "  <tbody>\n",
       "    <tr>\n",
       "      <th>0</th>\n",
       "      <td>2018</td>\n",
       "      <td>1</td>\n",
       "      <td>27</td>\n",
       "      <td>6</td>\n",
       "      <td>19977</td>\n",
       "      <td>UA</td>\n",
       "      <td>11697</td>\n",
       "      <td>FLL</td>\n",
       "      <td>Fort Lauderdale, FL</td>\n",
       "      <td>Florida</td>\n",
       "      <td>...</td>\n",
       "      <td>NaN</td>\n",
       "      <td>NaN</td>\n",
       "      <td>NaN</td>\n",
       "      <td>NaN</td>\n",
       "      <td>United Air Lines Inc.</td>\n",
       "      <td>NaN</td>\n",
       "      <td>01-27-2018</td>\n",
       "      <td>NaN</td>\n",
       "      <td>Winter</td>\n",
       "      <td>0</td>\n",
       "    </tr>\n",
       "    <tr>\n",
       "      <th>1</th>\n",
       "      <td>2018</td>\n",
       "      <td>1</td>\n",
       "      <td>27</td>\n",
       "      <td>6</td>\n",
       "      <td>19977</td>\n",
       "      <td>UA</td>\n",
       "      <td>14747</td>\n",
       "      <td>SEA</td>\n",
       "      <td>Seattle, WA</td>\n",
       "      <td>Washington</td>\n",
       "      <td>...</td>\n",
       "      <td>NaN</td>\n",
       "      <td>NaN</td>\n",
       "      <td>NaN</td>\n",
       "      <td>NaN</td>\n",
       "      <td>United Air Lines Inc.</td>\n",
       "      <td>NaN</td>\n",
       "      <td>01-27-2018</td>\n",
       "      <td>NaN</td>\n",
       "      <td>Winter</td>\n",
       "      <td>0</td>\n",
       "    </tr>\n",
       "    <tr>\n",
       "      <th>2</th>\n",
       "      <td>2018</td>\n",
       "      <td>1</td>\n",
       "      <td>27</td>\n",
       "      <td>6</td>\n",
       "      <td>19977</td>\n",
       "      <td>UA</td>\n",
       "      <td>11278</td>\n",
       "      <td>DCA</td>\n",
       "      <td>Washington, DC</td>\n",
       "      <td>Virginia</td>\n",
       "      <td>...</td>\n",
       "      <td>NaN</td>\n",
       "      <td>NaN</td>\n",
       "      <td>NaN</td>\n",
       "      <td>NaN</td>\n",
       "      <td>United Air Lines Inc.</td>\n",
       "      <td>NaN</td>\n",
       "      <td>01-27-2018</td>\n",
       "      <td>NaN</td>\n",
       "      <td>Winter</td>\n",
       "      <td>1</td>\n",
       "    </tr>\n",
       "    <tr>\n",
       "      <th>3</th>\n",
       "      <td>2018</td>\n",
       "      <td>1</td>\n",
       "      <td>27</td>\n",
       "      <td>6</td>\n",
       "      <td>19977</td>\n",
       "      <td>UA</td>\n",
       "      <td>12892</td>\n",
       "      <td>LAX</td>\n",
       "      <td>Los Angeles, CA</td>\n",
       "      <td>California</td>\n",
       "      <td>...</td>\n",
       "      <td>NaN</td>\n",
       "      <td>NaN</td>\n",
       "      <td>NaN</td>\n",
       "      <td>NaN</td>\n",
       "      <td>United Air Lines Inc.</td>\n",
       "      <td>NaN</td>\n",
       "      <td>01-27-2018</td>\n",
       "      <td>NaN</td>\n",
       "      <td>Winter</td>\n",
       "      <td>0</td>\n",
       "    </tr>\n",
       "    <tr>\n",
       "      <th>4</th>\n",
       "      <td>2018</td>\n",
       "      <td>1</td>\n",
       "      <td>27</td>\n",
       "      <td>6</td>\n",
       "      <td>19977</td>\n",
       "      <td>UA</td>\n",
       "      <td>12451</td>\n",
       "      <td>JAX</td>\n",
       "      <td>Jacksonville, FL</td>\n",
       "      <td>Florida</td>\n",
       "      <td>...</td>\n",
       "      <td>NaN</td>\n",
       "      <td>NaN</td>\n",
       "      <td>NaN</td>\n",
       "      <td>NaN</td>\n",
       "      <td>United Air Lines Inc.</td>\n",
       "      <td>NaN</td>\n",
       "      <td>01-27-2018</td>\n",
       "      <td>NaN</td>\n",
       "      <td>Winter</td>\n",
       "      <td>0</td>\n",
       "    </tr>\n",
       "  </tbody>\n",
       "</table>\n",
       "<p>5 rows × 37 columns</p>\n",
       "</div>"
      ],
      "text/plain": [
       "   YEAR  MONTH  DAY_OF_MONTH  DAY_OF_WEEK  OP_CARRIER_AIRLINE_ID OP_CARRIER  \\\n",
       "0  2018      1            27            6                  19977         UA   \n",
       "1  2018      1            27            6                  19977         UA   \n",
       "2  2018      1            27            6                  19977         UA   \n",
       "3  2018      1            27            6                  19977         UA   \n",
       "4  2018      1            27            6                  19977         UA   \n",
       "\n",
       "   ORIGIN_AIRPORT_ID ORIGIN     ORIGIN_CITY_NAME ORIGIN_STATE_NM  ...  \\\n",
       "0              11697    FLL  Fort Lauderdale, FL         Florida  ...   \n",
       "1              14747    SEA          Seattle, WA      Washington  ...   \n",
       "2              11278    DCA       Washington, DC        Virginia  ...   \n",
       "3              12892    LAX      Los Angeles, CA      California  ...   \n",
       "4              12451    JAX     Jacksonville, FL         Florida  ...   \n",
       "\n",
       "   WEATHER_DELAY NAS_DELAY SECURITY_DELAY LATE_AIRCRAFT_DELAY  \\\n",
       "0            NaN       NaN            NaN                 NaN   \n",
       "1            NaN       NaN            NaN                 NaN   \n",
       "2            NaN       NaN            NaN                 NaN   \n",
       "3            NaN       NaN            NaN                 NaN   \n",
       "4            NaN       NaN            NaN                 NaN   \n",
       "\n",
       "                Airlines  CANCEL_STATUS        Date  HolidayStat  Season  \\\n",
       "0  United Air Lines Inc.            NaN  01-27-2018          NaN  Winter   \n",
       "1  United Air Lines Inc.            NaN  01-27-2018          NaN  Winter   \n",
       "2  United Air Lines Inc.            NaN  01-27-2018          NaN  Winter   \n",
       "3  United Air Lines Inc.            NaN  01-27-2018          NaN  Winter   \n",
       "4  United Air Lines Inc.            NaN  01-27-2018          NaN  Winter   \n",
       "\n",
       "  DELAYED  \n",
       "0       0  \n",
       "1       0  \n",
       "2       1  \n",
       "3       0  \n",
       "4       0  \n",
       "\n",
       "[5 rows x 37 columns]"
      ]
     },
     "execution_count": 27,
     "metadata": {},
     "output_type": "execute_result"
    }
   ],
   "source": [
    "df1.head()"
   ]
  },
  {
   "cell_type": "code",
   "execution_count": 30,
   "metadata": {},
   "outputs": [],
   "source": [
    "df1.to_csv(\"./data/output/Airlines_2018.csv\",index=False)"
   ]
  },
  {
   "cell_type": "markdown",
   "metadata": {},
   "source": [
    "### Saving the final output DataFrame into a csv file for future re-usability"
   ]
  },
  {
   "cell_type": "code",
   "execution_count": 2,
   "metadata": {},
   "outputs": [],
   "source": [
    "import numpy as np\n",
    "import pandas as pd\n",
    "from datetime import *\n",
    "import matplotlib.pyplot as plt\n",
    "%matplotlib inline \n",
    "import seaborn as sns\n",
    "color = sns.color_palette()\n",
    "import warnings\n",
    "warnings.filterwarnings('ignore')\n",
    "pd.set_option('display.max_columns',50)"
   ]
  },
  {
   "cell_type": "markdown",
   "metadata": {},
   "source": [
    "Initializing the data types of the columns of our dataset"
   ]
  },
  {
   "cell_type": "code",
   "execution_count": 3,
   "metadata": {},
   "outputs": [],
   "source": [
    "dtypes = {\n",
    "'YEAR' : 'int16',\n",
    "'MONTH' : 'int8',\n",
    "'DAY_OF_MONTH' : 'int8',\n",
    "'DAY_OF_WEEK' : 'int8',\n",
    "'OP_CARRIER_AIRLINE_ID' : 'int16',\n",
    "'OP_CARRIER' : 'str',\n",
    "'ORIGIN_AIRPORT_ID' : 'int16',\n",
    "'ORIGIN' : 'str', \n",
    "'ORIGIN_CITY_NAME' : 'str',\n",
    "'ORIGIN_STATE_NM' : 'str',\n",
    "'DEST_AIRPORT_ID' : 'int16',\n",
    "'DEST' : 'str',\n",
    "'DEST_CITY_NAME' : 'str',\n",
    "'DEST_STATE_NM' : 'str',\n",
    "'DEP_TIME' : 'float32',\n",
    "'DEP_DELAY' : 'float32',\n",
    "'DEP_TIME_BLK' : 'str',\n",
    "'ARR_TIME' : 'float32',\n",
    "'ARR_DELAY' : 'float32',\n",
    "'ARR_TIME_BLK' : 'str',\n",
    "'CANCELLED' : 'float32',\n",
    "'CANCELLATION_CODE': 'str',\n",
    "'DIVERTED' : 'float32',\n",
    "'FLIGHTS' : 'int64',\n",
    "'AIR_TIME' : 'float32',\n",
    "'DISTANCE' : 'float32',\n",
    "'CARRIER_DELAY' : 'float32',\n",
    "'WEATHER_DELAY' : 'float32',\n",
    "'NAS_DELAY' : 'float32',\n",
    "'SECURITY_DELAY' : 'float32',\n",
    "'LATE_AIRCRAFT_DELAY' : 'float32',\n",
    "'Airline' : 'str',\n",
    "'CANCEL_STATUS' :'str',\n",
    "'Date' : 'str',\n",
    "'HolidayStat' : 'float64',\n",
    "'DELAYED': 'int8'\n",
    "}"
   ]
  },
  {
   "cell_type": "code",
   "execution_count": 4,
   "metadata": {},
   "outputs": [],
   "source": [
    "df = pd.read_csv(\"./data/output/Airlines_2018.csv\", dtype=dtypes)"
   ]
  },
  {
   "cell_type": "code",
   "execution_count": 5,
   "metadata": {},
   "outputs": [
    {
     "data": {
      "text/html": [
       "<div>\n",
       "<style scoped>\n",
       "    .dataframe tbody tr th:only-of-type {\n",
       "        vertical-align: middle;\n",
       "    }\n",
       "\n",
       "    .dataframe tbody tr th {\n",
       "        vertical-align: top;\n",
       "    }\n",
       "\n",
       "    .dataframe thead th {\n",
       "        text-align: right;\n",
       "    }\n",
       "</style>\n",
       "<table border=\"1\" class=\"dataframe\">\n",
       "  <thead>\n",
       "    <tr style=\"text-align: right;\">\n",
       "      <th></th>\n",
       "      <th>YEAR</th>\n",
       "      <th>MONTH</th>\n",
       "      <th>DAY_OF_MONTH</th>\n",
       "      <th>DAY_OF_WEEK</th>\n",
       "      <th>OP_CARRIER_AIRLINE_ID</th>\n",
       "      <th>OP_CARRIER</th>\n",
       "      <th>ORIGIN_AIRPORT_ID</th>\n",
       "      <th>ORIGIN</th>\n",
       "      <th>ORIGIN_CITY_NAME</th>\n",
       "      <th>ORIGIN_STATE_NM</th>\n",
       "      <th>DEST_AIRPORT_ID</th>\n",
       "      <th>DEST</th>\n",
       "      <th>DEST_CITY_NAME</th>\n",
       "      <th>DEST_STATE_NM</th>\n",
       "      <th>DEP_TIME</th>\n",
       "      <th>DEP_DELAY</th>\n",
       "      <th>DEP_TIME_BLK</th>\n",
       "      <th>ARR_TIME</th>\n",
       "      <th>ARR_DELAY</th>\n",
       "      <th>ARR_TIME_BLK</th>\n",
       "      <th>CANCELLED</th>\n",
       "      <th>CANCELLATION_CODE</th>\n",
       "      <th>DIVERTED</th>\n",
       "      <th>AIR_TIME</th>\n",
       "      <th>FLIGHTS</th>\n",
       "      <th>DISTANCE</th>\n",
       "      <th>CARRIER_DELAY</th>\n",
       "      <th>WEATHER_DELAY</th>\n",
       "      <th>NAS_DELAY</th>\n",
       "      <th>SECURITY_DELAY</th>\n",
       "      <th>LATE_AIRCRAFT_DELAY</th>\n",
       "      <th>Airlines</th>\n",
       "      <th>CANCEL_STATUS</th>\n",
       "      <th>Date</th>\n",
       "      <th>HolidayStat</th>\n",
       "      <th>Season</th>\n",
       "      <th>DELAYED</th>\n",
       "    </tr>\n",
       "  </thead>\n",
       "  <tbody>\n",
       "    <tr>\n",
       "      <th>0</th>\n",
       "      <td>2018</td>\n",
       "      <td>1</td>\n",
       "      <td>27</td>\n",
       "      <td>6</td>\n",
       "      <td>19977</td>\n",
       "      <td>UA</td>\n",
       "      <td>11697</td>\n",
       "      <td>FLL</td>\n",
       "      <td>Fort Lauderdale, FL</td>\n",
       "      <td>Florida</td>\n",
       "      <td>12266</td>\n",
       "      <td>IAH</td>\n",
       "      <td>Houston, TX</td>\n",
       "      <td>Texas</td>\n",
       "      <td>602.0</td>\n",
       "      <td>-13.0</td>\n",
       "      <td>0600-0659</td>\n",
       "      <td>756.0</td>\n",
       "      <td>-12.0</td>\n",
       "      <td>0800-0859</td>\n",
       "      <td>0.0</td>\n",
       "      <td>NaN</td>\n",
       "      <td>0.0</td>\n",
       "      <td>148.0</td>\n",
       "      <td>1</td>\n",
       "      <td>966.0</td>\n",
       "      <td>NaN</td>\n",
       "      <td>NaN</td>\n",
       "      <td>NaN</td>\n",
       "      <td>NaN</td>\n",
       "      <td>NaN</td>\n",
       "      <td>United Air Lines Inc.</td>\n",
       "      <td>NaN</td>\n",
       "      <td>01-27-2018</td>\n",
       "      <td>NaN</td>\n",
       "      <td>Winter</td>\n",
       "      <td>0</td>\n",
       "    </tr>\n",
       "    <tr>\n",
       "      <th>1</th>\n",
       "      <td>2018</td>\n",
       "      <td>1</td>\n",
       "      <td>27</td>\n",
       "      <td>6</td>\n",
       "      <td>19977</td>\n",
       "      <td>UA</td>\n",
       "      <td>14747</td>\n",
       "      <td>SEA</td>\n",
       "      <td>Seattle, WA</td>\n",
       "      <td>Washington</td>\n",
       "      <td>14771</td>\n",
       "      <td>SFO</td>\n",
       "      <td>San Francisco, CA</td>\n",
       "      <td>California</td>\n",
       "      <td>614.0</td>\n",
       "      <td>-4.0</td>\n",
       "      <td>0600-0659</td>\n",
       "      <td>813.0</td>\n",
       "      <td>-18.0</td>\n",
       "      <td>0800-0859</td>\n",
       "      <td>0.0</td>\n",
       "      <td>NaN</td>\n",
       "      <td>0.0</td>\n",
       "      <td>98.0</td>\n",
       "      <td>1</td>\n",
       "      <td>679.0</td>\n",
       "      <td>NaN</td>\n",
       "      <td>NaN</td>\n",
       "      <td>NaN</td>\n",
       "      <td>NaN</td>\n",
       "      <td>NaN</td>\n",
       "      <td>United Air Lines Inc.</td>\n",
       "      <td>NaN</td>\n",
       "      <td>01-27-2018</td>\n",
       "      <td>NaN</td>\n",
       "      <td>Winter</td>\n",
       "      <td>0</td>\n",
       "    </tr>\n",
       "    <tr>\n",
       "      <th>2</th>\n",
       "      <td>2018</td>\n",
       "      <td>1</td>\n",
       "      <td>27</td>\n",
       "      <td>6</td>\n",
       "      <td>19977</td>\n",
       "      <td>UA</td>\n",
       "      <td>11278</td>\n",
       "      <td>DCA</td>\n",
       "      <td>Washington, DC</td>\n",
       "      <td>Virginia</td>\n",
       "      <td>12266</td>\n",
       "      <td>IAH</td>\n",
       "      <td>Houston, TX</td>\n",
       "      <td>Texas</td>\n",
       "      <td>828.0</td>\n",
       "      <td>-2.0</td>\n",
       "      <td>0800-0859</td>\n",
       "      <td>1108.0</td>\n",
       "      <td>1.0</td>\n",
       "      <td>1100-1159</td>\n",
       "      <td>0.0</td>\n",
       "      <td>NaN</td>\n",
       "      <td>0.0</td>\n",
       "      <td>190.0</td>\n",
       "      <td>1</td>\n",
       "      <td>1208.0</td>\n",
       "      <td>NaN</td>\n",
       "      <td>NaN</td>\n",
       "      <td>NaN</td>\n",
       "      <td>NaN</td>\n",
       "      <td>NaN</td>\n",
       "      <td>United Air Lines Inc.</td>\n",
       "      <td>NaN</td>\n",
       "      <td>01-27-2018</td>\n",
       "      <td>NaN</td>\n",
       "      <td>Winter</td>\n",
       "      <td>1</td>\n",
       "    </tr>\n",
       "    <tr>\n",
       "      <th>3</th>\n",
       "      <td>2018</td>\n",
       "      <td>1</td>\n",
       "      <td>27</td>\n",
       "      <td>6</td>\n",
       "      <td>19977</td>\n",
       "      <td>UA</td>\n",
       "      <td>12892</td>\n",
       "      <td>LAX</td>\n",
       "      <td>Los Angeles, CA</td>\n",
       "      <td>California</td>\n",
       "      <td>13930</td>\n",
       "      <td>ORD</td>\n",
       "      <td>Chicago, IL</td>\n",
       "      <td>Illinois</td>\n",
       "      <td>641.0</td>\n",
       "      <td>-9.0</td>\n",
       "      <td>0600-0659</td>\n",
       "      <td>1242.0</td>\n",
       "      <td>-8.0</td>\n",
       "      <td>1200-1259</td>\n",
       "      <td>0.0</td>\n",
       "      <td>NaN</td>\n",
       "      <td>0.0</td>\n",
       "      <td>212.0</td>\n",
       "      <td>1</td>\n",
       "      <td>1744.0</td>\n",
       "      <td>NaN</td>\n",
       "      <td>NaN</td>\n",
       "      <td>NaN</td>\n",
       "      <td>NaN</td>\n",
       "      <td>NaN</td>\n",
       "      <td>United Air Lines Inc.</td>\n",
       "      <td>NaN</td>\n",
       "      <td>01-27-2018</td>\n",
       "      <td>NaN</td>\n",
       "      <td>Winter</td>\n",
       "      <td>0</td>\n",
       "    </tr>\n",
       "    <tr>\n",
       "      <th>4</th>\n",
       "      <td>2018</td>\n",
       "      <td>1</td>\n",
       "      <td>27</td>\n",
       "      <td>6</td>\n",
       "      <td>19977</td>\n",
       "      <td>UA</td>\n",
       "      <td>12451</td>\n",
       "      <td>JAX</td>\n",
       "      <td>Jacksonville, FL</td>\n",
       "      <td>Florida</td>\n",
       "      <td>11618</td>\n",
       "      <td>EWR</td>\n",
       "      <td>Newark, NJ</td>\n",
       "      <td>New Jersey</td>\n",
       "      <td>1810.0</td>\n",
       "      <td>-14.0</td>\n",
       "      <td>1800-1859</td>\n",
       "      <td>2021.0</td>\n",
       "      <td>-24.0</td>\n",
       "      <td>2000-2059</td>\n",
       "      <td>0.0</td>\n",
       "      <td>NaN</td>\n",
       "      <td>0.0</td>\n",
       "      <td>112.0</td>\n",
       "      <td>1</td>\n",
       "      <td>820.0</td>\n",
       "      <td>NaN</td>\n",
       "      <td>NaN</td>\n",
       "      <td>NaN</td>\n",
       "      <td>NaN</td>\n",
       "      <td>NaN</td>\n",
       "      <td>United Air Lines Inc.</td>\n",
       "      <td>NaN</td>\n",
       "      <td>01-27-2018</td>\n",
       "      <td>NaN</td>\n",
       "      <td>Winter</td>\n",
       "      <td>0</td>\n",
       "    </tr>\n",
       "  </tbody>\n",
       "</table>\n",
       "</div>"
      ],
      "text/plain": [
       "   YEAR  MONTH  DAY_OF_MONTH  DAY_OF_WEEK  OP_CARRIER_AIRLINE_ID OP_CARRIER  \\\n",
       "0  2018      1            27            6                  19977         UA   \n",
       "1  2018      1            27            6                  19977         UA   \n",
       "2  2018      1            27            6                  19977         UA   \n",
       "3  2018      1            27            6                  19977         UA   \n",
       "4  2018      1            27            6                  19977         UA   \n",
       "\n",
       "   ORIGIN_AIRPORT_ID ORIGIN     ORIGIN_CITY_NAME ORIGIN_STATE_NM  \\\n",
       "0              11697    FLL  Fort Lauderdale, FL         Florida   \n",
       "1              14747    SEA          Seattle, WA      Washington   \n",
       "2              11278    DCA       Washington, DC        Virginia   \n",
       "3              12892    LAX      Los Angeles, CA      California   \n",
       "4              12451    JAX     Jacksonville, FL         Florida   \n",
       "\n",
       "   DEST_AIRPORT_ID DEST     DEST_CITY_NAME DEST_STATE_NM  DEP_TIME  DEP_DELAY  \\\n",
       "0            12266  IAH        Houston, TX         Texas     602.0      -13.0   \n",
       "1            14771  SFO  San Francisco, CA    California     614.0       -4.0   \n",
       "2            12266  IAH        Houston, TX         Texas     828.0       -2.0   \n",
       "3            13930  ORD        Chicago, IL      Illinois     641.0       -9.0   \n",
       "4            11618  EWR         Newark, NJ    New Jersey    1810.0      -14.0   \n",
       "\n",
       "  DEP_TIME_BLK  ARR_TIME  ARR_DELAY ARR_TIME_BLK  CANCELLED CANCELLATION_CODE  \\\n",
       "0    0600-0659     756.0      -12.0    0800-0859        0.0               NaN   \n",
       "1    0600-0659     813.0      -18.0    0800-0859        0.0               NaN   \n",
       "2    0800-0859    1108.0        1.0    1100-1159        0.0               NaN   \n",
       "3    0600-0659    1242.0       -8.0    1200-1259        0.0               NaN   \n",
       "4    1800-1859    2021.0      -24.0    2000-2059        0.0               NaN   \n",
       "\n",
       "   DIVERTED  AIR_TIME  FLIGHTS  DISTANCE  CARRIER_DELAY  WEATHER_DELAY  \\\n",
       "0       0.0     148.0        1     966.0            NaN            NaN   \n",
       "1       0.0      98.0        1     679.0            NaN            NaN   \n",
       "2       0.0     190.0        1    1208.0            NaN            NaN   \n",
       "3       0.0     212.0        1    1744.0            NaN            NaN   \n",
       "4       0.0     112.0        1     820.0            NaN            NaN   \n",
       "\n",
       "   NAS_DELAY  SECURITY_DELAY  LATE_AIRCRAFT_DELAY               Airlines  \\\n",
       "0        NaN             NaN                  NaN  United Air Lines Inc.   \n",
       "1        NaN             NaN                  NaN  United Air Lines Inc.   \n",
       "2        NaN             NaN                  NaN  United Air Lines Inc.   \n",
       "3        NaN             NaN                  NaN  United Air Lines Inc.   \n",
       "4        NaN             NaN                  NaN  United Air Lines Inc.   \n",
       "\n",
       "  CANCEL_STATUS        Date  HolidayStat  Season  DELAYED  \n",
       "0           NaN  01-27-2018          NaN  Winter        0  \n",
       "1           NaN  01-27-2018          NaN  Winter        0  \n",
       "2           NaN  01-27-2018          NaN  Winter        1  \n",
       "3           NaN  01-27-2018          NaN  Winter        0  \n",
       "4           NaN  01-27-2018          NaN  Winter        0  "
      ]
     },
     "execution_count": 5,
     "metadata": {},
     "output_type": "execute_result"
    }
   ],
   "source": [
    "df.head()"
   ]
  },
  {
   "cell_type": "markdown",
   "metadata": {},
   "source": [
    "### Handling Missing Values"
   ]
  },
  {
   "cell_type": "code",
   "execution_count": 6,
   "metadata": {
    "scrolled": true
   },
   "outputs": [
    {
     "data": {
      "text/plain": [
       "DEP_TIME                112375\n",
       "DEP_DELAY               117311\n",
       "ARR_TIME                119309\n",
       "ARR_DELAY               137129\n",
       "CANCELLATION_CODE      7116332\n",
       "AIR_TIME                134523\n",
       "CARRIER_DELAY          5878168\n",
       "WEATHER_DELAY          5878168\n",
       "NAS_DELAY              5878168\n",
       "SECURITY_DELAY         5878168\n",
       "LATE_AIRCRAFT_DELAY    5878168\n",
       "CANCEL_STATUS          7116332\n",
       "HolidayStat            6412092\n",
       "dtype: int64"
      ]
     },
     "execution_count": 6,
     "metadata": {},
     "output_type": "execute_result"
    }
   ],
   "source": [
    "null_cols = df.isnull().sum()\n",
    "null_cols[null_cols > 0] #showing only columns with null values with their number of null values"
   ]
  },
  {
   "cell_type": "markdown",
   "metadata": {},
   "source": [
    "Whenever a flight is cancelled, it means it didn't depart and thereby didn't arrive and so it has no airtime.\n",
    "Thereby, we consider DEP_TIME, ARR_TIME and AIR_TIME as 'None' whereever the flights were cancelled.\n",
    "\n",
    "Similary, flights that were diverted didn't have ARR_TIME as they never arrived at their actual destination. Hence, we considered ARR_TIME and AIR_TIME of the diverted flights to be 'None'"
   ]
  },
  {
   "cell_type": "code",
   "execution_count": 7,
   "metadata": {},
   "outputs": [
    {
     "data": {
      "text/plain": [
       "(112375, 37)"
      ]
     },
     "execution_count": 7,
     "metadata": {},
     "output_type": "execute_result"
    }
   ],
   "source": [
    "df[(df['DEP_TIME'].isnull() & df['ARR_TIME'].isnull() & df['CANCELLED']==1) & df['AIR_TIME'].isnull()].shape"
   ]
  },
  {
   "cell_type": "code",
   "execution_count": 8,
   "metadata": {},
   "outputs": [],
   "source": [
    "df['DEP_TIME'][(df['DEP_TIME'].isnull() & df['ARR_TIME'].isnull() & df['CANCELLED']==1) & df['AIR_TIME'].isnull()] = 'None'"
   ]
  },
  {
   "cell_type": "code",
   "execution_count": 9,
   "metadata": {},
   "outputs": [],
   "source": [
    "df['ARR_TIME'][df['DEP_TIME'] == 'None'] = 'None'"
   ]
  },
  {
   "cell_type": "code",
   "execution_count": 10,
   "metadata": {},
   "outputs": [],
   "source": [
    "df['AIR_TIME'][df['DEP_TIME'] == 'None'] = 'None'"
   ]
  },
  {
   "cell_type": "code",
   "execution_count": 11,
   "metadata": {},
   "outputs": [],
   "source": [
    "df['ARR_TIME'][df['ARR_TIME'].isnull() & df['DIVERTED']==1] = 'None'"
   ]
  },
  {
   "cell_type": "code",
   "execution_count": 12,
   "metadata": {},
   "outputs": [],
   "source": [
    "df['ARR_TIME'][df['ARR_TIME'].isnull() & df['CANCELLED']==1] = 'None'"
   ]
  },
  {
   "cell_type": "code",
   "execution_count": 13,
   "metadata": {},
   "outputs": [],
   "source": [
    "df['CANCELLATION_CODE'][df['CANCELLATION_CODE'].isnull()]='None'"
   ]
  },
  {
   "cell_type": "code",
   "execution_count": 14,
   "metadata": {},
   "outputs": [],
   "source": [
    "df['AIR_TIME'][df['AIR_TIME'].isnull() & df['DIVERTED']==1] = 'None'"
   ]
  },
  {
   "cell_type": "code",
   "execution_count": 15,
   "metadata": {},
   "outputs": [],
   "source": [
    "df['AIR_TIME'][df['AIR_TIME'].isnull() & df['CANCELLED']==1] = 'None'"
   ]
  },
  {
   "cell_type": "markdown",
   "metadata": {},
   "source": [
    "For flights that were not cancelled, CANCEL_STATUS column has missing values. Hence, we replaced them with the string 'Not Cancelled'"
   ]
  },
  {
   "cell_type": "code",
   "execution_count": 16,
   "metadata": {},
   "outputs": [],
   "source": [
    "df['CANCEL_STATUS'][df['CANCEL_STATUS'].isnull()]='Not Cancelled'"
   ]
  },
  {
   "cell_type": "markdown",
   "metadata": {},
   "source": [
    "For those days of the year that are not Holidays, we replaced the missing values in the column HolidayStat with 0"
   ]
  },
  {
   "cell_type": "code",
   "execution_count": 17,
   "metadata": {},
   "outputs": [],
   "source": [
    "df['HolidayStat'][df['HolidayStat'].isnull()]=0"
   ]
  },
  {
   "cell_type": "markdown",
   "metadata": {},
   "source": [
    "For all the Delay Types, there are missing values indicating there was no such type of delay for that flight. Hence,we replaced the missing values with 0\n"
   ]
  },
  {
   "cell_type": "code",
   "execution_count": 18,
   "metadata": {},
   "outputs": [],
   "source": [
    "df['CARRIER_DELAY'][df['CARRIER_DELAY'].isnull()]=0"
   ]
  },
  {
   "cell_type": "code",
   "execution_count": 19,
   "metadata": {},
   "outputs": [],
   "source": [
    "df['WEATHER_DELAY'][df['WEATHER_DELAY'].isnull()]=0"
   ]
  },
  {
   "cell_type": "code",
   "execution_count": 20,
   "metadata": {},
   "outputs": [],
   "source": [
    "df['NAS_DELAY'][df['NAS_DELAY'].isnull()]=0"
   ]
  },
  {
   "cell_type": "code",
   "execution_count": 21,
   "metadata": {},
   "outputs": [],
   "source": [
    "df['SECURITY_DELAY'][df['SECURITY_DELAY'].isnull()]=0"
   ]
  },
  {
   "cell_type": "code",
   "execution_count": 22,
   "metadata": {},
   "outputs": [],
   "source": [
    "df['LATE_AIRCRAFT_DELAY'][df['LATE_AIRCRAFT_DELAY'].isnull()]=0"
   ]
  },
  {
   "cell_type": "markdown",
   "metadata": {},
   "source": [
    "For flights which were cancelled or diverted, ARR_DELAY and DEP_DELAY had missing values and hence, we considered those to be 0"
   ]
  },
  {
   "cell_type": "code",
   "execution_count": 23,
   "metadata": {},
   "outputs": [],
   "source": [
    "df['ARR_DELAY'][df['ARR_DELAY'].isnull()]=0"
   ]
  },
  {
   "cell_type": "code",
   "execution_count": 24,
   "metadata": {},
   "outputs": [],
   "source": [
    "df['DEP_DELAY'][df['DEP_DELAY'].isnull()]=0"
   ]
  },
  {
   "cell_type": "markdown",
   "metadata": {},
   "source": [
    "So, we finally we verify that there are no null/missing values in any of the columns in our data frame."
   ]
  },
  {
   "cell_type": "code",
   "execution_count": 25,
   "metadata": {},
   "outputs": [
    {
     "data": {
      "text/plain": [
       "YEAR                     0\n",
       "MONTH                    0\n",
       "DAY_OF_MONTH             0\n",
       "DAY_OF_WEEK              0\n",
       "OP_CARRIER_AIRLINE_ID    0\n",
       "OP_CARRIER               0\n",
       "ORIGIN_AIRPORT_ID        0\n",
       "ORIGIN                   0\n",
       "ORIGIN_CITY_NAME         0\n",
       "ORIGIN_STATE_NM          0\n",
       "DEST_AIRPORT_ID          0\n",
       "DEST                     0\n",
       "DEST_CITY_NAME           0\n",
       "DEST_STATE_NM            0\n",
       "DEP_TIME                 0\n",
       "DEP_DELAY                0\n",
       "DEP_TIME_BLK             0\n",
       "ARR_TIME                 0\n",
       "ARR_DELAY                0\n",
       "ARR_TIME_BLK             0\n",
       "CANCELLED                0\n",
       "CANCELLATION_CODE        0\n",
       "DIVERTED                 0\n",
       "AIR_TIME                 1\n",
       "FLIGHTS                  0\n",
       "DISTANCE                 0\n",
       "CARRIER_DELAY            0\n",
       "WEATHER_DELAY            0\n",
       "NAS_DELAY                0\n",
       "SECURITY_DELAY           0\n",
       "LATE_AIRCRAFT_DELAY      0\n",
       "Airlines                 0\n",
       "CANCEL_STATUS            0\n",
       "Date                     0\n",
       "HolidayStat              0\n",
       "Season                   0\n",
       "DELAYED                  0\n",
       "dtype: int64"
      ]
     },
     "execution_count": 25,
     "metadata": {},
     "output_type": "execute_result"
    }
   ],
   "source": [
    "df.isnull().sum()"
   ]
  },
  {
   "cell_type": "markdown",
   "metadata": {},
   "source": [
    "## Exploratory Data Analysis"
   ]
  },
  {
   "cell_type": "markdown",
   "metadata": {},
   "source": [
    "### Proportion of Delayed Flights for Holidays (excluding weekends) vs Non-Holidays "
   ]
  },
  {
   "cell_type": "code",
   "execution_count": 26,
   "metadata": {},
   "outputs": [
    {
     "data": {
      "text/plain": [
       "HolidayStat\n",
       "0.0    0.351534\n",
       "1.0    0.324661\n",
       "Name: DELAYED, dtype: float64"
      ]
     },
     "execution_count": 26,
     "metadata": {},
     "output_type": "execute_result"
    }
   ],
   "source": [
    "df['DELAYED'].groupby(by=df['HolidayStat']).mean()"
   ]
  },
  {
   "cell_type": "code",
   "execution_count": 27,
   "metadata": {},
   "outputs": [
    {
     "data": {
      "text/plain": [
       "0.34848403361437486"
      ]
     },
     "execution_count": 27,
     "metadata": {},
     "output_type": "execute_result"
    }
   ],
   "source": [
    "df['DELAYED'].mean()"
   ]
  },
  {
   "cell_type": "code",
   "execution_count": 28,
   "metadata": {},
   "outputs": [
    {
     "data": {
      "text/plain": [
       "0.11349199644904166"
      ]
     },
     "execution_count": 28,
     "metadata": {},
     "output_type": "execute_result"
    }
   ],
   "source": [
    "df['HolidayStat'].mean()"
   ]
  },
  {
   "cell_type": "markdown",
   "metadata": {},
   "source": [
    "- **We see that the proportion of the flights delayed is almost the same on both holidays and non-holidays. 35% of the flights in 2018 were delayed.**\n",
    "\n",
    "- **We also see that 11% of the days in 2018 were holidays.**"
   ]
  },
  {
   "cell_type": "markdown",
   "metadata": {},
   "source": [
    "### Proportion of Cancelled Flights for Holidays (excluding weekends) vs Non-Holidays "
   ]
  },
  {
   "cell_type": "code",
   "execution_count": 29,
   "metadata": {},
   "outputs": [
    {
     "data": {
      "text/plain": [
       "HolidayStat\n",
       "0.0    0.016889\n",
       "1.0    0.010176\n",
       "Name: CANCELLED, dtype: float32"
      ]
     },
     "execution_count": 29,
     "metadata": {},
     "output_type": "execute_result"
    }
   ],
   "source": [
    "df['CANCELLED'].groupby(by=df['HolidayStat']).mean()"
   ]
  },
  {
   "cell_type": "code",
   "execution_count": 30,
   "metadata": {},
   "outputs": [
    {
     "data": {
      "text/plain": [
       "0.016126831993460655"
      ]
     },
     "execution_count": 30,
     "metadata": {},
     "output_type": "execute_result"
    }
   ],
   "source": [
    "df['CANCELLED'].mean()"
   ]
  },
  {
   "cell_type": "markdown",
   "metadata": {},
   "source": [
    "- **We can see that the proportion of the flights cancelled on non-holidays is slightly higher than on Holidays.**\n",
    "\n",
    "- **We also see that 1.6% of the total flights in 2018 were cancelled.**"
   ]
  },
  {
   "cell_type": "markdown",
   "metadata": {},
   "source": [
    "###  Delays by day of the week"
   ]
  },
  {
   "cell_type": "code",
   "execution_count": 37,
   "metadata": {},
   "outputs": [
    {
     "data": {
      "text/plain": [
       "DAY_OF_WEEK\n",
       "1    0.358863\n",
       "2    0.337533\n",
       "3    0.337200\n",
       "4    0.371343\n",
       "5    0.378621\n",
       "6    0.311035\n",
       "7    0.336673\n",
       "Name: DELAYED, dtype: float64"
      ]
     },
     "execution_count": 37,
     "metadata": {},
     "output_type": "execute_result"
    }
   ],
   "source": [
    "week_delay = df['DELAYED'].groupby(by=df['DAY_OF_WEEK']).mean()\n",
    "week_delay"
   ]
  },
  {
   "cell_type": "code",
   "execution_count": 38,
   "metadata": {
    "scrolled": true
   },
   "outputs": [
    {
     "data": {
      "image/png": "[encoded data removed]",
      "text/plain": [
       "<Figure size 576x432 with 1 Axes>"
      ]
     },
     "metadata": {},
     "output_type": "display_data"
    }
   ],
   "source": [
    "plt.figure(figsize=(8,6))\n",
    "sns.barplot(week_delay.index, week_delay.values, alpha=0.8, color=color[1])\n",
    "plt.xlabel('Day of the week', fontsize=12)\n",
    "plt.ylabel('Proportion of Delayed Flights', fontsize=12)\n",
    "plt.title('Delays by day of the week')\n",
    "plt.show()"
   ]
  },
  {
   "cell_type": "markdown",
   "metadata": {},
   "source": [
    "**We can clearly see that Friday has the highest delay rate followed by Thursday. On the other hand, Saturday has the least delay rate.**"
   ]
  },
  {
   "cell_type": "markdown",
   "metadata": {},
   "source": [
    "###  Cancellations by day of the week"
   ]
  },
  {
   "cell_type": "code",
   "execution_count": 39,
   "metadata": {},
   "outputs": [
    {
     "data": {
      "text/plain": [
       "DAY_OF_WEEK\n",
       "1    0.014704\n",
       "2    0.018493\n",
       "3    0.019869\n",
       "4    0.017962\n",
       "5    0.017941\n",
       "6    0.010109\n",
       "7    0.012799\n",
       "Name: CANCELLED, dtype: float32"
      ]
     },
     "execution_count": 39,
     "metadata": {},
     "output_type": "execute_result"
    }
   ],
   "source": [
    "week_canc = df['CANCELLED'].groupby(by=df['DAY_OF_WEEK']).mean()\n",
    "week_canc"
   ]
  },
  {
   "cell_type": "code",
   "execution_count": 40,
   "metadata": {},
   "outputs": [
    {
     "data": {
      "image/png": "[encoded data removed]",
      "text/plain": [
       "<Figure size 576x432 with 1 Axes>"
      ]
     },
     "metadata": {},
     "output_type": "display_data"
    }
   ],
   "source": [
    "plt.figure(figsize=(8,6))\n",
    "sns.barplot(week_canc.index, week_canc.values, alpha=0.8, color=color[1])\n",
    "plt.xlabel('Day of the week', fontsize=12)\n",
    "plt.ylabel('Proportion of Cancelled Flights', fontsize=12)\n",
    "plt.title('Cancellations by day of the week')\n",
    "plt.show()"
   ]
  },
  {
   "cell_type": "markdown",
   "metadata": {},
   "source": [
    "**We can clearly see that Wednesday has the highest cancellation rate followed by Tuesday. Even in this case, Saturday has the least cancellation rate.**"
   ]
  },
  {
   "cell_type": "markdown",
   "metadata": {},
   "source": [
    "###  Delays by month"
   ]
  },
  {
   "cell_type": "code",
   "execution_count": 41,
   "metadata": {},
   "outputs": [
    {
     "data": {
      "text/plain": [
       "MONTH\n",
       "1     0.314735\n",
       "2     0.340471\n",
       "3     0.328775\n",
       "4     0.335305\n",
       "5     0.352671\n",
       "6     0.377572\n",
       "7     0.383590\n",
       "8     0.380177\n",
       "9     0.308236\n",
       "10    0.334616\n",
       "11    0.367185\n",
       "12    0.349938\n",
       "Name: DELAYED, dtype: float64"
      ]
     },
     "execution_count": 41,
     "metadata": {},
     "output_type": "execute_result"
    }
   ],
   "source": [
    "month_delay = df['DELAYED'].groupby(by=df['MONTH']).mean()\n",
    "month_delay"
   ]
  },
  {
   "cell_type": "code",
   "execution_count": 42,
   "metadata": {},
   "outputs": [
    {
     "data": {
      "image/png": "[encoded data removed]",
      "text/plain": [
       "<Figure size 864x576 with 1 Axes>"
      ]
     },
     "metadata": {},
     "output_type": "display_data"
    }
   ],
   "source": [
    "plt.figure(figsize=(12,8))\n",
    "sns.barplot(month_delay.index, month_delay.values, alpha=0.8, color=color[9])\n",
    "plt.xlabel('Month', fontsize=12)\n",
    "plt.ylabel('Proportion of Delayed Flights', fontsize=12)\n",
    "plt.title('Delays by Month')\n",
    "plt.show()"
   ]
  },
  {
   "cell_type": "markdown",
   "metadata": {},
   "source": [
    "**We can clearly see that July has the highest delay rate followed by August & June. On the other hand, September has the least delay rate.**"
   ]
  },
  {
   "cell_type": "markdown",
   "metadata": {},
   "source": [
    "### Cancellations by Month"
   ]
  },
  {
   "cell_type": "code",
   "execution_count": 43,
   "metadata": {},
   "outputs": [
    {
     "data": {
      "text/plain": [
       "MONTH\n",
       "1     0.030115\n",
       "2     0.017237\n",
       "3     0.028236\n",
       "4     0.010254\n",
       "5     0.011605\n",
       "6     0.017078\n",
       "7     0.017175\n",
       "8     0.019162\n",
       "9     0.013883\n",
       "10    0.007280\n",
       "11    0.010669\n",
       "12    0.011370\n",
       "Name: CANCELLED, dtype: float32"
      ]
     },
     "execution_count": 43,
     "metadata": {},
     "output_type": "execute_result"
    }
   ],
   "source": [
    "month_canc = df['CANCELLED'].groupby(by=df['MONTH']).mean()\n",
    "month_canc"
   ]
  },
  {
   "cell_type": "code",
   "execution_count": 44,
   "metadata": {},
   "outputs": [
    {
     "data": {
      "image/png": "[encoded data removed]",
      "text/plain": [
       "<Figure size 864x576 with 1 Axes>"
      ]
     },
     "metadata": {},
     "output_type": "display_data"
    }
   ],
   "source": [
    "plt.figure(figsize=(12,8))\n",
    "sns.barplot(month_canc.index, month_canc.values, alpha=0.8, color=color[9])\n",
    "plt.xlabel('Month', fontsize=12)\n",
    "plt.ylabel('Proportion of Cancelled Flights', fontsize=12)\n",
    "plt.title('Cancellations by Month')\n",
    "plt.show()"
   ]
  },
  {
   "cell_type": "markdown",
   "metadata": {},
   "source": [
    "**January has the highest cancellation rate followed by March. While October has the least cancellation rate.**"
   ]
  },
  {
   "cell_type": "markdown",
   "metadata": {},
   "source": [
    "### Delays/Cancellations by Seasons"
   ]
  },
  {
   "cell_type": "code",
   "execution_count": 45,
   "metadata": {},
   "outputs": [
    {
     "data": {
      "text/html": [
       "<div>\n",
       "<style scoped>\n",
       "    .dataframe tbody tr th:only-of-type {\n",
       "        vertical-align: middle;\n",
       "    }\n",
       "\n",
       "    .dataframe tbody tr th {\n",
       "        vertical-align: top;\n",
       "    }\n",
       "\n",
       "    .dataframe thead th {\n",
       "        text-align: right;\n",
       "    }\n",
       "</style>\n",
       "<table border=\"1\" class=\"dataframe\">\n",
       "  <thead>\n",
       "    <tr style=\"text-align: right;\">\n",
       "      <th></th>\n",
       "      <th>DELAYED</th>\n",
       "      <th>CANCELLED</th>\n",
       "    </tr>\n",
       "    <tr>\n",
       "      <th>Season</th>\n",
       "      <th></th>\n",
       "      <th></th>\n",
       "    </tr>\n",
       "  </thead>\n",
       "  <tbody>\n",
       "    <tr>\n",
       "      <th>Fall</th>\n",
       "      <td>0.342405</td>\n",
       "      <td>0.008989</td>\n",
       "    </tr>\n",
       "    <tr>\n",
       "      <th>Spring</th>\n",
       "      <td>0.345991</td>\n",
       "      <td>0.014605</td>\n",
       "    </tr>\n",
       "    <tr>\n",
       "      <th>Summer</th>\n",
       "      <td>0.367723</td>\n",
       "      <td>0.017645</td>\n",
       "    </tr>\n",
       "    <tr>\n",
       "      <th>Winter</th>\n",
       "      <td>0.335457</td>\n",
       "      <td>0.023568</td>\n",
       "    </tr>\n",
       "  </tbody>\n",
       "</table>\n",
       "</div>"
      ],
      "text/plain": [
       "         DELAYED  CANCELLED\n",
       "Season                     \n",
       "Fall    0.342405   0.008989\n",
       "Spring  0.345991   0.014605\n",
       "Summer  0.367723   0.017645\n",
       "Winter  0.335457   0.023568"
      ]
     },
     "execution_count": 45,
     "metadata": {},
     "output_type": "execute_result"
    }
   ],
   "source": [
    "season_delay = df['DELAYED'].groupby(by=df['Season']).mean()\n",
    "season_canc = df['CANCELLED'].groupby(by=df['Season']).mean()\n",
    "season_analysis = pd.concat([season_delay, season_canc], axis=1)\n",
    "season_analysis"
   ]
  },
  {
   "cell_type": "code",
   "execution_count": 46,
   "metadata": {},
   "outputs": [
    {
     "data": {
      "text/plain": [
       "<matplotlib.axes._subplots.AxesSubplot at 0x2a492e1ada0>"
      ]
     },
     "execution_count": 46,
     "metadata": {},
     "output_type": "execute_result"
    },
    {
     "data": {
      "image/png": "[encoded data removed]",
      "text/plain": [
       "<Figure size 432x288 with 1 Axes>"
      ]
     },
     "metadata": {},
     "output_type": "display_data"
    }
   ],
   "source": [
    "season_analysis.plot(kind='bar')"
   ]
  },
  {
   "cell_type": "markdown",
   "metadata": {},
   "source": [
    "**Summer has the highest delay rate while Winter has the highest Cancellation rate.**"
   ]
  },
  {
   "cell_type": "markdown",
   "metadata": {},
   "source": [
    "### Factors for Cancellation of flights"
   ]
  },
  {
   "cell_type": "code",
   "execution_count": 35,
   "metadata": {},
   "outputs": [
    {
     "data": {
      "text/plain": [
       "Weather                61989\n",
       "Carrier                29534\n",
       "National Air System    25073\n",
       "Security                  49\n",
       "Name: CANCEL_STATUS, dtype: int64"
      ]
     },
     "execution_count": 35,
     "metadata": {},
     "output_type": "execute_result"
    }
   ],
   "source": [
    "factors = df['CANCEL_STATUS'][df['CANCEL_STATUS']!='Not Cancelled'].value_counts()\n",
    "factors"
   ]
  },
  {
   "cell_type": "code",
   "execution_count": 36,
   "metadata": {
    "scrolled": true
   },
   "outputs": [
    {
     "data": {
      "image/png": "[encoded data removed]",
      "text/plain": [
       "<Figure size 504x360 with 1 Axes>"
      ]
     },
     "metadata": {},
     "output_type": "display_data"
    }
   ],
   "source": [
    "plt.figure(figsize=(7,5))\n",
    "sns.barplot(factors.index, factors.values, alpha=0.8, color=color[2])\n",
    "plt.xlabel('Factors', fontsize=12)\n",
    "plt.ylabel('Number of Cancelled Flights', fontsize=12)\n",
    "plt.title('Cancellation Factors')\n",
    "plt.show()"
   ]
  },
  {
   "cell_type": "markdown",
   "metadata": {},
   "source": [
    "#### As expected, Weather was the reason for the hightest number of cancellations."
   ]
  },
  {
   "cell_type": "markdown",
   "metadata": {},
   "source": [
    "#### As Weather seems to be the major reason for flight cancellations, we want to analyse the impact of Weather on cancellations across different regions of the United States. (since USA is a large country with diverse weather throughout)"
   ]
  },
  {
   "cell_type": "markdown",
   "metadata": {},
   "source": [
    "### Function to map the airports by their Region in the US"
   ]
  },
  {
   "cell_type": "code",
   "execution_count": 49,
   "metadata": {},
   "outputs": [],
   "source": [
    "NorthEast = ['Connecticut', 'Maine', 'Massachusetts', 'New Hampshire', 'Rhode Island', 'Vermont', 'New Jersey', 'New York', 'Pennsylvania', 'Delaware', 'Maryland']\n",
    "SouthEast = ['West Virginia', 'Virginia', 'North Carolina', 'South Carolina', 'Georgia', 'Florida', 'Alabama', 'Louisiana', 'Arkansas', 'Mississippi', 'Tennessee', 'Kentucky']\n",
    "MiddleWest =['North Dakota','Minnesota','South Dakota','Kansas','Indiana','Ohio','Michigan','Illinois','Iowa','Missouri','Wisconsin','Nebraska']\n",
    "West =['Montana','Wyoming', 'Colorado','Utah','Idaho','Nevada','California','Oregon','Washington','Hawaii','Alaska']\n",
    "SouthWest = ['Arizona','New Mexico','Texas','Oklahoma']\n",
    "Other = ['U.S. Virgin Islands', 'U.S. Pacific Trust Territories and Possessions ']"
   ]
  },
  {
   "cell_type": "code",
   "execution_count": 51,
   "metadata": {},
   "outputs": [],
   "source": [
    "df['Region'] = ''"
   ]
  },
  {
   "cell_type": "code",
   "execution_count": 52,
   "metadata": {},
   "outputs": [],
   "source": [
    "def Region(state):\n",
    "    if state in NorthEast :\n",
    "        return('NorthEast')\n",
    "    elif state in SouthEast :\n",
    "        return('SouthEast')\n",
    "    elif state in MiddleWest :\n",
    "        return('MiddleWest')\n",
    "    elif state in West :\n",
    "        return('West')\n",
    "    elif state in SouthWest :\n",
    "        return('SouthWest')\n",
    "    else:\n",
    "        return('Other')"
   ]
  },
  {
   "cell_type": "code",
   "execution_count": 53,
   "metadata": {},
   "outputs": [],
   "source": [
    "df['Region'] = df['ORIGIN_STATE_NM'].map(lambda x: Region(x))"
   ]
  },
  {
   "cell_type": "code",
   "execution_count": 54,
   "metadata": {},
   "outputs": [
    {
     "data": {
      "text/plain": [
       "SouthEast     2012084\n",
       "West          1799615\n",
       "MiddleWest    1293662\n",
       "NorthEast     1067121\n",
       "SouthWest     1028445\n",
       "Other           32050\n",
       "Name: Region, dtype: int64"
      ]
     },
     "execution_count": 54,
     "metadata": {},
     "output_type": "execute_result"
    }
   ],
   "source": [
    "df.Region.value_counts()"
   ]
  },
  {
   "cell_type": "markdown",
   "metadata": {},
   "source": [
    "### Analysis of Flight Cancellations by Region & Weather"
   ]
  },
  {
   "cell_type": "code",
   "execution_count": 56,
   "metadata": {},
   "outputs": [
    {
     "data": {
      "text/plain": [
       "SouthEast     19152\n",
       "NorthEast     16606\n",
       "MiddleWest    12856\n",
       "SouthWest      7283\n",
       "West           5979\n",
       "Other           113\n",
       "Name: Region, dtype: int64"
      ]
     },
     "execution_count": 56,
     "metadata": {},
     "output_type": "execute_result"
    }
   ],
   "source": [
    "df['Region'][df['CANCEL_STATUS'] == 'Weather'].value_counts()"
   ]
  },
  {
   "cell_type": "code",
   "execution_count": 57,
   "metadata": {},
   "outputs": [],
   "source": [
    "df_cancel = df[(df['CANCEL_STATUS']!='Not Cancelled') & (df['Region'] != 'Other')]"
   ]
  },
  {
   "cell_type": "code",
   "execution_count": 58,
   "metadata": {},
   "outputs": [
    {
     "data": {
      "text/html": [
       "<div>\n",
       "<style scoped>\n",
       "    .dataframe tbody tr th:only-of-type {\n",
       "        vertical-align: middle;\n",
       "    }\n",
       "\n",
       "    .dataframe tbody tr th {\n",
       "        vertical-align: top;\n",
       "    }\n",
       "\n",
       "    .dataframe thead th {\n",
       "        text-align: right;\n",
       "    }\n",
       "</style>\n",
       "<table border=\"1\" class=\"dataframe\">\n",
       "  <thead>\n",
       "    <tr style=\"text-align: right;\">\n",
       "      <th>CANCEL_STATUS</th>\n",
       "      <th>Carrier</th>\n",
       "      <th>National Air System</th>\n",
       "      <th>Security</th>\n",
       "      <th>Weather</th>\n",
       "    </tr>\n",
       "    <tr>\n",
       "      <th>Region</th>\n",
       "      <th></th>\n",
       "      <th></th>\n",
       "      <th></th>\n",
       "      <th></th>\n",
       "    </tr>\n",
       "  </thead>\n",
       "  <tbody>\n",
       "    <tr>\n",
       "      <th>MiddleWest</th>\n",
       "      <td>3965</td>\n",
       "      <td>5885</td>\n",
       "      <td>12</td>\n",
       "      <td>12856</td>\n",
       "    </tr>\n",
       "    <tr>\n",
       "      <th>NorthEast</th>\n",
       "      <td>5184</td>\n",
       "      <td>9387</td>\n",
       "      <td>1</td>\n",
       "      <td>16606</td>\n",
       "    </tr>\n",
       "    <tr>\n",
       "      <th>SouthEast</th>\n",
       "      <td>9138</td>\n",
       "      <td>5664</td>\n",
       "      <td>9</td>\n",
       "      <td>19152</td>\n",
       "    </tr>\n",
       "    <tr>\n",
       "      <th>SouthWest</th>\n",
       "      <td>4798</td>\n",
       "      <td>1768</td>\n",
       "      <td>21</td>\n",
       "      <td>7283</td>\n",
       "    </tr>\n",
       "    <tr>\n",
       "      <th>West</th>\n",
       "      <td>6313</td>\n",
       "      <td>2349</td>\n",
       "      <td>6</td>\n",
       "      <td>5979</td>\n",
       "    </tr>\n",
       "  </tbody>\n",
       "</table>\n",
       "</div>"
      ],
      "text/plain": [
       "CANCEL_STATUS  Carrier  National Air System  Security  Weather\n",
       "Region                                                        \n",
       "MiddleWest        3965                 5885        12    12856\n",
       "NorthEast         5184                 9387         1    16606\n",
       "SouthEast         9138                 5664         9    19152\n",
       "SouthWest         4798                 1768        21     7283\n",
       "West              6313                 2349         6     5979"
      ]
     },
     "execution_count": 58,
     "metadata": {},
     "output_type": "execute_result"
    }
   ],
   "source": [
    "table = df_cancel.groupby(['Region','CANCEL_STATUS'])['OP_CARRIER_AIRLINE_ID'].count().unstack()\n",
    "table = table.fillna(0)\n",
    "table"
   ]
  },
  {
   "cell_type": "code",
   "execution_count": 59,
   "metadata": {},
   "outputs": [
    {
     "data": {
      "image/png": "[encoded data removed]",
      "text/plain": [
       "<Figure size 576x576 with 2 Axes>"
      ]
     },
     "metadata": {},
     "output_type": "display_data"
    }
   ],
   "source": [
    "plt.figure(figsize=(8,8))\n",
    "sns.heatmap(table, cmap='YlGnBu', annot=True, fmt='0.0f', square=True, linewidths=1);"
   ]
  },
  {
   "cell_type": "markdown",
   "metadata": {},
   "source": [
    "- **We can see from the Heat Map that Weather seems to be the major factor for cancellations across all the regions except for West**\n",
    "\n",
    "- **The number of cancellations due to Weather are the highest in SouthEast followed by NorthEast**"
   ]
  },
  {
   "cell_type": "markdown",
   "metadata": {},
   "source": [
    "### Factors for Delays of flights"
   ]
  },
  {
   "cell_type": "code",
   "execution_count": 61,
   "metadata": {},
   "outputs": [
    {
     "data": {
      "image/png": "[encoded data removed]",
      "text/plain": [
       "<Figure size 432x288 with 1 Axes>"
      ]
     },
     "metadata": {},
     "output_type": "display_data"
    }
   ],
   "source": [
    "df2 = pd.DataFrame({'lab':['CARRIER_DELAY','WEATHER_DELAY', 'NAS_DELAY', 'SECURITY_DELAY'], \n",
    "                    'val':[df['CARRIER_DELAY'].mean(), df['WEATHER_DELAY'].mean(), df['NAS_DELAY'].mean(), df['SECURITY_DELAY'].mean()]})\n",
    "ax = df2.plot.bar(x='lab', y='val', rot=0)"
   ]
  },
  {
   "cell_type": "markdown",
   "metadata": {},
   "source": [
    "#### Unlike the case of Cancellations, Weather doesn't seem to be an important factor for Delays. Carriers and NAS are the most prominent factors affecting the delay time."
   ]
  },
  {
   "cell_type": "markdown",
   "metadata": {},
   "source": [
    "### Analysis of Flight Delays by Region & Weather"
   ]
  },
  {
   "cell_type": "code",
   "execution_count": 62,
   "metadata": {},
   "outputs": [
    {
     "data": {
      "text/html": [
       "<div>\n",
       "<style scoped>\n",
       "    .dataframe tbody tr th:only-of-type {\n",
       "        vertical-align: middle;\n",
       "    }\n",
       "\n",
       "    .dataframe tbody tr th {\n",
       "        vertical-align: top;\n",
       "    }\n",
       "\n",
       "    .dataframe thead th {\n",
       "        text-align: right;\n",
       "    }\n",
       "</style>\n",
       "<table border=\"1\" class=\"dataframe\">\n",
       "  <thead>\n",
       "    <tr style=\"text-align: right;\">\n",
       "      <th></th>\n",
       "      <th>YEAR</th>\n",
       "      <th>MONTH</th>\n",
       "      <th>DAY_OF_MONTH</th>\n",
       "      <th>DAY_OF_WEEK</th>\n",
       "      <th>OP_CARRIER_AIRLINE_ID</th>\n",
       "      <th>OP_CARRIER</th>\n",
       "      <th>ORIGIN_AIRPORT_ID</th>\n",
       "      <th>ORIGIN</th>\n",
       "      <th>ORIGIN_CITY_NAME</th>\n",
       "      <th>ORIGIN_STATE_NM</th>\n",
       "      <th>DEST_AIRPORT_ID</th>\n",
       "      <th>DEST</th>\n",
       "      <th>DEST_CITY_NAME</th>\n",
       "      <th>DEST_STATE_NM</th>\n",
       "      <th>DEP_TIME</th>\n",
       "      <th>DEP_DELAY</th>\n",
       "      <th>DEP_TIME_BLK</th>\n",
       "      <th>ARR_TIME</th>\n",
       "      <th>ARR_DELAY</th>\n",
       "      <th>ARR_TIME_BLK</th>\n",
       "      <th>CANCELLED</th>\n",
       "      <th>CANCELLATION_CODE</th>\n",
       "      <th>DIVERTED</th>\n",
       "      <th>AIR_TIME</th>\n",
       "      <th>FLIGHTS</th>\n",
       "      <th>DISTANCE</th>\n",
       "      <th>CARRIER_DELAY</th>\n",
       "      <th>WEATHER_DELAY</th>\n",
       "      <th>NAS_DELAY</th>\n",
       "      <th>SECURITY_DELAY</th>\n",
       "      <th>LATE_AIRCRAFT_DELAY</th>\n",
       "      <th>Airlines</th>\n",
       "      <th>CANCEL_STATUS</th>\n",
       "      <th>Date</th>\n",
       "      <th>HolidayStat</th>\n",
       "      <th>Season</th>\n",
       "      <th>DELAYED</th>\n",
       "      <th>Region</th>\n",
       "    </tr>\n",
       "  </thead>\n",
       "  <tbody>\n",
       "    <tr>\n",
       "      <th>68</th>\n",
       "      <td>2018</td>\n",
       "      <td>1</td>\n",
       "      <td>27</td>\n",
       "      <td>6</td>\n",
       "      <td>19977</td>\n",
       "      <td>UA</td>\n",
       "      <td>11292</td>\n",
       "      <td>DEN</td>\n",
       "      <td>Denver, CO</td>\n",
       "      <td>Colorado</td>\n",
       "      <td>12889</td>\n",
       "      <td>LAS</td>\n",
       "      <td>Las Vegas, NV</td>\n",
       "      <td>Nevada</td>\n",
       "      <td>1217</td>\n",
       "      <td>42.0</td>\n",
       "      <td>1100-1159</td>\n",
       "      <td>1341</td>\n",
       "      <td>68.0</td>\n",
       "      <td>1200-1259</td>\n",
       "      <td>0.0</td>\n",
       "      <td>None</td>\n",
       "      <td>0.0</td>\n",
       "      <td>85</td>\n",
       "      <td>1</td>\n",
       "      <td>628.0</td>\n",
       "      <td>42.0</td>\n",
       "      <td>0.0</td>\n",
       "      <td>26.0</td>\n",
       "      <td>0.0</td>\n",
       "      <td>0.0</td>\n",
       "      <td>United Air Lines Inc.</td>\n",
       "      <td>Not Cancelled</td>\n",
       "      <td>01-27-2018</td>\n",
       "      <td>0.0</td>\n",
       "      <td>Winter</td>\n",
       "      <td>1</td>\n",
       "      <td>West</td>\n",
       "    </tr>\n",
       "    <tr>\n",
       "      <th>84</th>\n",
       "      <td>2018</td>\n",
       "      <td>1</td>\n",
       "      <td>27</td>\n",
       "      <td>6</td>\n",
       "      <td>19977</td>\n",
       "      <td>UA</td>\n",
       "      <td>10821</td>\n",
       "      <td>BWI</td>\n",
       "      <td>Baltimore, MD</td>\n",
       "      <td>Maryland</td>\n",
       "      <td>12266</td>\n",
       "      <td>IAH</td>\n",
       "      <td>Houston, TX</td>\n",
       "      <td>Texas</td>\n",
       "      <td>822</td>\n",
       "      <td>-6.0</td>\n",
       "      <td>0800-0859</td>\n",
       "      <td>1153</td>\n",
       "      <td>48.0</td>\n",
       "      <td>1100-1159</td>\n",
       "      <td>0.0</td>\n",
       "      <td>None</td>\n",
       "      <td>0.0</td>\n",
       "      <td>203</td>\n",
       "      <td>1</td>\n",
       "      <td>1235.0</td>\n",
       "      <td>0.0</td>\n",
       "      <td>0.0</td>\n",
       "      <td>48.0</td>\n",
       "      <td>0.0</td>\n",
       "      <td>0.0</td>\n",
       "      <td>United Air Lines Inc.</td>\n",
       "      <td>Not Cancelled</td>\n",
       "      <td>01-27-2018</td>\n",
       "      <td>0.0</td>\n",
       "      <td>Winter</td>\n",
       "      <td>1</td>\n",
       "      <td>NorthEast</td>\n",
       "    </tr>\n",
       "  </tbody>\n",
       "</table>\n",
       "</div>"
      ],
      "text/plain": [
       "    YEAR  MONTH  DAY_OF_MONTH  DAY_OF_WEEK  OP_CARRIER_AIRLINE_ID OP_CARRIER  \\\n",
       "68  2018      1            27            6                  19977         UA   \n",
       "84  2018      1            27            6                  19977         UA   \n",
       "\n",
       "    ORIGIN_AIRPORT_ID ORIGIN ORIGIN_CITY_NAME ORIGIN_STATE_NM  \\\n",
       "68              11292    DEN       Denver, CO        Colorado   \n",
       "84              10821    BWI    Baltimore, MD        Maryland   \n",
       "\n",
       "    DEST_AIRPORT_ID DEST DEST_CITY_NAME DEST_STATE_NM DEP_TIME  DEP_DELAY  \\\n",
       "68            12889  LAS  Las Vegas, NV        Nevada     1217       42.0   \n",
       "84            12266  IAH    Houston, TX         Texas      822       -6.0   \n",
       "\n",
       "   DEP_TIME_BLK ARR_TIME  ARR_DELAY ARR_TIME_BLK  CANCELLED CANCELLATION_CODE  \\\n",
       "68    1100-1159     1341       68.0    1200-1259        0.0              None   \n",
       "84    0800-0859     1153       48.0    1100-1159        0.0              None   \n",
       "\n",
       "    DIVERTED AIR_TIME  FLIGHTS  DISTANCE  CARRIER_DELAY  WEATHER_DELAY  \\\n",
       "68       0.0       85        1     628.0           42.0            0.0   \n",
       "84       0.0      203        1    1235.0            0.0            0.0   \n",
       "\n",
       "    NAS_DELAY  SECURITY_DELAY  LATE_AIRCRAFT_DELAY               Airlines  \\\n",
       "68       26.0             0.0                  0.0  United Air Lines Inc.   \n",
       "84       48.0             0.0                  0.0  United Air Lines Inc.   \n",
       "\n",
       "    CANCEL_STATUS        Date  HolidayStat  Season  DELAYED     Region  \n",
       "68  Not Cancelled  01-27-2018          0.0  Winter        1       West  \n",
       "84  Not Cancelled  01-27-2018          0.0  Winter        1  NorthEast  "
      ]
     },
     "execution_count": 62,
     "metadata": {},
     "output_type": "execute_result"
    }
   ],
   "source": [
    "df_delay = df[((df['CARRIER_DELAY'] > 0) | (df['WEATHER_DELAY'] > 0) | (df['NAS_DELAY'] > 0) | (df['SECURITY_DELAY'] > 0)) & (df['Region'] != 'Other')]\n",
    "df_delay.head(2)"
   ]
  },
  {
   "cell_type": "code",
   "execution_count": 63,
   "metadata": {
    "scrolled": true
   },
   "outputs": [
    {
     "data": {
      "text/html": [
       "<div>\n",
       "<style scoped>\n",
       "    .dataframe tbody tr th:only-of-type {\n",
       "        vertical-align: middle;\n",
       "    }\n",
       "\n",
       "    .dataframe tbody tr th {\n",
       "        vertical-align: top;\n",
       "    }\n",
       "\n",
       "    .dataframe thead th {\n",
       "        text-align: right;\n",
       "    }\n",
       "</style>\n",
       "<table border=\"1\" class=\"dataframe\">\n",
       "  <thead>\n",
       "    <tr style=\"text-align: right;\">\n",
       "      <th></th>\n",
       "      <th>CARRIER_DELAY</th>\n",
       "      <th>WEATHER_DELAY</th>\n",
       "      <th>NAS_DELAY</th>\n",
       "      <th>SECURITY_DELAY</th>\n",
       "    </tr>\n",
       "    <tr>\n",
       "      <th>Region</th>\n",
       "      <th></th>\n",
       "      <th></th>\n",
       "      <th></th>\n",
       "      <th></th>\n",
       "    </tr>\n",
       "  </thead>\n",
       "  <tbody>\n",
       "    <tr>\n",
       "      <th>MiddleWest</th>\n",
       "      <td>22.863192</td>\n",
       "      <td>5.183434</td>\n",
       "      <td>20.230898</td>\n",
       "      <td>0.064207</td>\n",
       "    </tr>\n",
       "    <tr>\n",
       "      <th>NorthEast</th>\n",
       "      <td>21.898626</td>\n",
       "      <td>3.749459</td>\n",
       "      <td>20.482695</td>\n",
       "      <td>0.094142</td>\n",
       "    </tr>\n",
       "    <tr>\n",
       "      <th>SouthEast</th>\n",
       "      <td>21.901344</td>\n",
       "      <td>5.335678</td>\n",
       "      <td>18.918344</td>\n",
       "      <td>0.105194</td>\n",
       "    </tr>\n",
       "    <tr>\n",
       "      <th>SouthWest</th>\n",
       "      <td>23.448698</td>\n",
       "      <td>4.520161</td>\n",
       "      <td>14.173765</td>\n",
       "      <td>0.171243</td>\n",
       "    </tr>\n",
       "    <tr>\n",
       "      <th>West</th>\n",
       "      <td>22.087309</td>\n",
       "      <td>1.987523</td>\n",
       "      <td>16.851368</td>\n",
       "      <td>0.110998</td>\n",
       "    </tr>\n",
       "  </tbody>\n",
       "</table>\n",
       "</div>"
      ],
      "text/plain": [
       "            CARRIER_DELAY  WEATHER_DELAY  NAS_DELAY  SECURITY_DELAY\n",
       "Region                                                             \n",
       "MiddleWest      22.863192       5.183434  20.230898        0.064207\n",
       "NorthEast       21.898626       3.749459  20.482695        0.094142\n",
       "SouthEast       21.901344       5.335678  18.918344        0.105194\n",
       "SouthWest       23.448698       4.520161  14.173765        0.171243\n",
       "West            22.087309       1.987523  16.851368        0.110998"
      ]
     },
     "execution_count": 63,
     "metadata": {},
     "output_type": "execute_result"
    }
   ],
   "source": [
    "table2 = df_delay.groupby(['Region'])['CARRIER_DELAY','WEATHER_DELAY', 'NAS_DELAY', 'SECURITY_DELAY'].mean()\n",
    "table2"
   ]
  },
  {
   "cell_type": "code",
   "execution_count": 64,
   "metadata": {},
   "outputs": [
    {
     "data": {
      "image/png": "[encoded data removed]",
      "text/plain": [
       "<Figure size 576x576 with 2 Axes>"
      ]
     },
     "metadata": {},
     "output_type": "display_data"
    }
   ],
   "source": [
    "plt.figure(figsize=(8,8))\n",
    "sns.heatmap(table2, cmap='YlGnBu', annot=True, fmt='0.1f', square=True, linewidths=1);"
   ]
  },
  {
   "cell_type": "markdown",
   "metadata": {},
   "source": [
    "- **Among the delayed flights, average carrier delay is the highest compared to other delays across all the regions**\n",
    "\n",
    "- **And interestingly this average carrier delay time is almost the same across all the regions**"
   ]
  },
  {
   "cell_type": "markdown",
   "metadata": {},
   "source": [
    "### Analysis by Airlines"
   ]
  },
  {
   "cell_type": "code",
   "execution_count": 67,
   "metadata": {},
   "outputs": [
    {
     "data": {
      "text/plain": [
       "Southwest Airlines Co.      1356359\n",
       "Delta Air Lines Inc.         951946\n",
       "American Airlines Inc.       919225\n",
       "SkyWest Airlines Inc.        776186\n",
       "United Air Lines Inc.        623118\n",
       "Republic Airline             316929\n",
       "JetBlue Airways              305863\n",
       "Envoy Air                    296739\n",
       "PSA Airlines Inc.            279188\n",
       "Endeavor Air Inc.            246611\n",
       "Alaska Airlines Inc.         246488\n",
       "Mesa Airlines Inc.           215664\n",
       "ExpressJet Airlines Inc.     203469\n",
       "Spirit Air Lines             176667\n",
       "Frontier Airlines Inc.       120333\n",
       "Allegiant Air                 96563\n",
       "Hawaiian Airlines Inc.        83959\n",
       "Virgin America                17670\n",
       "Name: Airlines, dtype: int64"
      ]
     },
     "execution_count": 67,
     "metadata": {},
     "output_type": "execute_result"
    }
   ],
   "source": [
    "df['Airlines'].value_counts()"
   ]
  },
  {
   "cell_type": "code",
   "execution_count": 86,
   "metadata": {
    "scrolled": true
   },
   "outputs": [
    {
     "data": {
      "image/png": "[encoded data removed]",
      "text/plain": [
       "<Figure size 576x360 with 1 Axes>"
      ]
     },
     "metadata": {},
     "output_type": "display_data"
    }
   ],
   "source": [
    "df['Airlines'].value_counts().plot(kind='bar', color='green', figsize=(8,5));"
   ]
  },
  {
   "cell_type": "markdown",
   "metadata": {},
   "source": [
    "#### SouthWest, Delta and American Airlines are the major players in the United States Domestic Airline Industry"
   ]
  },
  {
   "cell_type": "markdown",
   "metadata": {},
   "source": [
    "### Analysis of Flight Cancellations by Airlines"
   ]
  },
  {
   "cell_type": "code",
   "execution_count": 69,
   "metadata": {},
   "outputs": [
    {
     "data": {
      "text/html": [
       "<div>\n",
       "<style scoped>\n",
       "    .dataframe tbody tr th:only-of-type {\n",
       "        vertical-align: middle;\n",
       "    }\n",
       "\n",
       "    .dataframe tbody tr th {\n",
       "        vertical-align: top;\n",
       "    }\n",
       "\n",
       "    .dataframe thead th {\n",
       "        text-align: right;\n",
       "    }\n",
       "</style>\n",
       "<table border=\"1\" class=\"dataframe\">\n",
       "  <thead>\n",
       "    <tr style=\"text-align: right;\">\n",
       "      <th>CANCEL_STATUS</th>\n",
       "      <th>Carrier</th>\n",
       "      <th>National Air System</th>\n",
       "      <th>Security</th>\n",
       "      <th>Weather</th>\n",
       "    </tr>\n",
       "    <tr>\n",
       "      <th>Airlines</th>\n",
       "      <th></th>\n",
       "      <th></th>\n",
       "      <th></th>\n",
       "      <th></th>\n",
       "    </tr>\n",
       "  </thead>\n",
       "  <tbody>\n",
       "    <tr>\n",
       "      <th>Alaska Airlines Inc.</th>\n",
       "      <td>1055.0</td>\n",
       "      <td>591.0</td>\n",
       "      <td>0.0</td>\n",
       "      <td>565.0</td>\n",
       "    </tr>\n",
       "    <tr>\n",
       "      <th>Allegiant Air</th>\n",
       "      <td>399.0</td>\n",
       "      <td>33.0</td>\n",
       "      <td>10.0</td>\n",
       "      <td>331.0</td>\n",
       "    </tr>\n",
       "    <tr>\n",
       "      <th>American Airlines Inc.</th>\n",
       "      <td>4487.0</td>\n",
       "      <td>726.0</td>\n",
       "      <td>26.0</td>\n",
       "      <td>9684.0</td>\n",
       "    </tr>\n",
       "    <tr>\n",
       "      <th>Delta Air Lines Inc.</th>\n",
       "      <td>431.0</td>\n",
       "      <td>192.0</td>\n",
       "      <td>0.0</td>\n",
       "      <td>2898.0</td>\n",
       "    </tr>\n",
       "    <tr>\n",
       "      <th>Endeavor Air Inc.</th>\n",
       "      <td>341.0</td>\n",
       "      <td>3813.0</td>\n",
       "      <td>0.0</td>\n",
       "      <td>2201.0</td>\n",
       "    </tr>\n",
       "    <tr>\n",
       "      <th>Envoy Air</th>\n",
       "      <td>1748.0</td>\n",
       "      <td>6382.0</td>\n",
       "      <td>0.0</td>\n",
       "      <td>2534.0</td>\n",
       "    </tr>\n",
       "    <tr>\n",
       "      <th>ExpressJet Airlines Inc.</th>\n",
       "      <td>1544.0</td>\n",
       "      <td>2574.0</td>\n",
       "      <td>0.0</td>\n",
       "      <td>1553.0</td>\n",
       "    </tr>\n",
       "    <tr>\n",
       "      <th>Frontier Airlines Inc.</th>\n",
       "      <td>1568.0</td>\n",
       "      <td>0.0</td>\n",
       "      <td>0.0</td>\n",
       "      <td>728.0</td>\n",
       "    </tr>\n",
       "    <tr>\n",
       "      <th>Hawaiian Airlines Inc.</th>\n",
       "      <td>237.0</td>\n",
       "      <td>0.0</td>\n",
       "      <td>0.0</td>\n",
       "      <td>13.0</td>\n",
       "    </tr>\n",
       "    <tr>\n",
       "      <th>JetBlue Airways</th>\n",
       "      <td>1285.0</td>\n",
       "      <td>1354.0</td>\n",
       "      <td>0.0</td>\n",
       "      <td>3628.0</td>\n",
       "    </tr>\n",
       "    <tr>\n",
       "      <th>Mesa Airlines Inc.</th>\n",
       "      <td>2411.0</td>\n",
       "      <td>641.0</td>\n",
       "      <td>8.0</td>\n",
       "      <td>2483.0</td>\n",
       "    </tr>\n",
       "    <tr>\n",
       "      <th>PSA Airlines Inc.</th>\n",
       "      <td>4630.0</td>\n",
       "      <td>765.0</td>\n",
       "      <td>2.0</td>\n",
       "      <td>6478.0</td>\n",
       "    </tr>\n",
       "    <tr>\n",
       "      <th>Republic Airline</th>\n",
       "      <td>1888.0</td>\n",
       "      <td>2939.0</td>\n",
       "      <td>1.0</td>\n",
       "      <td>5272.0</td>\n",
       "    </tr>\n",
       "    <tr>\n",
       "      <th>SkyWest Airlines Inc.</th>\n",
       "      <td>733.0</td>\n",
       "      <td>1698.0</td>\n",
       "      <td>0.0</td>\n",
       "      <td>8185.0</td>\n",
       "    </tr>\n",
       "    <tr>\n",
       "      <th>Southwest Airlines Co.</th>\n",
       "      <td>5287.0</td>\n",
       "      <td>2902.0</td>\n",
       "      <td>1.0</td>\n",
       "      <td>10077.0</td>\n",
       "    </tr>\n",
       "    <tr>\n",
       "      <th>Spirit Air Lines</th>\n",
       "      <td>290.0</td>\n",
       "      <td>177.0</td>\n",
       "      <td>1.0</td>\n",
       "      <td>1267.0</td>\n",
       "    </tr>\n",
       "    <tr>\n",
       "      <th>United Air Lines Inc.</th>\n",
       "      <td>905.0</td>\n",
       "      <td>192.0</td>\n",
       "      <td>0.0</td>\n",
       "      <td>3779.0</td>\n",
       "    </tr>\n",
       "    <tr>\n",
       "      <th>Virgin America</th>\n",
       "      <td>159.0</td>\n",
       "      <td>74.0</td>\n",
       "      <td>0.0</td>\n",
       "      <td>200.0</td>\n",
       "    </tr>\n",
       "  </tbody>\n",
       "</table>\n",
       "</div>"
      ],
      "text/plain": [
       "CANCEL_STATUS             Carrier  National Air System  Security  Weather\n",
       "Airlines                                                                 \n",
       "Alaska Airlines Inc.       1055.0                591.0       0.0    565.0\n",
       "Allegiant Air               399.0                 33.0      10.0    331.0\n",
       "American Airlines Inc.     4487.0                726.0      26.0   9684.0\n",
       "Delta Air Lines Inc.        431.0                192.0       0.0   2898.0\n",
       "Endeavor Air Inc.           341.0               3813.0       0.0   2201.0\n",
       "Envoy Air                  1748.0               6382.0       0.0   2534.0\n",
       "ExpressJet Airlines Inc.   1544.0               2574.0       0.0   1553.0\n",
       "Frontier Airlines Inc.     1568.0                  0.0       0.0    728.0\n",
       "Hawaiian Airlines Inc.      237.0                  0.0       0.0     13.0\n",
       "JetBlue Airways            1285.0               1354.0       0.0   3628.0\n",
       "Mesa Airlines Inc.         2411.0                641.0       8.0   2483.0\n",
       "PSA Airlines Inc.          4630.0                765.0       2.0   6478.0\n",
       "Republic Airline           1888.0               2939.0       1.0   5272.0\n",
       "SkyWest Airlines Inc.       733.0               1698.0       0.0   8185.0\n",
       "Southwest Airlines Co.     5287.0               2902.0       1.0  10077.0\n",
       "Spirit Air Lines            290.0                177.0       1.0   1267.0\n",
       "United Air Lines Inc.       905.0                192.0       0.0   3779.0\n",
       "Virgin America              159.0                 74.0       0.0    200.0"
      ]
     },
     "execution_count": 69,
     "metadata": {},
     "output_type": "execute_result"
    }
   ],
   "source": [
    "table3 = df_cancel.groupby(['Airlines','CANCEL_STATUS'])['OP_CARRIER_AIRLINE_ID'].count().unstack()\n",
    "table3 = table3.fillna(0)\n",
    "table3"
   ]
  },
  {
   "cell_type": "code",
   "execution_count": 70,
   "metadata": {},
   "outputs": [
    {
     "data": {
      "image/png": "[encoded data removed]",
      "text/plain": [
       "<Figure size 576x864 with 2 Axes>"
      ]
     },
     "metadata": {},
     "output_type": "display_data"
    }
   ],
   "source": [
    "plt.figure(figsize=(8,12))\n",
    "sns.heatmap(table3, cmap='YlGnBu', annot=True, fmt='0.0f', square=True, linewidths=1);"
   ]
  },
  {
   "cell_type": "markdown",
   "metadata": {},
   "source": [
    "#### From our analysis before we already know that Weather is the major factor in Cancellations. Weather is something that one cannot control but the second prominent factor Carrier can be controlled by the Airlines"
   ]
  },
  {
   "cell_type": "markdown",
   "metadata": {},
   "source": [
    "### Analysis of Flight Cancellations by Carrier"
   ]
  },
  {
   "cell_type": "code",
   "execution_count": 72,
   "metadata": {},
   "outputs": [
    {
     "data": {
      "text/html": [
       "<div>\n",
       "<style scoped>\n",
       "    .dataframe tbody tr th:only-of-type {\n",
       "        vertical-align: middle;\n",
       "    }\n",
       "\n",
       "    .dataframe tbody tr th {\n",
       "        vertical-align: top;\n",
       "    }\n",
       "\n",
       "    .dataframe thead th {\n",
       "        text-align: right;\n",
       "    }\n",
       "</style>\n",
       "<table border=\"1\" class=\"dataframe\">\n",
       "  <thead>\n",
       "    <tr style=\"text-align: right;\">\n",
       "      <th>CANCEL_STATUS</th>\n",
       "      <th>Carrier</th>\n",
       "    </tr>\n",
       "    <tr>\n",
       "      <th>Airlines</th>\n",
       "      <th></th>\n",
       "    </tr>\n",
       "  </thead>\n",
       "  <tbody>\n",
       "    <tr>\n",
       "      <th>Alaska Airlines Inc.</th>\n",
       "      <td>0.004280</td>\n",
       "    </tr>\n",
       "    <tr>\n",
       "      <th>Allegiant Air</th>\n",
       "      <td>0.004142</td>\n",
       "    </tr>\n",
       "    <tr>\n",
       "      <th>American Airlines Inc.</th>\n",
       "      <td>0.004899</td>\n",
       "    </tr>\n",
       "    <tr>\n",
       "      <th>Delta Air Lines Inc.</th>\n",
       "      <td>0.000456</td>\n",
       "    </tr>\n",
       "    <tr>\n",
       "      <th>Endeavor Air Inc.</th>\n",
       "      <td>0.001383</td>\n",
       "    </tr>\n",
       "    <tr>\n",
       "      <th>Envoy Air</th>\n",
       "      <td>0.005891</td>\n",
       "    </tr>\n",
       "    <tr>\n",
       "      <th>ExpressJet Airlines Inc.</th>\n",
       "      <td>0.007588</td>\n",
       "    </tr>\n",
       "    <tr>\n",
       "      <th>Frontier Airlines Inc.</th>\n",
       "      <td>0.013230</td>\n",
       "    </tr>\n",
       "    <tr>\n",
       "      <th>Hawaiian Airlines Inc.</th>\n",
       "      <td>0.002823</td>\n",
       "    </tr>\n",
       "    <tr>\n",
       "      <th>JetBlue Airways</th>\n",
       "      <td>0.004463</td>\n",
       "    </tr>\n",
       "    <tr>\n",
       "      <th>Mesa Airlines Inc.</th>\n",
       "      <td>0.011179</td>\n",
       "    </tr>\n",
       "    <tr>\n",
       "      <th>PSA Airlines Inc.</th>\n",
       "      <td>0.016584</td>\n",
       "    </tr>\n",
       "    <tr>\n",
       "      <th>Republic Airline</th>\n",
       "      <td>0.005957</td>\n",
       "    </tr>\n",
       "    <tr>\n",
       "      <th>SkyWest Airlines Inc.</th>\n",
       "      <td>0.000944</td>\n",
       "    </tr>\n",
       "    <tr>\n",
       "      <th>Southwest Airlines Co.</th>\n",
       "      <td>0.003901</td>\n",
       "    </tr>\n",
       "    <tr>\n",
       "      <th>Spirit Air Lines</th>\n",
       "      <td>0.001647</td>\n",
       "    </tr>\n",
       "    <tr>\n",
       "      <th>United Air Lines Inc.</th>\n",
       "      <td>0.001464</td>\n",
       "    </tr>\n",
       "    <tr>\n",
       "      <th>Virgin America</th>\n",
       "      <td>0.008998</td>\n",
       "    </tr>\n",
       "  </tbody>\n",
       "</table>\n",
       "</div>"
      ],
      "text/plain": [
       "CANCEL_STATUS              Carrier\n",
       "Airlines                          \n",
       "Alaska Airlines Inc.      0.004280\n",
       "Allegiant Air             0.004142\n",
       "American Airlines Inc.    0.004899\n",
       "Delta Air Lines Inc.      0.000456\n",
       "Endeavor Air Inc.         0.001383\n",
       "Envoy Air                 0.005891\n",
       "ExpressJet Airlines Inc.  0.007588\n",
       "Frontier Airlines Inc.    0.013230\n",
       "Hawaiian Airlines Inc.    0.002823\n",
       "JetBlue Airways           0.004463\n",
       "Mesa Airlines Inc.        0.011179\n",
       "PSA Airlines Inc.         0.016584\n",
       "Republic Airline          0.005957\n",
       "SkyWest Airlines Inc.     0.000944\n",
       "Southwest Airlines Co.    0.003901\n",
       "Spirit Air Lines          0.001647\n",
       "United Air Lines Inc.     0.001464\n",
       "Virgin America            0.008998"
      ]
     },
     "execution_count": 72,
     "metadata": {},
     "output_type": "execute_result"
    }
   ],
   "source": [
    "table4 = df.groupby(['Airlines','CANCEL_STATUS'])['OP_CARRIER_AIRLINE_ID'].count().unstack()\n",
    "table4 = table4.fillna(0)\n",
    "table4['Carrier'] = table4['Carrier']/(table4['Carrier'] + table4['National Air System'] + table4['Not Cancelled'] + \n",
    "                                       table4['Security'] + table4['Weather'])\n",
    "table4 = table4[['Carrier']]\n",
    "table4"
   ]
  },
  {
   "cell_type": "code",
   "execution_count": 73,
   "metadata": {},
   "outputs": [
    {
     "data": {
      "image/png": "[encoded data removed]",
      "text/plain": [
       "<Figure size 576x432 with 1 Axes>"
      ]
     },
     "metadata": {},
     "output_type": "display_data"
    }
   ],
   "source": [
    "table4.sort_values(by='Carrier').plot(kind='bar', figsize=(8,6), color='orange');"
   ]
  },
  {
   "cell_type": "markdown",
   "metadata": {},
   "source": [
    "#### Delta Airlines has the least rate of cancellations due to carrier among all the Airlines although it's one of the biggest airline of the country"
   ]
  },
  {
   "cell_type": "markdown",
   "metadata": {},
   "source": [
    "### Analysis of Flight Delays by Airlines"
   ]
  },
  {
   "cell_type": "code",
   "execution_count": 94,
   "metadata": {},
   "outputs": [
    {
     "data": {
      "text/html": [
       "<div>\n",
       "<style scoped>\n",
       "    .dataframe tbody tr th:only-of-type {\n",
       "        vertical-align: middle;\n",
       "    }\n",
       "\n",
       "    .dataframe tbody tr th {\n",
       "        vertical-align: top;\n",
       "    }\n",
       "\n",
       "    .dataframe thead th {\n",
       "        text-align: right;\n",
       "    }\n",
       "</style>\n",
       "<table border=\"1\" class=\"dataframe\">\n",
       "  <thead>\n",
       "    <tr style=\"text-align: right;\">\n",
       "      <th></th>\n",
       "      <th>CARRIER_DELAY</th>\n",
       "      <th>WEATHER_DELAY</th>\n",
       "      <th>NAS_DELAY</th>\n",
       "      <th>SECURITY_DELAY</th>\n",
       "    </tr>\n",
       "    <tr>\n",
       "      <th>Airlines</th>\n",
       "      <th></th>\n",
       "      <th></th>\n",
       "      <th></th>\n",
       "      <th></th>\n",
       "    </tr>\n",
       "  </thead>\n",
       "  <tbody>\n",
       "    <tr>\n",
       "      <th>Alaska Airlines Inc.</th>\n",
       "      <td>2.195170</td>\n",
       "      <td>0.195421</td>\n",
       "      <td>3.193729</td>\n",
       "      <td>0.029957</td>\n",
       "    </tr>\n",
       "    <tr>\n",
       "      <th>Allegiant Air</th>\n",
       "      <td>6.048445</td>\n",
       "      <td>0.920881</td>\n",
       "      <td>2.324938</td>\n",
       "      <td>0.036857</td>\n",
       "    </tr>\n",
       "    <tr>\n",
       "      <th>American Airlines Inc.</th>\n",
       "      <td>4.074394</td>\n",
       "      <td>0.706286</td>\n",
       "      <td>2.910369</td>\n",
       "      <td>0.024522</td>\n",
       "    </tr>\n",
       "    <tr>\n",
       "      <th>Delta Air Lines Inc.</th>\n",
       "      <td>3.066886</td>\n",
       "      <td>0.767649</td>\n",
       "      <td>2.451972</td>\n",
       "      <td>0.006290</td>\n",
       "    </tr>\n",
       "    <tr>\n",
       "      <th>Endeavor Air Inc.</th>\n",
       "      <td>3.596081</td>\n",
       "      <td>1.012866</td>\n",
       "      <td>3.840202</td>\n",
       "      <td>0.004310</td>\n",
       "    </tr>\n",
       "    <tr>\n",
       "      <th>Envoy Air</th>\n",
       "      <td>2.670970</td>\n",
       "      <td>1.022700</td>\n",
       "      <td>3.242648</td>\n",
       "      <td>0.009257</td>\n",
       "    </tr>\n",
       "    <tr>\n",
       "      <th>ExpressJet Airlines Inc.</th>\n",
       "      <td>5.646128</td>\n",
       "      <td>0.647538</td>\n",
       "      <td>5.073284</td>\n",
       "      <td>0.000000</td>\n",
       "    </tr>\n",
       "    <tr>\n",
       "      <th>Frontier Airlines Inc.</th>\n",
       "      <td>5.764554</td>\n",
       "      <td>0.205463</td>\n",
       "      <td>3.943108</td>\n",
       "      <td>0.000000</td>\n",
       "    </tr>\n",
       "    <tr>\n",
       "      <th>Hawaiian Airlines Inc.</th>\n",
       "      <td>2.987970</td>\n",
       "      <td>0.189223</td>\n",
       "      <td>0.103336</td>\n",
       "      <td>0.016222</td>\n",
       "    </tr>\n",
       "    <tr>\n",
       "      <th>JetBlue Airways</th>\n",
       "      <td>5.941879</td>\n",
       "      <td>0.470106</td>\n",
       "      <td>4.331204</td>\n",
       "      <td>0.029968</td>\n",
       "    </tr>\n",
       "    <tr>\n",
       "      <th>Mesa Airlines Inc.</th>\n",
       "      <td>4.934060</td>\n",
       "      <td>1.259037</td>\n",
       "      <td>2.139740</td>\n",
       "      <td>0.030552</td>\n",
       "    </tr>\n",
       "    <tr>\n",
       "      <th>PSA Airlines Inc.</th>\n",
       "      <td>3.628899</td>\n",
       "      <td>0.860402</td>\n",
       "      <td>2.095215</td>\n",
       "      <td>0.018178</td>\n",
       "    </tr>\n",
       "    <tr>\n",
       "      <th>Republic Airline</th>\n",
       "      <td>2.544671</td>\n",
       "      <td>0.573718</td>\n",
       "      <td>4.086407</td>\n",
       "      <td>0.007705</td>\n",
       "    </tr>\n",
       "    <tr>\n",
       "      <th>SkyWest Airlines Inc.</th>\n",
       "      <td>4.600853</td>\n",
       "      <td>1.188559</td>\n",
       "      <td>2.897623</td>\n",
       "      <td>0.014999</td>\n",
       "    </tr>\n",
       "    <tr>\n",
       "      <th>Southwest Airlines Co.</th>\n",
       "      <td>3.070321</td>\n",
       "      <td>0.260619</td>\n",
       "      <td>1.608480</td>\n",
       "      <td>0.029858</td>\n",
       "    </tr>\n",
       "    <tr>\n",
       "      <th>Spirit Air Lines</th>\n",
       "      <td>2.333696</td>\n",
       "      <td>0.405294</td>\n",
       "      <td>7.063340</td>\n",
       "      <td>0.031075</td>\n",
       "    </tr>\n",
       "    <tr>\n",
       "      <th>United Air Lines Inc.</th>\n",
       "      <td>3.063296</td>\n",
       "      <td>0.790971</td>\n",
       "      <td>4.238385</td>\n",
       "      <td>0.000488</td>\n",
       "    </tr>\n",
       "    <tr>\n",
       "      <th>Virgin America</th>\n",
       "      <td>3.004471</td>\n",
       "      <td>0.103226</td>\n",
       "      <td>4.575438</td>\n",
       "      <td>0.045331</td>\n",
       "    </tr>\n",
       "  </tbody>\n",
       "</table>\n",
       "</div>"
      ],
      "text/plain": [
       "                          CARRIER_DELAY  WEATHER_DELAY  NAS_DELAY  \\\n",
       "Airlines                                                            \n",
       "Alaska Airlines Inc.           2.195170       0.195421   3.193729   \n",
       "Allegiant Air                  6.048445       0.920881   2.324938   \n",
       "American Airlines Inc.         4.074394       0.706286   2.910369   \n",
       "Delta Air Lines Inc.           3.066886       0.767649   2.451972   \n",
       "Endeavor Air Inc.              3.596081       1.012866   3.840202   \n",
       "Envoy Air                      2.670970       1.022700   3.242648   \n",
       "ExpressJet Airlines Inc.       5.646128       0.647538   5.073284   \n",
       "Frontier Airlines Inc.         5.764554       0.205463   3.943108   \n",
       "Hawaiian Airlines Inc.         2.987970       0.189223   0.103336   \n",
       "JetBlue Airways                5.941879       0.470106   4.331204   \n",
       "Mesa Airlines Inc.             4.934060       1.259037   2.139740   \n",
       "PSA Airlines Inc.              3.628899       0.860402   2.095215   \n",
       "Republic Airline               2.544671       0.573718   4.086407   \n",
       "SkyWest Airlines Inc.          4.600853       1.188559   2.897623   \n",
       "Southwest Airlines Co.         3.070321       0.260619   1.608480   \n",
       "Spirit Air Lines               2.333696       0.405294   7.063340   \n",
       "United Air Lines Inc.          3.063296       0.790971   4.238385   \n",
       "Virgin America                 3.004471       0.103226   4.575438   \n",
       "\n",
       "                          SECURITY_DELAY  \n",
       "Airlines                                  \n",
       "Alaska Airlines Inc.            0.029957  \n",
       "Allegiant Air                   0.036857  \n",
       "American Airlines Inc.          0.024522  \n",
       "Delta Air Lines Inc.            0.006290  \n",
       "Endeavor Air Inc.               0.004310  \n",
       "Envoy Air                       0.009257  \n",
       "ExpressJet Airlines Inc.        0.000000  \n",
       "Frontier Airlines Inc.          0.000000  \n",
       "Hawaiian Airlines Inc.          0.016222  \n",
       "JetBlue Airways                 0.029968  \n",
       "Mesa Airlines Inc.              0.030552  \n",
       "PSA Airlines Inc.               0.018178  \n",
       "Republic Airline                0.007705  \n",
       "SkyWest Airlines Inc.           0.014999  \n",
       "Southwest Airlines Co.          0.029858  \n",
       "Spirit Air Lines                0.031075  \n",
       "United Air Lines Inc.           0.000488  \n",
       "Virgin America                  0.045331  "
      ]
     },
     "execution_count": 94,
     "metadata": {},
     "output_type": "execute_result"
    }
   ],
   "source": [
    "table5 = df.groupby(['Airlines'])['CARRIER_DELAY','WEATHER_DELAY', 'NAS_DELAY', 'SECURITY_DELAY'].mean()\n",
    "table5"
   ]
  },
  {
   "cell_type": "code",
   "execution_count": 95,
   "metadata": {},
   "outputs": [
    {
     "data": {
      "image/png": "[encoded data removed]",
      "text/plain": [
       "<Figure size 576x864 with 2 Axes>"
      ]
     },
     "metadata": {},
     "output_type": "display_data"
    }
   ],
   "source": [
    "plt.figure(figsize=(8,12))\n",
    "sns.heatmap(table5, cmap='YlGnBu', annot=True, fmt='0.1f', square=True, linewidths=1);"
   ]
  },
  {
   "cell_type": "markdown",
   "metadata": {},
   "source": [
    "#### From our analysis before we already know that Carrier is the major factor in Delays. We can see the average carrier delay time is in the range of 2-6 min/flight for all the Airlines "
   ]
  },
  {
   "cell_type": "markdown",
   "metadata": {},
   "source": [
    "### Analysis of Flight Delays by Carrier"
   ]
  },
  {
   "cell_type": "code",
   "execution_count": 97,
   "metadata": {},
   "outputs": [
    {
     "data": {
      "text/html": [
       "<div>\n",
       "<style scoped>\n",
       "    .dataframe tbody tr th:only-of-type {\n",
       "        vertical-align: middle;\n",
       "    }\n",
       "\n",
       "    .dataframe tbody tr th {\n",
       "        vertical-align: top;\n",
       "    }\n",
       "\n",
       "    .dataframe thead th {\n",
       "        text-align: right;\n",
       "    }\n",
       "</style>\n",
       "<table border=\"1\" class=\"dataframe\">\n",
       "  <thead>\n",
       "    <tr style=\"text-align: right;\">\n",
       "      <th></th>\n",
       "      <th>CARRIER_DELAY</th>\n",
       "    </tr>\n",
       "    <tr>\n",
       "      <th>Airlines</th>\n",
       "      <th></th>\n",
       "    </tr>\n",
       "  </thead>\n",
       "  <tbody>\n",
       "    <tr>\n",
       "      <th>Alaska Airlines Inc.</th>\n",
       "      <td>2.195170</td>\n",
       "    </tr>\n",
       "    <tr>\n",
       "      <th>Allegiant Air</th>\n",
       "      <td>6.048445</td>\n",
       "    </tr>\n",
       "    <tr>\n",
       "      <th>American Airlines Inc.</th>\n",
       "      <td>4.074394</td>\n",
       "    </tr>\n",
       "    <tr>\n",
       "      <th>Delta Air Lines Inc.</th>\n",
       "      <td>3.066886</td>\n",
       "    </tr>\n",
       "    <tr>\n",
       "      <th>Endeavor Air Inc.</th>\n",
       "      <td>3.596081</td>\n",
       "    </tr>\n",
       "    <tr>\n",
       "      <th>Envoy Air</th>\n",
       "      <td>2.670970</td>\n",
       "    </tr>\n",
       "    <tr>\n",
       "      <th>ExpressJet Airlines Inc.</th>\n",
       "      <td>5.646128</td>\n",
       "    </tr>\n",
       "    <tr>\n",
       "      <th>Frontier Airlines Inc.</th>\n",
       "      <td>5.764554</td>\n",
       "    </tr>\n",
       "    <tr>\n",
       "      <th>Hawaiian Airlines Inc.</th>\n",
       "      <td>2.987970</td>\n",
       "    </tr>\n",
       "    <tr>\n",
       "      <th>JetBlue Airways</th>\n",
       "      <td>5.941879</td>\n",
       "    </tr>\n",
       "    <tr>\n",
       "      <th>Mesa Airlines Inc.</th>\n",
       "      <td>4.934060</td>\n",
       "    </tr>\n",
       "    <tr>\n",
       "      <th>PSA Airlines Inc.</th>\n",
       "      <td>3.628899</td>\n",
       "    </tr>\n",
       "    <tr>\n",
       "      <th>Republic Airline</th>\n",
       "      <td>2.544671</td>\n",
       "    </tr>\n",
       "    <tr>\n",
       "      <th>SkyWest Airlines Inc.</th>\n",
       "      <td>4.600853</td>\n",
       "    </tr>\n",
       "    <tr>\n",
       "      <th>Southwest Airlines Co.</th>\n",
       "      <td>3.070321</td>\n",
       "    </tr>\n",
       "    <tr>\n",
       "      <th>Spirit Air Lines</th>\n",
       "      <td>2.333696</td>\n",
       "    </tr>\n",
       "    <tr>\n",
       "      <th>United Air Lines Inc.</th>\n",
       "      <td>3.063296</td>\n",
       "    </tr>\n",
       "    <tr>\n",
       "      <th>Virgin America</th>\n",
       "      <td>3.004471</td>\n",
       "    </tr>\n",
       "  </tbody>\n",
       "</table>\n",
       "</div>"
      ],
      "text/plain": [
       "                          CARRIER_DELAY\n",
       "Airlines                               \n",
       "Alaska Airlines Inc.           2.195170\n",
       "Allegiant Air                  6.048445\n",
       "American Airlines Inc.         4.074394\n",
       "Delta Air Lines Inc.           3.066886\n",
       "Endeavor Air Inc.              3.596081\n",
       "Envoy Air                      2.670970\n",
       "ExpressJet Airlines Inc.       5.646128\n",
       "Frontier Airlines Inc.         5.764554\n",
       "Hawaiian Airlines Inc.         2.987970\n",
       "JetBlue Airways                5.941879\n",
       "Mesa Airlines Inc.             4.934060\n",
       "PSA Airlines Inc.              3.628899\n",
       "Republic Airline               2.544671\n",
       "SkyWest Airlines Inc.          4.600853\n",
       "Southwest Airlines Co.         3.070321\n",
       "Spirit Air Lines               2.333696\n",
       "United Air Lines Inc.          3.063296\n",
       "Virgin America                 3.004471"
      ]
     },
     "execution_count": 97,
     "metadata": {},
     "output_type": "execute_result"
    }
   ],
   "source": [
    "table5 = table5[['CARRIER_DELAY']]\n",
    "table5"
   ]
  },
  {
   "cell_type": "code",
   "execution_count": 99,
   "metadata": {},
   "outputs": [
    {
     "data": {
      "image/png": "[encoded data removed]",
      "text/plain": [
       "<Figure size 576x432 with 1 Axes>"
      ]
     },
     "metadata": {},
     "output_type": "display_data"
    }
   ],
   "source": [
    "table5.sort_values(by='CARRIER_DELAY').plot(kind='bar', figsize=(8,6), color='green');"
   ]
  },
  {
   "cell_type": "markdown",
   "metadata": {},
   "source": [
    "#### Alaska Airlines has the least average carrier delay time per flight where as Allegiant Air has the highest carrier delay. Also, we can note that Delta that performed the best for carrier cancellations is not among the top performers for carrier delays"
   ]
  },
  {
   "cell_type": "markdown",
   "metadata": {},
   "source": [
    "### Analysis of Top 10 Busiest Airports"
   ]
  },
  {
   "cell_type": "code",
   "execution_count": 32,
   "metadata": {
    "scrolled": true
   },
   "outputs": [
    {
     "data": {
      "text/plain": [
       "(358,)"
      ]
     },
     "execution_count": 32,
     "metadata": {},
     "output_type": "execute_result"
    }
   ],
   "source": [
    "df['ORIGIN'].value_counts().shape"
   ]
  },
  {
   "cell_type": "markdown",
   "metadata": {},
   "source": [
    "There are 358 Airports in total in the US"
   ]
  },
  {
   "cell_type": "code",
   "execution_count": 33,
   "metadata": {},
   "outputs": [
    {
     "data": {
      "text/plain": [
       "ATL    391140\n",
       "ORD    333763\n",
       "DFW    280032\n",
       "DEN    236612\n",
       "CLT    233927\n",
       "LAX    222089\n",
       "SFO    176318\n",
       "PHX    174462\n",
       "IAH    174267\n",
       "LGA    171540\n",
       "Name: ORIGIN, dtype: int64"
      ]
     },
     "execution_count": 33,
     "metadata": {},
     "output_type": "execute_result"
    }
   ],
   "source": [
    "df['ORIGIN'].value_counts().head(10)"
   ]
  },
  {
   "cell_type": "markdown",
   "metadata": {},
   "source": [
    "**These are the top 10 busiest Airports. Atlanta is the busiest of all.**"
   ]
  },
  {
   "cell_type": "markdown",
   "metadata": {},
   "source": [
    "### Cancellations & Delays at Atlanta Airport"
   ]
  },
  {
   "cell_type": "code",
   "execution_count": 1,
   "metadata": {},
   "outputs": [],
   "source": [
    "df_atl = df[df['ORIGIN'] == 'ATL']"
   ]
  },
  {
   "cell_type": "code",
   "execution_count": 37,
   "metadata": {},
   "outputs": [
    {
     "data": {
      "text/plain": [
       "Weather                1637\n",
       "Carrier                 525\n",
       "National Air System     382\n",
       "Name: CANCEL_STATUS, dtype: int64"
      ]
     },
     "execution_count": 37,
     "metadata": {},
     "output_type": "execute_result"
    }
   ],
   "source": [
    "factors_atl = df_atl['CANCEL_STATUS'][df['CANCEL_STATUS']!='Not Cancelled'].value_counts()\n",
    "factors_atl"
   ]
  },
  {
   "cell_type": "code",
   "execution_count": 39,
   "metadata": {
    "scrolled": true
   },
   "outputs": [
    {
     "data": {
      "image/png": "[encoded data removed]",
      "text/plain": [
       "<Figure size 504x360 with 1 Axes>"
      ]
     },
     "metadata": {},
     "output_type": "display_data"
    }
   ],
   "source": [
    "plt.figure(figsize=(7,5))\n",
    "sns.barplot(factors_atl.index, factors_atl.values, alpha=0.8, color=color[2])\n",
    "plt.xlabel('Factors', fontsize=12)\n",
    "plt.ylabel('Number of Cancelled Flights', fontsize=12)\n",
    "plt.title('Cancellation Factors at ATL Airport')\n",
    "plt.show()"
   ]
  },
  {
   "cell_type": "code",
   "execution_count": 41,
   "metadata": {},
   "outputs": [
    {
     "data": {
      "image/png": "[encoded data removed]",
      "text/plain": [
       "<Figure size 432x288 with 1 Axes>"
      ]
     },
     "metadata": {},
     "output_type": "display_data"
    }
   ],
   "source": [
    "df3 = pd.DataFrame({'lab':['CARRIER_DELAY','WEATHER_DELAY', 'NAS_DELAY', 'SECURITY_DELAY'], \n",
    "                    'val':[df_atl['CARRIER_DELAY'].mean(), df_atl['WEATHER_DELAY'].mean(), df_atl['NAS_DELAY'].mean(), df_atl['SECURITY_DELAY'].mean()]})\n",
    "ax = df3.plot.bar(x='lab', y='val', rot=0)"
   ]
  },
  {
   "cell_type": "markdown",
   "metadata": {},
   "source": [
    "**Weather is the major factor for cancellations and Carrier the major factor for Delays at Atlanta Airport. This aligns pretty well to our previous analysis.**"
   ]
  },
  {
   "cell_type": "markdown",
   "metadata": {},
   "source": [
    "### Comparsion of Delay factors across the top 10 busiest Airports"
   ]
  },
  {
   "cell_type": "code",
   "execution_count": null,
   "metadata": {},
   "outputs": [],
   "source": [
    "df4 = pd.DataFrame({'lab':['ATL','ORD', 'DFW', 'DEN', 'CLT', 'LAX', 'SFO', 'PHX', 'IAH', 'LGA'], \n",
    "                    'val':[df['SECURITY_DELAY'][df['ORIGIN'] == 'ATL'].mean(), df['SECURITY_DELAY'][df['ORIGIN'] == 'ORD'].mean(), df['SECURITY_DELAY'][df['ORIGIN'] == 'DFW'].mean(), df['SECURITY_DELAY'][df['ORIGIN'] == 'DEN'].mean(),\n",
    "                          df['SECURITY_DELAY'][df['ORIGIN'] == 'CLT'].mean(), df['SECURITY_DELAY'][df['ORIGIN'] == 'LAX'].mean(), df['SECURITY_DELAY'][df['ORIGIN'] == 'SFO'].mean(), df['SECURITY_DELAY'][df['ORIGIN'] == 'PHX'].mean(), \n",
    "                          df['SECURITY_DELAY'][df['ORIGIN'] == 'IAH'].mean(), df['SECURITY_DELAY'][df['ORIGIN'] == 'LGA'].mean()]\n",
    "                    \n",
    "df5 = pd.DataFrame({'lab':['ATL','ORD', 'DFW', 'DEN', 'CLT', 'LAX', 'SFO', 'PHX', 'IAH', 'LGA'], \n",
    "                    'val':[df['CARRIER_DELAY'][df['ORIGIN'] == 'ATL'].mean(), df['CARRIER_DELAY'][df['ORIGIN'] == 'ORD'].mean(), df['CARRIER_DELAY'][df['ORIGIN'] == 'DFW'].mean(), df['CARRIER_DELAY'][df['ORIGIN'] == 'DEN'].mean(),\n",
    "                          df['CARRIER_DELAY'][df['ORIGIN'] == 'CLT'].mean(), df['CARRIER_DELAY'][df['ORIGIN'] == 'LAX'].mean(), df['CARRIER_DELAY'][df['ORIGIN'] == 'SFO'].mean(), df['CARRIER_DELAY'][df['ORIGIN'] == 'PHX'].mean(), \n",
    "                          df['CARRIER_DELAY'][df['ORIGIN'] == 'IAH'].mean(), df['CARRIER_DELAY'][df['ORIGIN'] == 'LGA'].mean()]})\n",
    "                    \n",
    "df6 = pd.DataFrame({'lab':['ATL','ORD', 'DFW', 'DEN', 'CLT', 'LAX', 'SFO', 'PHX', 'IAH', 'LGA'], \n",
    "                    'val':[df['WEATHER_DELAY'][df['ORIGIN'] == 'ATL'].mean(), df['WEATHER_DELAY'][df['ORIGIN'] == 'ORD'].mean(), df['WEATHER_DELAY'][df['ORIGIN'] == 'DFW'].mean(), df['WEATHER_DELAY'][df['ORIGIN'] == 'DEN'].mean(),\n",
    "                          df['WEATHER_DELAY'][df['ORIGIN'] == 'CLT'].mean(), df['WEATHER_DELAY'][df['ORIGIN'] == 'LAX'].mean(), df['WEATHER_DELAY'][df['ORIGIN'] == 'SFO'].mean(), df['WEATHER_DELAY'][df['ORIGIN'] == 'PHX'].mean(), \n",
    "                          df['WEATHER_DELAY'][df['ORIGIN'] == 'IAH'].mean(), df['WEATHER_DELAY'][df['ORIGIN'] == 'LGA'].mean()]})\n",
    "\n",
    "df7 = pd.DataFrame({'lab':['ATL','ORD', 'DFW', 'DEN', 'CLT', 'LAX', 'SFO', 'PHX', 'IAH', 'LGA'], \n",
    "                    'val':[df['NAS_DELAY'][df['ORIGIN'] == 'ATL'].mean(), df['NAS_DELAY'][df['ORIGIN'] == 'ORD'].mean(), df['NAS_DELAY'][df['ORIGIN'] == 'DFW'].mean(), df['NAS_DELAY'][df['ORIGIN'] == 'DEN'].mean(),\n",
    "                          df['NAS_DELAY'][df['ORIGIN'] == 'CLT'].mean(), df['NAS_DELAY'][df['ORIGIN'] == 'LAX'].mean(), df['NAS_DELAY'][df['ORIGIN'] == 'SFO'].mean(), df['NAS_DELAY'][df['ORIGIN'] == 'PHX'].mean(), \n",
    "                          df['NAS_DELAY'][df['ORIGIN'] == 'IAH'].mean(), df['NAS_DELAY'][df['ORIGIN'] == 'LGA'].mean()]})\n"
   ]
  },
  {
   "cell_type": "code",
   "execution_count": 128,
   "metadata": {
    "scrolled": true
   },
   "outputs": [
    {
     "data": {
      "image/png": "[encoded data removed]",
      "text/plain": [
       "<Figure size 864x576 with 4 Axes>"
      ]
     },
     "metadata": {},
     "output_type": "display_data"
    }
   ],
   "source": [
    "sns.set_style('darkgrid')\n",
    "fig, ax = plt.subplots(2, 2, figsize=(12,8), sharex=True)\n",
    "\n",
    "df4.plot(x='lab', y='val', color='green', kind='bar', ax=ax[0,0], legend=False)\n",
    "ax[0,0].set_ylabel('Security Delay per flight', fontsize=14)\n",
    "\n",
    "df5.plot(x='lab', y='val', color='Red', kind='bar', ax=ax[0,1], legend=False)\n",
    "ax[0,1].set_ylabel('Carrier Delay per flight', fontsize=14)\n",
    "\n",
    "df6.plot(x='lab', y='val', color='blue', kind='bar', ax=ax[1,0], legend=False)\n",
    "ax[1,0].set_xlabel('Origin Airport', fontsize=14)\n",
    "ax[1,0].set_ylabel('Weather Delay per flight', fontsize=14)\n",
    "\n",
    "df7.plot(x='lab', y='val', color='orange', kind='bar', ax=ax[1,1], legend=False)\n",
    "ax[1,1].set_xlabel('Origin Airport', fontsize=14)\n",
    "ax[1,1].set_ylabel('NAS Delay per flight', fontsize=14)\n",
    "\n",
    "fig.suptitle('Comparison of different delays at the Top 10 Busiest Airports', fontsize=18) \n",
    "plt.tight_layout()\n",
    "fig.subplots_adjust(top=0.92);"
   ]
  },
  {
   "cell_type": "markdown",
   "metadata": {},
   "source": [
    "- **Security delay is the major factor that we can attribute to Airports. Except for Phoenix, we can see that all the busy Airports are having a very minimal security delay per flight.**\n",
    "- **We generally expect Carrier Delay to be independant of Airports and we can see from above that the Carrier delay per flight is consistent among the busiest Airports. This also agrees with our prior analysis where we saw that average carrier delay is independant of the region in the US.**\n",
    "- **Los Angeles, San Fransisco and Phoenix Airports have the least weather delay per flight among the busy airports. We can attribute this to our prior finding that Western Regions have less weather delay compared to other regions.**\n",
    "- **NAS Delay per flight is also consistent among the busy Airports except for CRD and LGA Airports..**"
   ]
  },
  {
   "cell_type": "markdown",
   "metadata": {},
   "source": [
    "## Summary"
   ]
  },
  {
   "cell_type": "markdown",
   "metadata": {},
   "source": [
    "**We have downloaded and scrapped the airline data, lookup tables, holiday data and season information from their respective mentioned websites. Then, we have done our data concatination, merging and transformation operations to get our final data frame. We then handled the missing values to start our analysis.**\n",
    "\n",
    "**We analyzed factors that lead to delays and cancellations of flights in the United States. The factors that have been analysed are Seasons, months, day of the week, holidays, origin airports, reasons for cancellations/delays, regions and Airlines.**"
   ]
  },
  {
   "cell_type": "markdown",
   "metadata": {},
   "source": [
    "**The main findings from our analysis are :**\n",
    "\n",
    "- **Weather is the main factor for flight cancellations in the United States.**\n",
    "- **Weather is the major factor for cancellations across all the regions except for West. SouthEast followed by NorthEast have the highest flight cancellations due to weather and we expect this due to inclement weather in these regrions.**\n",
    "- **Unlike the case of Cancellations, Weather doesn't seem to be an important factor for Delays. Carriers and NAS are the most prominent factors affecting the delay time.**\n",
    "- **Among the delayed flights, average carrier delay is the highest compared to other delays across all the regions. And interestingly this average carrier delay time is almost the same across all the regions.**\n",
    "- **Delta Airlines has the least rate of cancellations due to carrier among all the Airlines though it's one of the biggest airline of the country.**\n",
    "- **Average carrier delay time is in the range of 2-6 min/flight for all the Airlines.**\n",
    "- **Alaska Airlines has the least average carrier delay time per flight where as Allegiant Air has the highest carrier delay. Delta that performed the best for carrier cancellations is not among the top performers for carrier delays but it's carrier delay time is still considerably low.**\n",
    "- **Except for Phoenix, all the busy Airports are ensuring a very minimal security delay per flight.**\n",
    "- **The busy Airports in the Western side of the US have less weather delay compared to the busy Airports in the other regions.**"
   ]
  }
 ],
 "metadata": {
  "kernelspec": {
   "display_name": "Python 3",
   "language": "python",
   "name": "python3"
  },
  "language_info": {
   "codemirror_mode": {
    "name": "ipython",
    "version": 3
   },
   "file_extension": ".py",
   "mimetype": "text/x-python",
   "name": "python",
   "nbconvert_exporter": "python",
   "pygments_lexer": "ipython3",
   "version": "3.6.5"
  }
 },
 "nbformat": 4,
 "nbformat_minor": 2
}
